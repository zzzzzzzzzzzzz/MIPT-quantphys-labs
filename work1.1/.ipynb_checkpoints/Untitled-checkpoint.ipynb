{
 "cells": [
  {
   "cell_type": "markdown",
   "metadata": {},
   "source": [
    "# Лабараторная работа 1.1\n",
    "## Экспериментальная проверка уравнения Эйнштейна для фотоэффекта\n",
    "Фотоэффект – испускание электронов фотокатодом, облучаемых светом хорошо объясняется фотонной теорией света: фотон с энергией $\\hbar \\omega$ выбивает электрон из поверхности металла и сообщает электрону кинетическую энергию.\n",
    "$$\\hbar \\omega = W + E_{max}$$\n",
    "* $W$ работа выхода электрона из катода\n",
    "* $E_{max}$ max кинетическая энергия электрона после выхода из фотокатода\n"
   ]
  },
  {
   "cell_type": "code",
   "execution_count": 346,
   "metadata": {
    "collapsed": false
   },
   "outputs": [],
   "source": [
    "# -*- coding: utf-8 -*-\n",
    "import matplotlib.pyplot as plt\n",
    "%matplotlib inline\n",
    "import numpy as np\n",
    "import pandas as pd\n",
    "import math as math"
   ]
  },
  {
   "cell_type": "markdown",
   "metadata": {},
   "source": [
    "### Шаг 1\n",
    "Построим график калибровки барабана монохроматора по спектру неоновой лампы"
   ]
  },
  {
   "cell_type": "code",
   "execution_count": 333,
   "metadata": {
    "collapsed": false
   },
   "outputs": [],
   "source": [
    "graduation = pd.read_csv(\"graduation.csv\")"
   ]
  },
  {
   "cell_type": "code",
   "execution_count": 334,
   "metadata": {
    "collapsed": false
   },
   "outputs": [
    {
     "data": {
      "text/html": [
       "<div style=\"max-height:1000px;max-width:1500px;overflow:auto;\">\n",
       "<table border=\"1\" class=\"dataframe\">\n",
       "  <thead>\n",
       "    <tr style=\"text-align: right;\">\n",
       "      <th></th>\n",
       "      <th>N линии</th>\n",
       "      <th>λ, нм</th>\n",
       "      <th>°</th>\n",
       "    </tr>\n",
       "  </thead>\n",
       "  <tbody>\n",
       "    <tr>\n",
       "      <th>0</th>\n",
       "      <td> 15</td>\n",
       "      <td> 614.3</td>\n",
       "      <td> 2297</td>\n",
       "    </tr>\n",
       "    <tr>\n",
       "      <th>1</th>\n",
       "      <td> 16</td>\n",
       "      <td> 609.6</td>\n",
       "      <td> 2276</td>\n",
       "    </tr>\n",
       "    <tr>\n",
       "      <th>2</th>\n",
       "      <td> 17</td>\n",
       "      <td> 607.4</td>\n",
       "      <td> 2268</td>\n",
       "    </tr>\n",
       "    <tr>\n",
       "      <th>3</th>\n",
       "      <td> 18</td>\n",
       "      <td> 603.0</td>\n",
       "      <td> 2249</td>\n",
       "    </tr>\n",
       "    <tr>\n",
       "      <th>4</th>\n",
       "      <td> 19</td>\n",
       "      <td> 597.6</td>\n",
       "      <td> 2225</td>\n",
       "    </tr>\n",
       "    <tr>\n",
       "      <th>5</th>\n",
       "      <td> 20</td>\n",
       "      <td> 594.5</td>\n",
       "      <td> 2202</td>\n",
       "    </tr>\n",
       "    <tr>\n",
       "      <th>6</th>\n",
       "      <td> 21</td>\n",
       "      <td> 588.2</td>\n",
       "      <td> 2176</td>\n",
       "    </tr>\n",
       "    <tr>\n",
       "      <th>7</th>\n",
       "      <td> 22</td>\n",
       "      <td> 585.2</td>\n",
       "      <td> 2159</td>\n",
       "    </tr>\n",
       "  </tbody>\n",
       "</table>\n",
       "</div>"
      ],
      "text/plain": [
       "   N линии  λ, нм     °\n",
       "0       15  614.3  2297\n",
       "1       16  609.6  2276\n",
       "2       17  607.4  2268\n",
       "3       18  603.0  2249\n",
       "4       19  597.6  2225\n",
       "5       20  594.5  2202\n",
       "6       21  588.2  2176\n",
       "7       22  585.2  2159"
      ]
     },
     "execution_count": 334,
     "metadata": {},
     "output_type": "execute_result"
    }
   ],
   "source": [
    "graduation"
   ]
  },
  {
   "cell_type": "code",
   "execution_count": 335,
   "metadata": {
    "collapsed": false
   },
   "outputs": [],
   "source": [
    "gradnp = graduation.values"
   ]
  },
  {
   "cell_type": "code",
   "execution_count": 336,
   "metadata": {
    "collapsed": false
   },
   "outputs": [
    {
     "data": {
      "image/png": "[encoded data removed]",
      "text/plain": [
       "<matplotlib.figure.Figure at 0x7ffb64761c90>"
      ]
     },
     "metadata": {},
     "output_type": "display_data"
    }
   ],
   "source": [
    "gradnp = graduation.values\n",
    "\n",
    "plt.figure(1)\n",
    "\n",
    "# calculate polynomial\n",
    "x = gradnp.T[2]\n",
    "y = gradnp.T[1]\n",
    "z = np.polyfit(x, y, 1)\n",
    "func = np.poly1d(z)\n",
    "\n",
    "# calculate new x's and y's\n",
    "x_new = np.linspace(x[0], x[-1], 50)\n",
    "y_new = func(x_new)\n",
    "\n",
    "#sugar\n",
    "plt.xlim([x[0]-1, x[-1] + 1 ])\n",
    "plt.xlabel(u'°, degrees')\n",
    "plt.ylabel(u'$\\lambda$ nm')\n",
    "plt.title(u'The calibration of the monochromator')\n",
    "plt.grid(True)\n",
    "\n",
    "#plot\n",
    "plt.plot(x,y,'o', x_new, y_new)\n",
    "plt.show()"
   ]
  },
  {
   "cell_type": "markdown",
   "metadata": {},
   "source": [
    "Благодаря вычисленной функции можем выяснить длины волн, которых не хватало, а именно длин волн при 2100 и 2180 градусах."
   ]
  },
  {
   "cell_type": "code",
   "execution_count": 337,
   "metadata": {
    "collapsed": false
   },
   "outputs": [
    {
     "data": {
      "text/plain": [
       "572.44415141624916"
      ]
     },
     "execution_count": 337,
     "metadata": {},
     "output_type": "execute_result"
    }
   ],
   "source": [
    "func(2100)"
   ]
  },
  {
   "cell_type": "code",
   "execution_count": 338,
   "metadata": {
    "collapsed": false
   },
   "outputs": [
    {
     "data": {
      "text/plain": [
       "589.19295663830303"
      ]
     },
     "execution_count": 338,
     "metadata": {},
     "output_type": "execute_result"
    }
   ],
   "source": [
    "func(2180)"
   ]
  },
  {
   "cell_type": "code",
   "execution_count": 363,
   "metadata": {
    "collapsed": true
   },
   "outputs": [],
   "source": [
    "lambda603 = pd.read_csv(\"603lambda.csv\")\n",
    "lambda597 = pd.read_csv(\"597.6lambda.csv\")\n",
    "lambda589 = pd.read_csv(\"2180gradlambda.csv\")\n",
    "lambda585 = pd.read_csv(\"585.2lambda.csv\")\n",
    "lambda572 = pd.read_csv(\"2100gradlambda.csv\")"
   ]
  },
  {
   "cell_type": "markdown",
   "metadata": {},
   "source": [
    "При построении графиков также стоит учесть, что при закрытых щелях вольтметр показывал ненулевое напряжение в 0.07"
   ]
  },
  {
   "cell_type": "code",
   "execution_count": 364,
   "metadata": {
    "collapsed": false
   },
   "outputs": [],
   "source": [
    "#f - функция, right - правая граница, left - левая граница, y - искомое значение функции, accuracy -точность\n",
    "def binary_search(f, left, right, y, accuracy = 0.001):\n",
    "    if (accuracy > 0.1):\n",
    "        return \"please choose valid accuracy\"\n",
    "    while right-left > accuracy:\n",
    "        mid = (left + right) / 2\n",
    "        if f(mid) < y:\n",
    "            left = mid\n",
    "        else:\n",
    "            right = mid\n",
    "    return (left + right) / 2\n",
    "           "
   ]
  },
  {
   "cell_type": "code",
   "execution_count": 365,
   "metadata": {
    "collapsed": false
   },
   "outputs": [],
   "source": [
    "tensions = [[],[]]\n",
    "cspeed = 2.99792458"
   ]
  },
  {
   "cell_type": "code",
   "execution_count": 399,
   "metadata": {
    "collapsed": false
   },
   "outputs": [
    {
     "data": {
      "text/html": [
       "<div style=\"max-height:1000px;max-width:1500px;overflow:auto;\">\n",
       "<table border=\"1\" class=\"dataframe\">\n",
       "  <thead>\n",
       "    <tr style=\"text-align: right;\">\n",
       "      <th></th>\n",
       "      <th>⟨Vфотоэл⟩, В</th>\n",
       "      <th>V ∝ I, В</th>\n",
       "    </tr>\n",
       "  </thead>\n",
       "  <tbody>\n",
       "    <tr>\n",
       "      <th>0 </th>\n",
       "      <td> 6.892</td>\n",
       "      <td> 0.452</td>\n",
       "    </tr>\n",
       "    <tr>\n",
       "      <th>1 </th>\n",
       "      <td> 6.365</td>\n",
       "      <td> 0.441</td>\n",
       "    </tr>\n",
       "    <tr>\n",
       "      <th>2 </th>\n",
       "      <td> 5.278</td>\n",
       "      <td> 0.406</td>\n",
       "    </tr>\n",
       "    <tr>\n",
       "      <th>3 </th>\n",
       "      <td> 4.044</td>\n",
       "      <td> 0.320</td>\n",
       "    </tr>\n",
       "    <tr>\n",
       "      <th>4 </th>\n",
       "      <td> 3.457</td>\n",
       "      <td> 0.284</td>\n",
       "    </tr>\n",
       "    <tr>\n",
       "      <th>5 </th>\n",
       "      <td> 3.020</td>\n",
       "      <td> 0.235</td>\n",
       "    </tr>\n",
       "    <tr>\n",
       "      <th>6 </th>\n",
       "      <td> 2.517</td>\n",
       "      <td> 0.161</td>\n",
       "    </tr>\n",
       "    <tr>\n",
       "      <th>7 </th>\n",
       "      <td> 1.512</td>\n",
       "      <td> 0.041</td>\n",
       "    </tr>\n",
       "    <tr>\n",
       "      <th>8 </th>\n",
       "      <td> 1.251</td>\n",
       "      <td> 0.046</td>\n",
       "    </tr>\n",
       "    <tr>\n",
       "      <th>9 </th>\n",
       "      <td> 0.880</td>\n",
       "      <td> 0.035</td>\n",
       "    </tr>\n",
       "    <tr>\n",
       "      <th>10</th>\n",
       "      <td> 0.640</td>\n",
       "      <td> 0.033</td>\n",
       "    </tr>\n",
       "    <tr>\n",
       "      <th>11</th>\n",
       "      <td> 0.280</td>\n",
       "      <td> 0.016</td>\n",
       "    </tr>\n",
       "    <tr>\n",
       "      <th>12</th>\n",
       "      <td> 0.015</td>\n",
       "      <td> 0.010</td>\n",
       "    </tr>\n",
       "  </tbody>\n",
       "</table>\n",
       "</div>"
      ],
      "text/plain": [
       "    ⟨Vфотоэл⟩, В  V ∝ I, В\n",
       "0          6.892     0.452\n",
       "1          6.365     0.441\n",
       "2          5.278     0.406\n",
       "3          4.044     0.320\n",
       "4          3.457     0.284\n",
       "5          3.020     0.235\n",
       "6          2.517     0.161\n",
       "7          1.512     0.041\n",
       "8          1.251     0.046\n",
       "9          0.880     0.035\n",
       "10         0.640     0.033\n",
       "11         0.280     0.016\n",
       "12         0.015     0.010"
      ]
     },
     "execution_count": 399,
     "metadata": {},
     "output_type": "execute_result"
    }
   ],
   "source": [
    "lambda603"
   ]
  },
  {
   "cell_type": "code",
   "execution_count": 400,
   "metadata": {
    "collapsed": false
   },
   "outputs": [
    {
     "data": {
      "image/png": "[encoded data removed]",
      "text/plain": [
       "<matplotlib.figure.Figure at 0x7ffb648a2f90>"
      ]
     },
     "metadata": {},
     "output_type": "display_data"
    },
    {
     "data": {
      "image/png": "[encoded data removed]",
      "text/plain": [
       "<matplotlib.figure.Figure at 0x7ffb641c94d0>"
      ]
     },
     "metadata": {},
     "output_type": "display_data"
    }
   ],
   "source": [
    "plt.figure(1)\n",
    "plt.subplot(111)\n",
    "data = lambda603.values\n",
    "\n",
    "# calculate polynomial\n",
    "x = data.T[0] - 0.07\n",
    "y = data.T[1]\n",
    "\n",
    "#sugar\n",
    "plt.xlim([x[-1]-1, x[0]+1 ])\n",
    "plt.xlabel(u'$V_{photoelem}$, Volts')\n",
    "plt.ylabel(u'$V \\propto I$')\n",
    "plt.title(u'$\\lambda$=603nm dots')\n",
    "plt.grid(True)\n",
    "\n",
    "#plot\n",
    "plt.plot(x,y,'o')\n",
    "plt.show()\n",
    "\n",
    "\n",
    "#linear**********\n",
    "plt.subplot(111)\n",
    "data = lambda603[6:].values\n",
    "\n",
    "# calculate polynomial\n",
    "x = data.T[0] - 0.07\n",
    "y = np.sqrt(data.T[1])\n",
    "coef = np.polyfit(x, y, 1)\n",
    "func = np.poly1d(coef)\n",
    "\n",
    "# calculate new x's and y's\n",
    "x_new = np.linspace(x[0]+1, x[-1]-2, 50)\n",
    "y_new = func(x_new)\n",
    "\n",
    "#sugar\n",
    "plt.xlim([x[-1]-1, x[0]+1 ])\n",
    "plt.xlabel(u'$V_{photoelem}$, Volts')\n",
    "plt.ylabel(u'$V \\propto I$')\n",
    "plt.title(u'$\\lambda$=603nm')\n",
    "plt.grid(True)\n",
    "\n",
    "#plot\n",
    "plt.plot(x,y,'o', x_new, y_new)\n",
    "plt.show()"
   ]
  },
  {
   "cell_type": "code",
   "execution_count": 401,
   "metadata": {
    "collapsed": false
   },
   "outputs": [
    {
     "data": {
      "text/plain": [
       "0.88721606700308697"
      ]
     },
     "execution_count": 401,
     "metadata": {},
     "output_type": "execute_result"
    }
   ],
   "source": [
    "#binary_search(func, -2.0, 0.0, 0)\n",
    "tensions[0].append(2*math.pi*cspeed/(6.03))\n",
    "tensions[1].append(coef[1]/coef[0])\n",
    "coef[1]/coef[0]"
   ]
  },
  {
   "cell_type": "code",
   "execution_count": 402,
   "metadata": {
    "collapsed": false
   },
   "outputs": [
    {
     "data": {
      "text/html": [
       "<div style=\"max-height:1000px;max-width:1500px;overflow:auto;\">\n",
       "<table border=\"1\" class=\"dataframe\">\n",
       "  <thead>\n",
       "    <tr style=\"text-align: right;\">\n",
       "      <th></th>\n",
       "      <th>⟨Vфотоэл⟩, В</th>\n",
       "      <th>V ∝ I, В</th>\n",
       "    </tr>\n",
       "  </thead>\n",
       "  <tbody>\n",
       "    <tr>\n",
       "      <th>0</th>\n",
       "      <td> 4.962</td>\n",
       "      <td> 0.405</td>\n",
       "    </tr>\n",
       "    <tr>\n",
       "      <th>1</th>\n",
       "      <td> 4.188</td>\n",
       "      <td> 0.369</td>\n",
       "    </tr>\n",
       "    <tr>\n",
       "      <th>2</th>\n",
       "      <td> 3.451</td>\n",
       "      <td> 0.293</td>\n",
       "    </tr>\n",
       "    <tr>\n",
       "      <th>3</th>\n",
       "      <td> 2.477</td>\n",
       "      <td> 0.187</td>\n",
       "    </tr>\n",
       "    <tr>\n",
       "      <th>4</th>\n",
       "      <td> 1.751</td>\n",
       "      <td> 0.126</td>\n",
       "    </tr>\n",
       "    <tr>\n",
       "      <th>5</th>\n",
       "      <td> 0.200</td>\n",
       "      <td> 0.020</td>\n",
       "    </tr>\n",
       "    <tr>\n",
       "      <th>6</th>\n",
       "      <td> 0.070</td>\n",
       "      <td> 0.011</td>\n",
       "    </tr>\n",
       "  </tbody>\n",
       "</table>\n",
       "</div>"
      ],
      "text/plain": [
       "   ⟨Vфотоэл⟩, В  V ∝ I, В\n",
       "0         4.962     0.405\n",
       "1         4.188     0.369\n",
       "2         3.451     0.293\n",
       "3         2.477     0.187\n",
       "4         1.751     0.126\n",
       "5         0.200     0.020\n",
       "6         0.070     0.011"
      ]
     },
     "execution_count": 402,
     "metadata": {},
     "output_type": "execute_result"
    }
   ],
   "source": [
    "lambda597"
   ]
  },
  {
   "cell_type": "code",
   "execution_count": 403,
   "metadata": {
    "collapsed": false
   },
   "outputs": [
    {
     "data": {
      "image/png": "[encoded data removed]",
      "text/plain": [
       "<matplotlib.figure.Figure at 0x7ffb64b1b210>"
      ]
     },
     "metadata": {},
     "output_type": "display_data"
    },
    {
     "data": {
      "image/png": "[encoded data removed]",
      "text/plain": [
       "<matplotlib.figure.Figure at 0x7ffb649be150>"
      ]
     },
     "metadata": {},
     "output_type": "display_data"
    }
   ],
   "source": [
    "plt.figure(1)\n",
    "plt.subplot(111)\n",
    "data = lambda597.values\n",
    "\n",
    "# calculate polynomial\n",
    "x = data.T[0] - 0.07\n",
    "y = data.T[1]\n",
    "\n",
    "#sugar\n",
    "plt.xlim([x[-1]-1, x[0]+1 ])\n",
    "plt.xlabel(u'$V_{photoelem}$, Volts')\n",
    "plt.ylabel(u'$V \\propto I$')\n",
    "plt.title(u'$\\lambda$=597.6nm dots')\n",
    "plt.grid(True)\n",
    "\n",
    "#plot\n",
    "plt.plot(x,y,'o')\n",
    "plt.show()\n",
    "\n",
    "\n",
    "#linear**********\n",
    "\n",
    "data = lambda597[4:].values\n",
    "\n",
    "# calculate polynomial\n",
    "x = data.T[0] - 0.07\n",
    "y = np.sqrt(data.T[1])\n",
    "coef = np.polyfit(x, y, 1)\n",
    "func = np.poly1d(coef)\n",
    "\n",
    "# calculate new x's and y's\n",
    "x_new = np.linspace(x[0]+1, x[-1]-2, 50)\n",
    "y_new = func(x_new)\n",
    "\n",
    "#sugar\n",
    "plt.xlim([x[-1]-1, x[0]+1 ])\n",
    "plt.xlabel(u'$V_{photoelem}$, Volts')\n",
    "plt.ylabel(u'$V \\propto I$')\n",
    "plt.title(u'$\\lambda$=597.6nm')\n",
    "plt.grid(True)\n",
    "\n",
    "#plot\n",
    "plt.plot(x,y,'o', x_new, y_new)\n",
    "plt.show()"
   ]
  },
  {
   "cell_type": "code",
   "execution_count": 404,
   "metadata": {
    "collapsed": false
   },
   "outputs": [
    {
     "data": {
      "text/plain": [
       "0.78705576609317263"
      ]
     },
     "execution_count": 404,
     "metadata": {},
     "output_type": "execute_result"
    }
   ],
   "source": [
    "#binary_search(func, -2.0, 0.0, 0)\n",
    "tensions[0].append(2*math.pi*cspeed/(5.976))\n",
    "tensions[1].append(coef[1]/coef[0])\n",
    "coef[1]/coef[0]"
   ]
  },
  {
   "cell_type": "code",
   "execution_count": 405,
   "metadata": {
    "collapsed": false
   },
   "outputs": [
    {
     "data": {
      "text/html": [
       "<div style=\"max-height:1000px;max-width:1500px;overflow:auto;\">\n",
       "<table border=\"1\" class=\"dataframe\">\n",
       "  <thead>\n",
       "    <tr style=\"text-align: right;\">\n",
       "      <th></th>\n",
       "      <th>⟨Vфотоэл⟩, В</th>\n",
       "      <th>V ∝ I, В</th>\n",
       "    </tr>\n",
       "  </thead>\n",
       "  <tbody>\n",
       "    <tr>\n",
       "      <th>0</th>\n",
       "      <td> 5.624</td>\n",
       "      <td> 0.405</td>\n",
       "    </tr>\n",
       "    <tr>\n",
       "      <th>1</th>\n",
       "      <td> 4.840</td>\n",
       "      <td> 0.369</td>\n",
       "    </tr>\n",
       "    <tr>\n",
       "      <th>2</th>\n",
       "      <td> 3.972</td>\n",
       "      <td> 0.293</td>\n",
       "    </tr>\n",
       "    <tr>\n",
       "      <th>3</th>\n",
       "      <td> 2.936</td>\n",
       "      <td> 0.187</td>\n",
       "    </tr>\n",
       "    <tr>\n",
       "      <th>4</th>\n",
       "      <td> 2.150</td>\n",
       "      <td> 0.126</td>\n",
       "    </tr>\n",
       "    <tr>\n",
       "      <th>5</th>\n",
       "      <td> 0.690</td>\n",
       "      <td> 0.020</td>\n",
       "    </tr>\n",
       "    <tr>\n",
       "      <th>6</th>\n",
       "      <td> 0.081</td>\n",
       "      <td> 0.011</td>\n",
       "    </tr>\n",
       "    <tr>\n",
       "      <th>7</th>\n",
       "      <td> 0.075</td>\n",
       "      <td> 0.009</td>\n",
       "    </tr>\n",
       "    <tr>\n",
       "      <th>8</th>\n",
       "      <td> 0.070</td>\n",
       "      <td> 0.007</td>\n",
       "    </tr>\n",
       "  </tbody>\n",
       "</table>\n",
       "</div>"
      ],
      "text/plain": [
       "   ⟨Vфотоэл⟩, В  V ∝ I, В\n",
       "0         5.624     0.405\n",
       "1         4.840     0.369\n",
       "2         3.972     0.293\n",
       "3         2.936     0.187\n",
       "4         2.150     0.126\n",
       "5         0.690     0.020\n",
       "6         0.081     0.011\n",
       "7         0.075     0.009\n",
       "8         0.070     0.007"
      ]
     },
     "execution_count": 405,
     "metadata": {},
     "output_type": "execute_result"
    }
   ],
   "source": [
    "lambda589"
   ]
  },
  {
   "cell_type": "code",
   "execution_count": 406,
   "metadata": {
    "collapsed": false
   },
   "outputs": [
    {
     "data": {
      "image/png": "[encoded data removed]",
      "text/plain": [
       "<matplotlib.figure.Figure at 0x7ffb641c4150>"
      ]
     },
     "metadata": {},
     "output_type": "display_data"
    },
    {
     "data": {
      "image/png": "[encoded data removed]",
      "text/plain": [
       "<matplotlib.figure.Figure at 0x7ffb646360d0>"
      ]
     },
     "metadata": {},
     "output_type": "display_data"
    }
   ],
   "source": [
    "plt.figure(1)\n",
    "plt.subplot(111)\n",
    "data = lambda589.values\n",
    "\n",
    "# calculate polynomial\n",
    "x = data.T[0] - 0.07\n",
    "y = data.T[1]\n",
    "\n",
    "#sugar\n",
    "plt.xlim([x[-1]-1, x[0]+1 ])\n",
    "plt.xlabel(u'$V_{photoelem}$, Volts')\n",
    "plt.ylabel(u'$V \\propto I$')\n",
    "plt.title(u'$\\lambda$=589.2nm dots')\n",
    "plt.grid(True)\n",
    "\n",
    "#plot\n",
    "plt.plot(x,y,'o')\n",
    "plt.show()\n",
    "\n",
    "\n",
    "#linear**********\n",
    "\n",
    "data = lambda589[4:].values\n",
    "\n",
    "# calculate polynomial\n",
    "x = data.T[0] - 0.07\n",
    "y = np.sqrt(data.T[1])\n",
    "coef = np.polyfit(x, y, 1)\n",
    "func = np.poly1d(coef)\n",
    "\n",
    "# calculate new x's and y's\n",
    "x_new = np.linspace(x[0]+1, x[-1]-2, 50)\n",
    "y_new = func(x_new)\n",
    "\n",
    "#sugar\n",
    "plt.xlim([x[-1]-1, x[0]+1 ])\n",
    "plt.xlabel(u'$V_{photoelem}$, Volts')\n",
    "plt.ylabel(u'$V \\propto I$')\n",
    "plt.title(u'$\\lambda$=589.2nm')\n",
    "plt.grid(True)\n",
    "\n",
    "#plot\n",
    "plt.plot(x,y,'o', x_new, y_new)\n",
    "plt.show()"
   ]
  },
  {
   "cell_type": "code",
   "execution_count": 407,
   "metadata": {
    "collapsed": false
   },
   "outputs": [
    {
     "data": {
      "text/plain": [
       "0.70572946344717324"
      ]
     },
     "execution_count": 407,
     "metadata": {},
     "output_type": "execute_result"
    }
   ],
   "source": [
    "#binary_search(func, -2.0, 0.0, 0)\n",
    "tensions[0].append(2*math.pi*cspeed/(5.892))\n",
    "tensions[1].append(coef[1]/coef[0])\n",
    "coef[1]/coef[0]"
   ]
  },
  {
   "cell_type": "code",
   "execution_count": 408,
   "metadata": {
    "collapsed": false
   },
   "outputs": [
    {
     "data": {
      "text/html": [
       "<div style=\"max-height:1000px;max-width:1500px;overflow:auto;\">\n",
       "<table border=\"1\" class=\"dataframe\">\n",
       "  <thead>\n",
       "    <tr style=\"text-align: right;\">\n",
       "      <th></th>\n",
       "      <th>⟨Vфотоэл⟩, В</th>\n",
       "      <th>V ∝ I, В</th>\n",
       "    </tr>\n",
       "  </thead>\n",
       "  <tbody>\n",
       "    <tr>\n",
       "      <th>0 </th>\n",
       "      <td> 6.898</td>\n",
       "      <td> 0.445</td>\n",
       "    </tr>\n",
       "    <tr>\n",
       "      <th>1 </th>\n",
       "      <td> 5.260</td>\n",
       "      <td> 0.397</td>\n",
       "    </tr>\n",
       "    <tr>\n",
       "      <th>2 </th>\n",
       "      <td> 4.625</td>\n",
       "      <td> 0.366</td>\n",
       "    </tr>\n",
       "    <tr>\n",
       "      <th>3 </th>\n",
       "      <td> 3.936</td>\n",
       "      <td> 0.321</td>\n",
       "    </tr>\n",
       "    <tr>\n",
       "      <th>4 </th>\n",
       "      <td> 3.370</td>\n",
       "      <td> 0.266</td>\n",
       "    </tr>\n",
       "    <tr>\n",
       "      <th>5 </th>\n",
       "      <td> 2.921</td>\n",
       "      <td> 0.222</td>\n",
       "    </tr>\n",
       "    <tr>\n",
       "      <th>6 </th>\n",
       "      <td> 2.509</td>\n",
       "      <td> 0.175</td>\n",
       "    </tr>\n",
       "    <tr>\n",
       "      <th>7 </th>\n",
       "      <td> 1.742</td>\n",
       "      <td> 0.111</td>\n",
       "    </tr>\n",
       "    <tr>\n",
       "      <th>8 </th>\n",
       "      <td> 1.165</td>\n",
       "      <td> 0.067</td>\n",
       "    </tr>\n",
       "    <tr>\n",
       "      <th>9 </th>\n",
       "      <td> 0.541</td>\n",
       "      <td> 0.030</td>\n",
       "    </tr>\n",
       "    <tr>\n",
       "      <th>10</th>\n",
       "      <td> 0.471</td>\n",
       "      <td> 0.027</td>\n",
       "    </tr>\n",
       "    <tr>\n",
       "      <th>11</th>\n",
       "      <td> 0.441</td>\n",
       "      <td> 0.027</td>\n",
       "    </tr>\n",
       "    <tr>\n",
       "      <th>12</th>\n",
       "      <td> 0.380</td>\n",
       "      <td> 0.028</td>\n",
       "    </tr>\n",
       "    <tr>\n",
       "      <th>13</th>\n",
       "      <td> 0.165</td>\n",
       "      <td> 0.019</td>\n",
       "    </tr>\n",
       "  </tbody>\n",
       "</table>\n",
       "</div>"
      ],
      "text/plain": [
       "    ⟨Vфотоэл⟩, В  V ∝ I, В\n",
       "0          6.898     0.445\n",
       "1          5.260     0.397\n",
       "2          4.625     0.366\n",
       "3          3.936     0.321\n",
       "4          3.370     0.266\n",
       "5          2.921     0.222\n",
       "6          2.509     0.175\n",
       "7          1.742     0.111\n",
       "8          1.165     0.067\n",
       "9          0.541     0.030\n",
       "10         0.471     0.027\n",
       "11         0.441     0.027\n",
       "12         0.380     0.028\n",
       "13         0.165     0.019"
      ]
     },
     "execution_count": 408,
     "metadata": {},
     "output_type": "execute_result"
    }
   ],
   "source": [
    "lambda585"
   ]
  },
  {
   "cell_type": "code",
   "execution_count": 409,
   "metadata": {
    "collapsed": false
   },
   "outputs": [
    {
     "data": {
      "image/png": "[encoded data removed]",
      "text/plain": [
       "<matplotlib.figure.Figure at 0x7ffb64810f10>"
      ]
     },
     "metadata": {},
     "output_type": "display_data"
    },
    {
     "data": {
      "image/png": "[encoded data removed]",
      "text/plain": [
       "<matplotlib.figure.Figure at 0x7ffb64d63f50>"
      ]
     },
     "metadata": {},
     "output_type": "display_data"
    }
   ],
   "source": [
    "plt.figure(1)\n",
    "plt.subplot(111)\n",
    "data = lambda585.values\n",
    "\n",
    "# calculate polynomial\n",
    "x = data.T[0] - 0.07\n",
    "y = data.T[1]\n",
    "\n",
    "#sugar\n",
    "plt.xlim([x[-1]-1, x[0]+1 ])\n",
    "plt.xlabel(u'$V_{photoelem}$, Volts')\n",
    "plt.ylabel(u'$V \\propto I$')\n",
    "plt.title(u'$\\lambda$=585nm dots')\n",
    "plt.grid(True)\n",
    "\n",
    "#plot\n",
    "plt.plot(x,y,'o')\n",
    "plt.show()\n",
    "\n",
    "\n",
    "#linear**********\n",
    "\n",
    "data = lambda585[7:].values\n",
    "\n",
    "# calculate polynomial\n",
    "x = data.T[0] - 0.07\n",
    "y = np.sqrt(data.T[1])\n",
    "coef = np.polyfit(x, y, 1)\n",
    "func = np.poly1d(coef)\n",
    "\n",
    "# calculate new x's and y's\n",
    "x_new = np.linspace(x[0]+1, x[-1]-2, 50)\n",
    "y_new = func(x_new)\n",
    "\n",
    "#sugar\n",
    "plt.xlim([x[-1]-1, x[0]+1 ])\n",
    "plt.xlabel(u'$V_{photoelem}$, Volts')\n",
    "plt.ylabel(u'$V \\propto I$')\n",
    "plt.title(u'$\\lambda$=585.2nm')\n",
    "plt.grid(True)\n",
    "\n",
    "#plot\n",
    "plt.plot(x,y,'o', x_new, y_new)\n",
    "plt.show()"
   ]
  },
  {
   "cell_type": "code",
   "execution_count": 410,
   "metadata": {
    "collapsed": false
   },
   "outputs": [
    {
     "data": {
      "text/plain": [
       "0.95380997093975473"
      ]
     },
     "execution_count": 410,
     "metadata": {},
     "output_type": "execute_result"
    }
   ],
   "source": [
    "#binary_search(func, -2.0, 0.0, 0)\n",
    "tensions[0].append(2*math.pi*cspeed/(5.852))\n",
    "tensions[1].append(coef[1]/coef[0])\n",
    "coef[1]/coef[0]"
   ]
  },
  {
   "cell_type": "code",
   "execution_count": 411,
   "metadata": {
    "collapsed": false
   },
   "outputs": [
    {
     "data": {
      "text/html": [
       "<div style=\"max-height:1000px;max-width:1500px;overflow:auto;\">\n",
       "<table border=\"1\" class=\"dataframe\">\n",
       "  <thead>\n",
       "    <tr style=\"text-align: right;\">\n",
       "      <th></th>\n",
       "      <th>⟨Vфотоэл⟩, В</th>\n",
       "      <th>V ∝ I, В</th>\n",
       "    </tr>\n",
       "  </thead>\n",
       "  <tbody>\n",
       "    <tr>\n",
       "      <th>0</th>\n",
       "      <td> 6.096</td>\n",
       "      <td> 0.405</td>\n",
       "    </tr>\n",
       "    <tr>\n",
       "      <th>1</th>\n",
       "      <td> 5.142</td>\n",
       "      <td> 0.369</td>\n",
       "    </tr>\n",
       "    <tr>\n",
       "      <th>2</th>\n",
       "      <td> 4.160</td>\n",
       "      <td> 0.293</td>\n",
       "    </tr>\n",
       "    <tr>\n",
       "      <th>3</th>\n",
       "      <td> 3.350</td>\n",
       "      <td> 0.187</td>\n",
       "    </tr>\n",
       "    <tr>\n",
       "      <th>4</th>\n",
       "      <td> 3.025</td>\n",
       "      <td> 0.126</td>\n",
       "    </tr>\n",
       "    <tr>\n",
       "      <th>5</th>\n",
       "      <td> 1.457</td>\n",
       "      <td> 0.020</td>\n",
       "    </tr>\n",
       "    <tr>\n",
       "      <th>6</th>\n",
       "      <td> 0.550</td>\n",
       "      <td> 0.011</td>\n",
       "    </tr>\n",
       "    <tr>\n",
       "      <th>7</th>\n",
       "      <td> 0.323</td>\n",
       "      <td> 0.009</td>\n",
       "    </tr>\n",
       "    <tr>\n",
       "      <th>8</th>\n",
       "      <td> 0.295</td>\n",
       "      <td> 0.007</td>\n",
       "    </tr>\n",
       "  </tbody>\n",
       "</table>\n",
       "</div>"
      ],
      "text/plain": [
       "   ⟨Vфотоэл⟩, В  V ∝ I, В\n",
       "0         6.096     0.405\n",
       "1         5.142     0.369\n",
       "2         4.160     0.293\n",
       "3         3.350     0.187\n",
       "4         3.025     0.126\n",
       "5         1.457     0.020\n",
       "6         0.550     0.011\n",
       "7         0.323     0.009\n",
       "8         0.295     0.007"
      ]
     },
     "execution_count": 411,
     "metadata": {},
     "output_type": "execute_result"
    }
   ],
   "source": [
    "lambda572"
   ]
  },
  {
   "cell_type": "code",
   "execution_count": 412,
   "metadata": {
    "collapsed": false
   },
   "outputs": [
    {
     "data": {
      "image/png": "[encoded data removed]",
      "text/plain": [
       "<matplotlib.figure.Figure at 0x7ffb64a04450>"
      ]
     },
     "metadata": {},
     "output_type": "display_data"
    },
    {
     "data": {
      "image/png": "[encoded data removed]",
      "text/plain": [
       "<matplotlib.figure.Figure at 0x7ffb648b2910>"
      ]
     },
     "metadata": {},
     "output_type": "display_data"
    }
   ],
   "source": [
    "plt.figure(1)\n",
    "plt.subplot(111)\n",
    "data = lambda572.values\n",
    "\n",
    "# calculate polynomial\n",
    "x = data.T[0] - 0.07\n",
    "y = data.T[1]\n",
    "\n",
    "#sugar\n",
    "plt.xlim([x[-1]-1, x[0]+1 ])\n",
    "plt.xlabel(u'$V_{photoelem}$, Volts')\n",
    "plt.ylabel(u'$V \\propto I$')\n",
    "plt.title(u'$\\lambda$=572nm dots')\n",
    "plt.grid(True)\n",
    "\n",
    "#plot\n",
    "plt.plot(x,y,'o')\n",
    "plt.show()\n",
    "\n",
    "\n",
    "#linear**********\n",
    "\n",
    "data = lambda572[4:].values\n",
    "\n",
    "# calculate polynomial\n",
    "x = data.T[0] - 0.07\n",
    "y = np.sqrt(data.T[1])\n",
    "coef = np.polyfit(x, y, 1)\n",
    "func = np.poly1d(coef)\n",
    "\n",
    "# calculate new x's and y's\n",
    "x_new = np.linspace(x[0]+1, x[-1]-2, 50)\n",
    "y_new = func(x_new)\n",
    "\n",
    "#sugar\n",
    "plt.xlim([x[-1]-1, x[0]+1 ])\n",
    "plt.xlabel(u'$V_{photoelem}$, Volts')\n",
    "plt.ylabel(u'$V \\propto I$')\n",
    "plt.title(u'$\\lambda$=572.4nm')\n",
    "plt.grid(True)\n",
    "\n",
    "#plot\n",
    "plt.plot(x,y,'o', x_new, y_new)\n",
    "plt.show()"
   ]
  },
  {
   "cell_type": "code",
   "execution_count": 413,
   "metadata": {
    "collapsed": false
   },
   "outputs": [
    {
     "data": {
      "text/plain": [
       "0.5807770285406828"
      ]
     },
     "execution_count": 413,
     "metadata": {},
     "output_type": "execute_result"
    }
   ],
   "source": [
    "#binary_search(func, -2.0, 0.0, 0)\n",
    "tensions[0].append(2*math.pi*cspeed/(5.724))\n",
    "tensions[1].append(coef[1]/coef[0])\n",
    "coef[1]/coef[0]"
   ]
  },
  {
   "cell_type": "code",
   "execution_count": 414,
   "metadata": {
    "collapsed": false
   },
   "outputs": [
    {
     "data": {
      "image/png": "[encoded data removed]",
      "text/plain": [
       "<matplotlib.figure.Figure at 0x7ffb64875ed0>"
      ]
     },
     "metadata": {},
     "output_type": "display_data"
    }
   ],
   "source": [
    "plt.figure(1)\n",
    "\n",
    "# calculate polynomial\n",
    "x = tensions[0]\n",
    "y = tensions[1]\n",
    "coef = np.polyfit(x, y, 1)\n",
    "func = np.poly1d(coef)\n",
    "\n",
    "# calculate new x's and y's\n",
    "x_new = np.linspace(x[0], x[-1], 50)\n",
    "y_new = func(x_new)\n",
    "\n",
    "#sugar\n",
    "plt.xlim([x[0]-1, x[-1] + 1 ])\n",
    "plt.xlabel(u'$\\omega$, 1/c * $10^{-15}$')\n",
    "plt.ylabel(u'$V_{0}$, Volt')\n",
    "plt.title(u'The calibration of the monochromator')\n",
    "plt.grid(True)\n",
    "\n",
    "#plot\n",
    "plt.plot(x,y,'o', x_new, y_new)\n",
    "plt.show()"
   ]
  },
  {
   "cell_type": "code",
   "execution_count": 415,
   "metadata": {
    "collapsed": false
   },
   "outputs": [
    {
     "data": {
      "text/plain": [
       "0.082460688632070289"
      ]
     },
     "execution_count": 415,
     "metadata": {},
     "output_type": "execute_result"
    }
   ],
   "source": [
    "coef[0]/1.6"
   ]
  },
  {
   "cell_type": "code",
   "execution_count": null,
   "metadata": {
    "collapsed": true
   },
   "outputs": [],
   "source": []
  },
  {
   "cell_type": "code",
   "execution_count": null,
   "metadata": {
    "collapsed": true
   },
   "outputs": [],
   "source": []
  }
 ],
 "metadata": {
  "kernelspec": {
   "display_name": "Python 2",
   "language": "python",
   "name": "python2"
  },
  "language_info": {
   "codemirror_mode": {
    "name": "ipython",
    "version": 2
   },
   "file_extension": ".py",
   "mimetype": "text/x-python",
   "name": "python",
   "nbconvert_exporter": "python",
   "pygments_lexer": "ipython2",
   "version": "2.7.10"
  }
 },
 "nbformat": 4,
 "nbformat_minor": 0
}
