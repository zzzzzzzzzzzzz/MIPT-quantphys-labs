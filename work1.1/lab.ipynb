{
 "cells": [
  {
   "cell_type": "markdown",
   "metadata": {},
   "source": [
    "# Лабараторная работа 1.1\n",
    "## Экспериментальная проверка уравнения Эйнштейна для фотоэффекта\n",
    "Фотоэффект – испускание электронов фотокатодом, облучаемых светом хорошо объясняется фотонной теорией света: фотон с энергией $\\hbar \\omega$ выбивает электрон из поверхности металла и сообщает электрону кинетическую энергию.\n",
    "$$\\hbar \\omega = W + E_{max}$$\n",
    "* $W$ работа выхода электрона из катода\n",
    "* $E_{max}$ max кинетическая энергия электрона после выхода из фотокатода\n"
   ]
  },
  {
   "cell_type": "code",
   "execution_count": 1,
   "metadata": {
    "collapsed": false
   },
   "outputs": [],
   "source": [
    "# -*- coding: utf-8 -*-\n",
    "import matplotlib.pyplot as plt\n",
    "%matplotlib inline\n",
    "import numpy as np\n",
    "import pandas as pd\n",
    "import math as math\n",
    "import sys"
   ]
  },
  {
   "cell_type": "markdown",
   "metadata": {},
   "source": [
    "### Шаг 1\n",
    "Построим график калибровки барабана монохроматора по спектру неоновой лампы"
   ]
  },
  {
   "cell_type": "code",
   "execution_count": 2,
   "metadata": {
    "collapsed": false
   },
   "outputs": [],
   "source": [
    "graduation = pd.read_csv(\"graduation.csv\")"
   ]
  },
  {
   "cell_type": "code",
   "execution_count": 3,
   "metadata": {
    "collapsed": false
   },
   "outputs": [
    {
     "data": {
      "text/html": [
       "<div style=\"max-height:1000px;max-width:1500px;overflow:auto;\">\n",
       "<table border=\"1\" class=\"dataframe\">\n",
       "  <thead>\n",
       "    <tr style=\"text-align: right;\">\n",
       "      <th></th>\n",
       "      <th>N линии</th>\n",
       "      <th>λ, нм</th>\n",
       "      <th>°</th>\n",
       "    </tr>\n",
       "  </thead>\n",
       "  <tbody>\n",
       "    <tr>\n",
       "      <th>0</th>\n",
       "      <td> 15</td>\n",
       "      <td> 614.3</td>\n",
       "      <td> 2297</td>\n",
       "    </tr>\n",
       "    <tr>\n",
       "      <th>1</th>\n",
       "      <td> 16</td>\n",
       "      <td> 609.6</td>\n",
       "      <td> 2276</td>\n",
       "    </tr>\n",
       "    <tr>\n",
       "      <th>2</th>\n",
       "      <td> 17</td>\n",
       "      <td> 607.4</td>\n",
       "      <td> 2268</td>\n",
       "    </tr>\n",
       "    <tr>\n",
       "      <th>3</th>\n",
       "      <td> 18</td>\n",
       "      <td> 603.0</td>\n",
       "      <td> 2249</td>\n",
       "    </tr>\n",
       "    <tr>\n",
       "      <th>4</th>\n",
       "      <td> 19</td>\n",
       "      <td> 597.6</td>\n",
       "      <td> 2225</td>\n",
       "    </tr>\n",
       "    <tr>\n",
       "      <th>5</th>\n",
       "      <td> 20</td>\n",
       "      <td> 594.5</td>\n",
       "      <td> 2202</td>\n",
       "    </tr>\n",
       "    <tr>\n",
       "      <th>6</th>\n",
       "      <td> 21</td>\n",
       "      <td> 588.2</td>\n",
       "      <td> 2176</td>\n",
       "    </tr>\n",
       "    <tr>\n",
       "      <th>7</th>\n",
       "      <td> 22</td>\n",
       "      <td> 585.2</td>\n",
       "      <td> 2159</td>\n",
       "    </tr>\n",
       "  </tbody>\n",
       "</table>\n",
       "</div>"
      ],
      "text/plain": [
       "   N линии  λ, нм     °\n",
       "0       15  614.3  2297\n",
       "1       16  609.6  2276\n",
       "2       17  607.4  2268\n",
       "3       18  603.0  2249\n",
       "4       19  597.6  2225\n",
       "5       20  594.5  2202\n",
       "6       21  588.2  2176\n",
       "7       22  585.2  2159"
      ]
     },
     "execution_count": 3,
     "metadata": {},
     "output_type": "execute_result"
    }
   ],
   "source": [
    "graduation"
   ]
  },
  {
   "cell_type": "code",
   "execution_count": 4,
   "metadata": {
    "collapsed": false
   },
   "outputs": [
    {
     "data": {
      "image/png": "[encoded data removed]",
      "text/plain": [
       "<matplotlib.figure.Figure at 0x7f075d9e7a90>"
      ]
     },
     "metadata": {},
     "output_type": "display_data"
    }
   ],
   "source": [
    "gradnp = graduation.values\n",
    "\n",
    "plt.figure(1)\n",
    "\n",
    "# calculate polynomial\n",
    "x = gradnp.T[2]\n",
    "y = gradnp.T[1]\n",
    "coef,cov = np.polyfit(x, y, 1, cov=True)\n",
    "func = np.poly1d(coef)\n",
    "kerr, berr = np.sqrt(np.diag(cov))[0], np.sqrt(np.diag(cov))[1]\n",
    "k,b = coef[0], coef[1]\n",
    "xerr = np.array([0.5 for i in np.arange(x.shape[0])])\n",
    "yerr = np.array([0.5 for i in np.arange(y.shape[0])])\n",
    "\n",
    "# calculate new x's and y's\n",
    "x_new = np.linspace(x[0], x[-1], 50)\n",
    "y_new = func(x_new)\n",
    "\n",
    "#sugar\n",
    "plt.errorbar(x, y, xerr=xerr, yerr=yerr, fmt='k.')\n",
    "plt.xlim([x[0]-1, x[-1] + 1 ])\n",
    "plt.xlabel(u'°, degrees')\n",
    "plt.ylabel(u'$\\lambda$ nm')\n",
    "plt.title(u'The calibration of the monochromator')\n",
    "plt.grid(True)\n",
    "\n",
    "#plot\n",
    "plt.plot(x,y,'x', x_new, y_new)\n",
    "plt.text(2220,605,r'$k=$%f$\\pm$%f'%(k,kerr)+'\\n'+r'$b=$%f$\\pm$%f'%(b,berr))  #+\\n+'b=$%f$\\pm$%f'%(b,berr))\n",
    "plt.show()"
   ]
  },
  {
   "cell_type": "markdown",
   "metadata": {},
   "source": [
    "Благодаря вычисленной функции можем выяснить длины волн, которых не хватало, а именно длин волн при 2100 и 2180 градусах."
   ]
  },
  {
   "cell_type": "code",
   "execution_count": 5,
   "metadata": {
    "collapsed": false
   },
   "outputs": [
    {
     "data": {
      "text/plain": [
       "572.44415141624916"
      ]
     },
     "execution_count": 5,
     "metadata": {},
     "output_type": "execute_result"
    }
   ],
   "source": [
    "func(2100)"
   ]
  },
  {
   "cell_type": "code",
   "execution_count": 6,
   "metadata": {
    "collapsed": false
   },
   "outputs": [
    {
     "data": {
      "text/plain": [
       "589.19295663830303"
      ]
     },
     "execution_count": 6,
     "metadata": {},
     "output_type": "execute_result"
    }
   ],
   "source": [
    "func(2180)"
   ]
  },
  {
   "cell_type": "code",
   "execution_count": 7,
   "metadata": {
    "collapsed": true
   },
   "outputs": [],
   "source": [
    "lambda603 = pd.read_csv(\"603lambda.csv\")\n",
    "lambda589 = pd.read_csv(\"2180gradlambda.csv\")\n",
    "lambda585 = pd.read_csv(\"585.2lambda.csv\")\n",
    "lambda572 = pd.read_csv(\"2100gradlambda.csv\")"
   ]
  },
  {
   "cell_type": "markdown",
   "metadata": {},
   "source": [
    "При построении графиков также стоит учесть, что при закрытых щелях вольтметр показывал ненулевое напряжение в 0.07"
   ]
  },
  {
   "cell_type": "code",
   "execution_count": 8,
   "metadata": {
    "collapsed": false
   },
   "outputs": [],
   "source": [
    "tensions = [[],[],[]]\n",
    "cspeed = 2.99792458\n",
    "systemerrx = 0.0005"
   ]
  },
  {
   "cell_type": "code",
   "execution_count": 9,
   "metadata": {
    "collapsed": false
   },
   "outputs": [
    {
     "data": {
      "text/html": [
       "<div style=\"max-height:1000px;max-width:1500px;overflow:auto;\">\n",
       "<table border=\"1\" class=\"dataframe\">\n",
       "  <thead>\n",
       "    <tr style=\"text-align: right;\">\n",
       "      <th></th>\n",
       "      <th>⟨Vфотоэл⟩, В</th>\n",
       "      <th>V ∝ I, В</th>\n",
       "    </tr>\n",
       "  </thead>\n",
       "  <tbody>\n",
       "    <tr>\n",
       "      <th>0 </th>\n",
       "      <td> 6.892</td>\n",
       "      <td> 0.452</td>\n",
       "    </tr>\n",
       "    <tr>\n",
       "      <th>1 </th>\n",
       "      <td> 6.365</td>\n",
       "      <td> 0.441</td>\n",
       "    </tr>\n",
       "    <tr>\n",
       "      <th>2 </th>\n",
       "      <td> 5.278</td>\n",
       "      <td> 0.406</td>\n",
       "    </tr>\n",
       "    <tr>\n",
       "      <th>3 </th>\n",
       "      <td> 4.044</td>\n",
       "      <td> 0.320</td>\n",
       "    </tr>\n",
       "    <tr>\n",
       "      <th>4 </th>\n",
       "      <td> 3.457</td>\n",
       "      <td> 0.284</td>\n",
       "    </tr>\n",
       "    <tr>\n",
       "      <th>5 </th>\n",
       "      <td> 3.020</td>\n",
       "      <td> 0.235</td>\n",
       "    </tr>\n",
       "    <tr>\n",
       "      <th>6 </th>\n",
       "      <td> 2.517</td>\n",
       "      <td> 0.161</td>\n",
       "    </tr>\n",
       "    <tr>\n",
       "      <th>7 </th>\n",
       "      <td> 1.512</td>\n",
       "      <td> 0.041</td>\n",
       "    </tr>\n",
       "    <tr>\n",
       "      <th>8 </th>\n",
       "      <td> 1.251</td>\n",
       "      <td> 0.046</td>\n",
       "    </tr>\n",
       "    <tr>\n",
       "      <th>9 </th>\n",
       "      <td> 0.880</td>\n",
       "      <td> 0.035</td>\n",
       "    </tr>\n",
       "    <tr>\n",
       "      <th>10</th>\n",
       "      <td> 0.640</td>\n",
       "      <td> 0.033</td>\n",
       "    </tr>\n",
       "    <tr>\n",
       "      <th>11</th>\n",
       "      <td> 0.280</td>\n",
       "      <td> 0.016</td>\n",
       "    </tr>\n",
       "    <tr>\n",
       "      <th>12</th>\n",
       "      <td> 0.015</td>\n",
       "      <td> 0.010</td>\n",
       "    </tr>\n",
       "  </tbody>\n",
       "</table>\n",
       "</div>"
      ],
      "text/plain": [
       "    ⟨Vфотоэл⟩, В  V ∝ I, В\n",
       "0          6.892     0.452\n",
       "1          6.365     0.441\n",
       "2          5.278     0.406\n",
       "3          4.044     0.320\n",
       "4          3.457     0.284\n",
       "5          3.020     0.235\n",
       "6          2.517     0.161\n",
       "7          1.512     0.041\n",
       "8          1.251     0.046\n",
       "9          0.880     0.035\n",
       "10         0.640     0.033\n",
       "11         0.280     0.016\n",
       "12         0.015     0.010"
      ]
     },
     "execution_count": 9,
     "metadata": {},
     "output_type": "execute_result"
    }
   ],
   "source": [
    "lambda603"
   ]
  },
  {
   "cell_type": "code",
   "execution_count": 10,
   "metadata": {
    "collapsed": false
   },
   "outputs": [
    {
     "data": {
      "image/png": "[encoded data removed]",
      "text/plain": [
       "<matplotlib.figure.Figure at 0x7f075d876c50>"
      ]
     },
     "metadata": {},
     "output_type": "display_data"
    },
    {
     "data": {
      "image/png": "[encoded data removed]",
      "text/plain": [
       "<matplotlib.figure.Figure at 0x7f075d7e3710>"
      ]
     },
     "metadata": {},
     "output_type": "display_data"
    }
   ],
   "source": [
    "plt.figure(1)\n",
    "plt.subplot(111)\n",
    "data = lambda603.values\n",
    "\n",
    "# calculate polynomial\n",
    "x = data.T[0] - 0.07\n",
    "y = data.T[1]\n",
    "\n",
    "#sugar\n",
    "plt.xlim([x[-1]-1, x[0]+1 ])\n",
    "plt.xlabel(u'$V_{photoelem}$, Volts')\n",
    "plt.ylabel(u'$V \\propto I$')\n",
    "plt.title(u'$\\lambda$=603nm dots')\n",
    "plt.grid(True)\n",
    "\n",
    "#plot\n",
    "plt.plot(x,y,'o')\n",
    "plt.show()\n",
    "\n",
    "\n",
    "#linear**********\n",
    "plt.subplot(111)\n",
    "data = lambda603[5:].values\n",
    "\n",
    "# calculate polynomial\n",
    "x = data.T[0] - 0.07\n",
    "y = np.sqrt(data.T[1])\n",
    "coef, cov = np.polyfit(x, y, 1, cov=True)\n",
    "func = np.poly1d(coef)\n",
    "xerr = np.array([systemerrx for i in np.arange(x.shape[0])])\n",
    "yerr = np.array([1/(2*y[i])*systemerrx for i in np.arange(y.shape[0])])\n",
    "kerr, berr = np.sqrt(np.diag(cov))[0], np.sqrt(np.diag(cov))[1]\n",
    "k,b = coef[0], coef[1]\n",
    "\n",
    "# calculate new x's and y's\n",
    "x_new = np.linspace(x[0]+1, x[-1]-2, 50)\n",
    "y_new = func(x_new)\n",
    "\n",
    "#sugar\n",
    "plt.errorbar(x, y, xerr=xerr, yerr=yerr, fmt='k.')\n",
    "plt.xlim([x[-1]-1, x[0]+1 ])\n",
    "plt.xlabel(u'$V_{photoelem}$, Volts')\n",
    "plt.ylabel(u'$(V \\propto I)^{1/2}$, Volts$^{1/2}$')\n",
    "plt.title(u'$\\lambda$=603nm')\n",
    "plt.grid(True)\n",
    "\n",
    "#plot\n",
    "plt.plot(x,y,'x', x_new, y_new)\n",
    "plt.text(0,0.4,r'$k=$%f$\\pm$%f'%(k,kerr)+'\\n'+r'$b=$%f$\\pm$%f'%(b,berr))  #+\\n+'b=$%f$\\pm$%f'%(b,berr))\n",
    "plt.show()"
   ]
  },
  {
   "cell_type": "code",
   "execution_count": 11,
   "metadata": {
    "collapsed": false
   },
   "outputs": [
    {
     "data": {
      "text/plain": [
       "0.71634572670073227"
      ]
     },
     "execution_count": 11,
     "metadata": {},
     "output_type": "execute_result"
    }
   ],
   "source": [
    "tensions[0].append(2*math.pi*cspeed/(6.03))\n",
    "tensions[1].append(coef[1]/coef[0])\n",
    "tensions[2].append(coef[1]/coef[0] * np.sqrt((kerr/coef[0])*(kerr/coef[0]) + (berr/coef[1])*(berr/coef[1])))\n",
    "coef[1]/coef[0]"
   ]
  },
  {
   "cell_type": "code",
   "execution_count": 12,
   "metadata": {
    "collapsed": false
   },
   "outputs": [
    {
     "data": {
      "text/html": [
       "<div style=\"max-height:1000px;max-width:1500px;overflow:auto;\">\n",
       "<table border=\"1\" class=\"dataframe\">\n",
       "  <thead>\n",
       "    <tr style=\"text-align: right;\">\n",
       "      <th></th>\n",
       "      <th>⟨Vфотоэл⟩, В</th>\n",
       "      <th>V ∝ I, В</th>\n",
       "    </tr>\n",
       "  </thead>\n",
       "  <tbody>\n",
       "    <tr>\n",
       "      <th>0</th>\n",
       "      <td> 5.624</td>\n",
       "      <td> 0.405</td>\n",
       "    </tr>\n",
       "    <tr>\n",
       "      <th>1</th>\n",
       "      <td> 4.840</td>\n",
       "      <td> 0.369</td>\n",
       "    </tr>\n",
       "    <tr>\n",
       "      <th>2</th>\n",
       "      <td> 3.972</td>\n",
       "      <td> 0.293</td>\n",
       "    </tr>\n",
       "    <tr>\n",
       "      <th>3</th>\n",
       "      <td> 2.936</td>\n",
       "      <td> 0.187</td>\n",
       "    </tr>\n",
       "    <tr>\n",
       "      <th>4</th>\n",
       "      <td> 2.150</td>\n",
       "      <td> 0.126</td>\n",
       "    </tr>\n",
       "    <tr>\n",
       "      <th>5</th>\n",
       "      <td> 0.690</td>\n",
       "      <td> 0.020</td>\n",
       "    </tr>\n",
       "    <tr>\n",
       "      <th>6</th>\n",
       "      <td> 0.081</td>\n",
       "      <td> 0.011</td>\n",
       "    </tr>\n",
       "    <tr>\n",
       "      <th>7</th>\n",
       "      <td> 0.075</td>\n",
       "      <td> 0.009</td>\n",
       "    </tr>\n",
       "    <tr>\n",
       "      <th>8</th>\n",
       "      <td> 0.070</td>\n",
       "      <td> 0.007</td>\n",
       "    </tr>\n",
       "  </tbody>\n",
       "</table>\n",
       "</div>"
      ],
      "text/plain": [
       "   ⟨Vфотоэл⟩, В  V ∝ I, В\n",
       "0         5.624     0.405\n",
       "1         4.840     0.369\n",
       "2         3.972     0.293\n",
       "3         2.936     0.187\n",
       "4         2.150     0.126\n",
       "5         0.690     0.020\n",
       "6         0.081     0.011\n",
       "7         0.075     0.009\n",
       "8         0.070     0.007"
      ]
     },
     "execution_count": 12,
     "metadata": {},
     "output_type": "execute_result"
    }
   ],
   "source": [
    "lambda589"
   ]
  },
  {
   "cell_type": "code",
   "execution_count": 13,
   "metadata": {
    "collapsed": false
   },
   "outputs": [
    {
     "data": {
      "image/png": "[encoded data removed]",
      "text/plain": [
       "<matplotlib.figure.Figure at 0x7f075d862fd0>"
      ]
     },
     "metadata": {},
     "output_type": "display_data"
    },
    {
     "data": {
      "image/png": "[encoded data removed]",
      "text/plain": [
       "<matplotlib.figure.Figure at 0x7f075d8770d0>"
      ]
     },
     "metadata": {},
     "output_type": "display_data"
    }
   ],
   "source": [
    "plt.figure(1)\n",
    "plt.subplot(111)\n",
    "data = lambda589.values\n",
    "\n",
    "# calculate polynomial\n",
    "x = data.T[0] - 0.07\n",
    "y = data.T[1]\n",
    "\n",
    "#sugar\n",
    "plt.xlim([x[-1]-1, x[0]+1 ])\n",
    "plt.xlabel(u'$V_{photoelem}$, Volts')\n",
    "plt.ylabel(u'$V \\propto I$')\n",
    "plt.title(u'$\\lambda$=589.2nm dots')\n",
    "plt.grid(True)\n",
    "\n",
    "#plot\n",
    "plt.plot(x,y,'o')\n",
    "plt.show()\n",
    "\n",
    "\n",
    "#linear**********\n",
    "\n",
    "data = lambda589[2:].values\n",
    "\n",
    "# calculate polynomial\n",
    "x = data.T[0] - 0.07\n",
    "y = np.sqrt(data.T[1])\n",
    "coef, cov = np.polyfit(x, y, 1, cov=True)\n",
    "func = np.poly1d(coef)\n",
    "xerr = np.array([systemerrx for i in np.arange(x.shape[0])])\n",
    "yerr = np.array([1/(2*y[i])*systemerrx for i in np.arange(y.shape[0])])\n",
    "kerr, berr = np.sqrt(np.diag(cov))[0], np.sqrt(np.diag(cov))[1]\n",
    "k,b = coef[0], coef[1]\n",
    "\n",
    "# calculate new x's and y's\n",
    "x_new = np.linspace(x[0]+1, x[-1]-2, 50)\n",
    "y_new = func(x_new)\n",
    "\n",
    "#sugar\n",
    "plt.errorbar(x, y, xerr=xerr, yerr=yerr, fmt='k.')\n",
    "plt.xlim([x[-1]-1, x[0]+1 ])\n",
    "plt.xlabel(u'$V_{photoelem}$, Volts')\n",
    "plt.ylabel(u'$(V \\propto I)^{1/2}$, Volts$^{1/2}$')\n",
    "plt.title(u'$\\lambda$=589.2nm')\n",
    "plt.grid(True)\n",
    "\n",
    "#plot\n",
    "plt.plot(x,y,'o', x_new, y_new)\n",
    "plt.text(0,0.5,r'$k=$%f$\\pm$%f'%(k,kerr)+'\\n'+r'$b=$%f$\\pm$%f'%(b,berr))\n",
    "plt.show()"
   ]
  },
  {
   "cell_type": "code",
   "execution_count": 14,
   "metadata": {
    "collapsed": false
   },
   "outputs": [
    {
     "data": {
      "text/plain": [
       "0.77062837049885824"
      ]
     },
     "execution_count": 14,
     "metadata": {},
     "output_type": "execute_result"
    }
   ],
   "source": [
    "tensions[0].append(2*math.pi*cspeed/(5.892))\n",
    "tensions[1].append(coef[1]/coef[0])\n",
    "tensions[2].append(coef[1]/coef[0] * np.sqrt((kerr/coef[0])*(kerr/coef[0]) + (berr/coef[1])*(berr/coef[1])))\n",
    "coef[1]/coef[0]"
   ]
  },
  {
   "cell_type": "code",
   "execution_count": 15,
   "metadata": {
    "collapsed": false
   },
   "outputs": [
    {
     "data": {
      "text/html": [
       "<div style=\"max-height:1000px;max-width:1500px;overflow:auto;\">\n",
       "<table border=\"1\" class=\"dataframe\">\n",
       "  <thead>\n",
       "    <tr style=\"text-align: right;\">\n",
       "      <th></th>\n",
       "      <th>⟨Vфотоэл⟩, В</th>\n",
       "      <th>V ∝ I, В</th>\n",
       "    </tr>\n",
       "  </thead>\n",
       "  <tbody>\n",
       "    <tr>\n",
       "      <th>0 </th>\n",
       "      <td> 6.898</td>\n",
       "      <td> 0.445</td>\n",
       "    </tr>\n",
       "    <tr>\n",
       "      <th>1 </th>\n",
       "      <td> 5.260</td>\n",
       "      <td> 0.397</td>\n",
       "    </tr>\n",
       "    <tr>\n",
       "      <th>2 </th>\n",
       "      <td> 4.625</td>\n",
       "      <td> 0.366</td>\n",
       "    </tr>\n",
       "    <tr>\n",
       "      <th>3 </th>\n",
       "      <td> 3.936</td>\n",
       "      <td> 0.321</td>\n",
       "    </tr>\n",
       "    <tr>\n",
       "      <th>4 </th>\n",
       "      <td> 3.370</td>\n",
       "      <td> 0.266</td>\n",
       "    </tr>\n",
       "    <tr>\n",
       "      <th>5 </th>\n",
       "      <td> 2.921</td>\n",
       "      <td> 0.222</td>\n",
       "    </tr>\n",
       "    <tr>\n",
       "      <th>6 </th>\n",
       "      <td> 2.509</td>\n",
       "      <td> 0.175</td>\n",
       "    </tr>\n",
       "    <tr>\n",
       "      <th>7 </th>\n",
       "      <td> 1.742</td>\n",
       "      <td> 0.111</td>\n",
       "    </tr>\n",
       "    <tr>\n",
       "      <th>8 </th>\n",
       "      <td> 1.165</td>\n",
       "      <td> 0.067</td>\n",
       "    </tr>\n",
       "    <tr>\n",
       "      <th>9 </th>\n",
       "      <td> 0.541</td>\n",
       "      <td> 0.030</td>\n",
       "    </tr>\n",
       "    <tr>\n",
       "      <th>10</th>\n",
       "      <td> 0.471</td>\n",
       "      <td> 0.027</td>\n",
       "    </tr>\n",
       "    <tr>\n",
       "      <th>11</th>\n",
       "      <td> 0.441</td>\n",
       "      <td> 0.027</td>\n",
       "    </tr>\n",
       "    <tr>\n",
       "      <th>12</th>\n",
       "      <td> 0.380</td>\n",
       "      <td> 0.028</td>\n",
       "    </tr>\n",
       "    <tr>\n",
       "      <th>13</th>\n",
       "      <td> 0.165</td>\n",
       "      <td> 0.019</td>\n",
       "    </tr>\n",
       "  </tbody>\n",
       "</table>\n",
       "</div>"
      ],
      "text/plain": [
       "    ⟨Vфотоэл⟩, В  V ∝ I, В\n",
       "0          6.898     0.445\n",
       "1          5.260     0.397\n",
       "2          4.625     0.366\n",
       "3          3.936     0.321\n",
       "4          3.370     0.266\n",
       "5          2.921     0.222\n",
       "6          2.509     0.175\n",
       "7          1.742     0.111\n",
       "8          1.165     0.067\n",
       "9          0.541     0.030\n",
       "10         0.471     0.027\n",
       "11         0.441     0.027\n",
       "12         0.380     0.028\n",
       "13         0.165     0.019"
      ]
     },
     "execution_count": 15,
     "metadata": {},
     "output_type": "execute_result"
    }
   ],
   "source": [
    "lambda585"
   ]
  },
  {
   "cell_type": "code",
   "execution_count": 16,
   "metadata": {
    "collapsed": false
   },
   "outputs": [
    {
     "data": {
      "image/png": "[encoded data removed]",
      "text/plain": [
       "<matplotlib.figure.Figure at 0x7f075d48b650>"
      ]
     },
     "metadata": {},
     "output_type": "display_data"
    },
    {
     "data": {
      "image/png": "[encoded data removed]",
      "text/plain": [
       "<matplotlib.figure.Figure at 0x7f075d759c10>"
      ]
     },
     "metadata": {},
     "output_type": "display_data"
    }
   ],
   "source": [
    "plt.figure(1)\n",
    "plt.subplot(111)\n",
    "data = lambda585.values\n",
    "\n",
    "# calculate polynomial\n",
    "x = data.T[0] - 0.07\n",
    "y = data.T[1]\n",
    "\n",
    "#sugar\n",
    "plt.xlim([x[-1]-1, x[0]+1 ])\n",
    "plt.xlabel(u'$V_{photoelem}$, Volts')\n",
    "plt.ylabel(u'$V \\propto I$')\n",
    "plt.title(u'$\\lambda$=585nm dots')\n",
    "plt.grid(True)\n",
    "\n",
    "#plot\n",
    "plt.plot(x,y,'o')\n",
    "plt.show()\n",
    "\n",
    "\n",
    "#linear**********\n",
    "\n",
    "data = lambda585[7:].values\n",
    "\n",
    "# calculate polynomial\n",
    "x = data.T[0] - 0.07\n",
    "y = np.sqrt(data.T[1])\n",
    "coef, cov = np.polyfit(x, y, 1, cov=True)\n",
    "func = np.poly1d(coef)\n",
    "xerr = np.array([systemerrx for i in np.arange(x.shape[0])])\n",
    "yerr = np.array([1/(2*y[i])*systemerrx for i in np.arange(y.shape[0])])\n",
    "kerr, berr = np.sqrt(np.diag(cov))[0], np.sqrt(np.diag(cov))[1]\n",
    "k,b = coef[0], coef[1]\n",
    "\n",
    "# calculate new x's and y's\n",
    "x_new = np.linspace(x[0]+1, x[-1]-2, 50)\n",
    "y_new = func(x_new)\n",
    "\n",
    "#sugar\n",
    "plt.errorbar(x, y, xerr=xerr, yerr=yerr, fmt='k.')\n",
    "plt.xlim([x[-1]-1, x[0]+1 ])\n",
    "plt.xlabel(u'$V_{photoelem}$, Volts')\n",
    "plt.ylabel(u'$(V \\propto I)^{1/2}$, Volts$^{1/2}$')\n",
    "plt.title(u'$\\lambda$=585.2nm')\n",
    "plt.grid(True)\n",
    "\n",
    "#plot\n",
    "plt.plot(x,y,'o', x_new, y_new)\n",
    "plt.text(0,0.4,r'$k=$%f$\\pm$%f'%(k,kerr)+'\\n'+r'$b=$%f$\\pm$%f'%(b,berr))\n",
    "plt.show()"
   ]
  },
  {
   "cell_type": "code",
   "execution_count": 17,
   "metadata": {
    "collapsed": false
   },
   "outputs": [
    {
     "data": {
      "text/plain": [
       "0.95380997093975473"
      ]
     },
     "execution_count": 17,
     "metadata": {},
     "output_type": "execute_result"
    }
   ],
   "source": [
    "tensions[0].append(2*math.pi*cspeed/(5.852))\n",
    "tensions[1].append(coef[1]/coef[0])\n",
    "tensions[2].append(coef[1]/coef[0] * np.sqrt((kerr/coef[0])*(kerr/coef[0]) + (berr/coef[1])*(berr/coef[1])))\n",
    "coef[1]/coef[0]"
   ]
  },
  {
   "cell_type": "code",
   "execution_count": 18,
   "metadata": {
    "collapsed": false
   },
   "outputs": [
    {
     "data": {
      "text/html": [
       "<div style=\"max-height:1000px;max-width:1500px;overflow:auto;\">\n",
       "<table border=\"1\" class=\"dataframe\">\n",
       "  <thead>\n",
       "    <tr style=\"text-align: right;\">\n",
       "      <th></th>\n",
       "      <th>⟨Vфотоэл⟩, В</th>\n",
       "      <th>V ∝ I, В</th>\n",
       "    </tr>\n",
       "  </thead>\n",
       "  <tbody>\n",
       "    <tr>\n",
       "      <th>0</th>\n",
       "      <td> 6.096</td>\n",
       "      <td> 0.405</td>\n",
       "    </tr>\n",
       "    <tr>\n",
       "      <th>1</th>\n",
       "      <td> 5.142</td>\n",
       "      <td> 0.369</td>\n",
       "    </tr>\n",
       "    <tr>\n",
       "      <th>2</th>\n",
       "      <td> 4.160</td>\n",
       "      <td> 0.293</td>\n",
       "    </tr>\n",
       "    <tr>\n",
       "      <th>3</th>\n",
       "      <td> 3.350</td>\n",
       "      <td> 0.187</td>\n",
       "    </tr>\n",
       "    <tr>\n",
       "      <th>4</th>\n",
       "      <td> 3.025</td>\n",
       "      <td> 0.066</td>\n",
       "    </tr>\n",
       "    <tr>\n",
       "      <th>5</th>\n",
       "      <td> 1.457</td>\n",
       "      <td> 0.020</td>\n",
       "    </tr>\n",
       "    <tr>\n",
       "      <th>6</th>\n",
       "      <td> 0.550</td>\n",
       "      <td> 0.011</td>\n",
       "    </tr>\n",
       "    <tr>\n",
       "      <th>7</th>\n",
       "      <td> 0.323</td>\n",
       "      <td> 0.009</td>\n",
       "    </tr>\n",
       "    <tr>\n",
       "      <th>8</th>\n",
       "      <td> 0.295</td>\n",
       "      <td> 0.007</td>\n",
       "    </tr>\n",
       "  </tbody>\n",
       "</table>\n",
       "</div>"
      ],
      "text/plain": [
       "   ⟨Vфотоэл⟩, В  V ∝ I, В\n",
       "0         6.096     0.405\n",
       "1         5.142     0.369\n",
       "2         4.160     0.293\n",
       "3         3.350     0.187\n",
       "4         3.025     0.066\n",
       "5         1.457     0.020\n",
       "6         0.550     0.011\n",
       "7         0.323     0.009\n",
       "8         0.295     0.007"
      ]
     },
     "execution_count": 18,
     "metadata": {},
     "output_type": "execute_result"
    }
   ],
   "source": [
    "lambda572"
   ]
  },
  {
   "cell_type": "code",
   "execution_count": 19,
   "metadata": {
    "collapsed": false
   },
   "outputs": [
    {
     "data": {
      "image/png": "[encoded data removed]",
      "text/plain": [
       "<matplotlib.figure.Figure at 0x7f075d559e10>"
      ]
     },
     "metadata": {},
     "output_type": "display_data"
    },
    {
     "data": {
      "image/png": "[encoded data removed]",
      "text/plain": [
       "<matplotlib.figure.Figure at 0x7f075d5f7310>"
      ]
     },
     "metadata": {},
     "output_type": "display_data"
    }
   ],
   "source": [
    "plt.figure(1)\n",
    "plt.subplot(111)\n",
    "data = lambda572.values\n",
    "\n",
    "# calculate polynomial\n",
    "x = data.T[0] - 0.07\n",
    "y = data.T[1]\n",
    "\n",
    "#sugar\n",
    "plt.xlim([x[-1]-1, x[0]+1 ])\n",
    "plt.xlabel(u'$V_{photoelem}$, Volts')\n",
    "plt.ylabel(u'$V \\propto I$')\n",
    "plt.title(u'$\\lambda$=572nm dots')\n",
    "plt.grid(True)\n",
    "\n",
    "#plot\n",
    "plt.plot(x,y,'o')\n",
    "plt.show()\n",
    "\n",
    "\n",
    "#linear**********\n",
    "\n",
    "data = lambda572[4:].values\n",
    "\n",
    "# calculate polynomial\n",
    "x = data.T[0] - 0.07\n",
    "y = np.sqrt(data.T[1])\n",
    "coef, cov = np.polyfit(x, y, 1, cov=True)\n",
    "func = np.poly1d(coef)\n",
    "xerr = np.array([systemerrx for i in np.arange(x.shape[0])])\n",
    "yerr = np.array([1/(2*y[i])*systemerrx for i in np.arange(y.shape[0])])\n",
    "kerr, berr = np.sqrt(np.diag(cov))[0], np.sqrt(np.diag(cov))[1]\n",
    "k,b = coef[0], coef[1]\n",
    "\n",
    "# calculate new x's and y's\n",
    "x_new = np.linspace(x[0]+1, x[-1]-2, 50)\n",
    "y_new = func(x_new)\n",
    "\n",
    "#sugar\n",
    "plt.errorbar(x, y, xerr=xerr, yerr=yerr, fmt='k.')\n",
    "plt.xlim([x[-1]-1, x[0]+1 ])\n",
    "plt.xlabel(u'$V_{photoelem}$, Volts')\n",
    "plt.ylabel(u'$(V \\propto I)^{1/2}$, Volts$^{1/2}$')\n",
    "plt.title(u'$\\lambda$=572.4nm')\n",
    "plt.grid(True)\n",
    "\n",
    "#plot\n",
    "plt.plot(x,y,'o', x_new, y_new)\n",
    "plt.text(1,0.05,r'$k=$%f$\\pm$%f'%(k,kerr)+'\\n'+r'$b=$%f$\\pm$%f'%(b,berr))\n",
    "plt.show()"
   ]
  },
  {
   "cell_type": "code",
   "execution_count": 20,
   "metadata": {
    "collapsed": false
   },
   "outputs": [
    {
     "data": {
      "text/plain": [
       "1.1925332574531347"
      ]
     },
     "execution_count": 20,
     "metadata": {},
     "output_type": "execute_result"
    }
   ],
   "source": [
    "tensions[0].append(2*math.pi*cspeed/(5.724))\n",
    "tensions[1].append(coef[1]/coef[0])\n",
    "tensions[2].append(coef[1]/coef[0] * np.sqrt((kerr/coef[0])*(kerr/coef[0]) + (berr/coef[1])*(berr/coef[1])))\n",
    "coef[1]/coef[0]"
   ]
  },
  {
   "cell_type": "code",
   "execution_count": 22,
   "metadata": {
    "collapsed": false
   },
   "outputs": [
    {
     "data": {
      "text/html": [
       "<div style=\"max-height:1000px;max-width:1500px;overflow:auto;\">\n",
       "<table border=\"1\" class=\"dataframe\">\n",
       "  <thead>\n",
       "    <tr style=\"text-align: right;\">\n",
       "      <th></th>\n",
       "      <th>$\\omega$, 1/c * $10^{-15}$</th>\n",
       "      <th>$V_{0}$, Volt</th>\n",
       "      <th>$\\sigma_{V_{0}}$</th>\n",
       "    </tr>\n",
       "  </thead>\n",
       "  <tbody>\n",
       "    <tr>\n",
       "      <th>0</th>\n",
       "      <td> 3.123800</td>\n",
       "      <td> 0.716346</td>\n",
       "      <td> 0.200419</td>\n",
       "    </tr>\n",
       "    <tr>\n",
       "      <th>1</th>\n",
       "      <td> 3.196965</td>\n",
       "      <td> 0.770628</td>\n",
       "      <td> 0.093013</td>\n",
       "    </tr>\n",
       "    <tr>\n",
       "      <th>2</th>\n",
       "      <td> 3.218817</td>\n",
       "      <td> 0.953810</td>\n",
       "      <td> 0.058494</td>\n",
       "    </tr>\n",
       "    <tr>\n",
       "      <th>3</th>\n",
       "      <td> 3.290796</td>\n",
       "      <td> 1.192533</td>\n",
       "      <td> 0.243579</td>\n",
       "    </tr>\n",
       "  </tbody>\n",
       "</table>\n",
       "</div>"
      ],
      "text/plain": [
       "   $\\omega$, 1/c * $10^{-15}$  $V_{0}$, Volt  $\\sigma_{V_{0}}$\n",
       "0                    3.123800       0.716346          0.200419\n",
       "1                    3.196965       0.770628          0.093013\n",
       "2                    3.218817       0.953810          0.058494\n",
       "3                    3.290796       1.192533          0.243579"
      ]
     },
     "execution_count": 22,
     "metadata": {},
     "output_type": "execute_result"
    }
   ],
   "source": [
    "tensData = pd.DataFrame(tensions).T\n",
    "tensData.columns = [\"$\\omega$, 1/c * $10^{-15}$\", \"$V_{0}$, Volt\", \"$\\sigma_{V_{0}}$\"]\n",
    "tensData"
   ]
  },
  {
   "cell_type": "code",
   "execution_count": 23,
   "metadata": {
    "collapsed": false
   },
   "outputs": [
    {
     "data": {
      "image/png": "[encoded data removed]",
      "text/plain": [
       "<matplotlib.figure.Figure at 0x7f075d4923d0>"
      ]
     },
     "metadata": {},
     "output_type": "display_data"
    }
   ],
   "source": [
    "plt.figure(1)\n",
    "weights = [1.0, 1.0, 1.0, 1.0, sys.float_info.epsilon]\n",
    "# calculate polynomial\n",
    "x = tensions[0]\n",
    "y = tensions[1]\n",
    "x_extra = x + x[-1:]\n",
    "y_extra = y + y[-1:]\n",
    "coef,cov = np.polyfit(x_extra, y_extra, 1, w=weights,cov=True)\n",
    "func = np.poly1d(coef)\n",
    "kerr, berr = np.sqrt(np.diag(cov))[0], np.sqrt(np.diag(cov))[1]\n",
    "k,b = coef[0], coef[1]\n",
    "\n",
    "# calculate new x's and y's\n",
    "x_new = np.linspace(x[0], x[-1], 100)\n",
    "y_new = func(x_new)\n",
    "\n",
    "#sugar\n",
    "plt.errorbar(x, y, yerr=tensions[2], fmt='k.')\n",
    "plt.xlim([x[0]-1, x[-1] + 1 ])\n",
    "plt.xlabel(u'$\\omega$, 1/c * $10^{-15}$')\n",
    "plt.ylabel(u'$V_{0}$, Volt')\n",
    "plt.title(u'The calibration of the monochromator')\n",
    "plt.grid(True)\n",
    "\n",
    "#plot\n",
    "plt.plot(x,y,'o', x_new, y_new)\n",
    "plt.text(2.25, 1.0,r'$k=$%f$\\pm$%f'%(k,kerr)+'\\n'+r'$b=$%f$\\pm$%f'%(b,berr))\n",
    "plt.show()"
   ]
  },
  {
   "cell_type": "code",
   "execution_count": 24,
   "metadata": {
    "collapsed": false
   },
   "outputs": [
    {
     "name": "stdout",
     "output_type": "stream",
     "text": [
      "1.83793011025±0.99052025206\n"
     ]
    }
   ],
   "source": [
    "plunk = coef[0]/1.6\n",
    "err = plunk * np.sqrt((kerr/k)*(kerr/k) + (berr/b)*(berr/b))\n",
    "print str(plunk) + u'±' + str(err)"
   ]
  },
  {
   "cell_type": "markdown",
   "metadata": {
    "collapsed": true
   },
   "source": [
    "### Вывод\n",
    "Полученная постоянная Планка совпадает по порядку величины, и погрешность покрывает значение из справочников"
   ]
  }
 ],
 "metadata": {
  "kernelspec": {
   "display_name": "Python 2",
   "language": "python",
   "name": "python2"
  },
  "language_info": {
   "codemirror_mode": {
    "name": "ipython",
    "version": 2
   },
   "file_extension": ".py",
   "mimetype": "text/x-python",
   "name": "python",
   "nbconvert_exporter": "python",
   "pygments_lexer": "ipython2",
   "version": "2.7.12"
  }
 },
 "nbformat": 4,
 "nbformat_minor": 0
}
