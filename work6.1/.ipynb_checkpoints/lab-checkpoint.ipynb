{
 "cells": [
  {
   "cell_type": "markdown",
   "metadata": {},
   "source": [
    "# Лабораторная работа № 6.1\n",
    "## Эффект Мессбауэра"
   ]
  },
  {
   "cell_type": "markdown",
   "metadata": {},
   "source": [
    "С помощью метода доплеровского сдвига мессбауэровской линиии поглощения исследуется резонансное поглощение гамма лучей, испускаемых ядрами олова в соединеннии BaSnO3 при комнатной температуре. Определяется положение максимума резонансного поглощения, его величина, а также экспериментальня ширина линии Гэкс. Оценивается время жизни возбужденного состояния ядра олова."
   ]
  },
  {
   "cell_type": "code",
   "execution_count": 1,
   "metadata": {
    "collapsed": true
   },
   "outputs": [],
   "source": [
    "# -*- coding: utf-8 -*-\n",
    "import matplotlib.pyplot as plt\n",
    "%matplotlib inline\n",
    "import numpy as np\n",
    "import pandas as pd\n",
    "import scipy.interpolate as scpint\n",
    "pd.set_option('display.max_columns', 20)\n",
    "pd.set_option('display.max_rows', 50)"
   ]
  },
  {
   "cell_type": "markdown",
   "metadata": {},
   "source": [
    "Загрузим данные"
   ]
  },
  {
   "cell_type": "code",
   "execution_count": 2,
   "metadata": {
    "collapsed": true
   },
   "outputs": [],
   "source": [
    "# фон в случае 1-ого и 2-ого поглотителей\n",
    "backgroundAbsorber1 = 19.9\n",
    "backgroundAbsorber2 = 20.7"
   ]
  },
  {
   "cell_type": "code",
   "execution_count": 3,
   "metadata": {
    "collapsed": false
   },
   "outputs": [],
   "source": [
    "dataLLUL = pd.read_csv(\"dataLLUL.csv\")\n",
    "dataAbsorber1 = pd.read_csv(\"dataAbsorber1.csv\")\n",
    "dataAbsorber2 = pd.read_csv(\"dataAbsorber2.csv\")"
   ]
  },
  {
   "cell_type": "code",
   "execution_count": 4,
   "metadata": {
    "collapsed": false
   },
   "outputs": [
    {
     "data": {
      "text/html": [
       "<div>\n",
       "<table border=\"1\" class=\"dataframe\">\n",
       "  <thead>\n",
       "    <tr style=\"text-align: right;\">\n",
       "      <th></th>\n",
       "      <th>LL, V</th>\n",
       "      <th>I, 1/s</th>\n",
       "    </tr>\n",
       "  </thead>\n",
       "  <tbody>\n",
       "    <tr>\n",
       "      <th>0</th>\n",
       "      <td>0.0</td>\n",
       "      <td>105629.4</td>\n",
       "    </tr>\n",
       "    <tr>\n",
       "      <th>1</th>\n",
       "      <td>0.5</td>\n",
       "      <td>210.6</td>\n",
       "    </tr>\n",
       "    <tr>\n",
       "      <th>2</th>\n",
       "      <td>1.0</td>\n",
       "      <td>22.2</td>\n",
       "    </tr>\n",
       "    <tr>\n",
       "      <th>3</th>\n",
       "      <td>1.5</td>\n",
       "      <td>11.4</td>\n",
       "    </tr>\n",
       "    <tr>\n",
       "      <th>4</th>\n",
       "      <td>2.0</td>\n",
       "      <td>33.2</td>\n",
       "    </tr>\n",
       "    <tr>\n",
       "      <th>5</th>\n",
       "      <td>2.5</td>\n",
       "      <td>82.8</td>\n",
       "    </tr>\n",
       "    <tr>\n",
       "      <th>6</th>\n",
       "      <td>3.0</td>\n",
       "      <td>170.2</td>\n",
       "    </tr>\n",
       "    <tr>\n",
       "      <th>7</th>\n",
       "      <td>3.5</td>\n",
       "      <td>294.0</td>\n",
       "    </tr>\n",
       "    <tr>\n",
       "      <th>8</th>\n",
       "      <td>4.0</td>\n",
       "      <td>403.8</td>\n",
       "    </tr>\n",
       "    <tr>\n",
       "      <th>9</th>\n",
       "      <td>4.5</td>\n",
       "      <td>467.2</td>\n",
       "    </tr>\n",
       "    <tr>\n",
       "      <th>10</th>\n",
       "      <td>5.0</td>\n",
       "      <td>453.8</td>\n",
       "    </tr>\n",
       "    <tr>\n",
       "      <th>11</th>\n",
       "      <td>5.5</td>\n",
       "      <td>355.8</td>\n",
       "    </tr>\n",
       "    <tr>\n",
       "      <th>12</th>\n",
       "      <td>6.0</td>\n",
       "      <td>235.4</td>\n",
       "    </tr>\n",
       "    <tr>\n",
       "      <th>13</th>\n",
       "      <td>6.5</td>\n",
       "      <td>129.2</td>\n",
       "    </tr>\n",
       "    <tr>\n",
       "      <th>14</th>\n",
       "      <td>7.0</td>\n",
       "      <td>67.4</td>\n",
       "    </tr>\n",
       "    <tr>\n",
       "      <th>15</th>\n",
       "      <td>7.5</td>\n",
       "      <td>27.6</td>\n",
       "    </tr>\n",
       "    <tr>\n",
       "      <th>16</th>\n",
       "      <td>8.0</td>\n",
       "      <td>11.6</td>\n",
       "    </tr>\n",
       "    <tr>\n",
       "      <th>17</th>\n",
       "      <td>8.5</td>\n",
       "      <td>8.6</td>\n",
       "    </tr>\n",
       "    <tr>\n",
       "      <th>18</th>\n",
       "      <td>9.0</td>\n",
       "      <td>3.4</td>\n",
       "    </tr>\n",
       "    <tr>\n",
       "      <th>19</th>\n",
       "      <td>9.5</td>\n",
       "      <td>5.2</td>\n",
       "    </tr>\n",
       "  </tbody>\n",
       "</table>\n",
       "</div>"
      ],
      "text/plain": [
       "    LL, V    I, 1/s\n",
       "0     0.0  105629.4\n",
       "1     0.5     210.6\n",
       "2     1.0      22.2\n",
       "3     1.5      11.4\n",
       "4     2.0      33.2\n",
       "5     2.5      82.8\n",
       "6     3.0     170.2\n",
       "7     3.5     294.0\n",
       "8     4.0     403.8\n",
       "9     4.5     467.2\n",
       "10    5.0     453.8\n",
       "11    5.5     355.8\n",
       "12    6.0     235.4\n",
       "13    6.5     129.2\n",
       "14    7.0      67.4\n",
       "15    7.5      27.6\n",
       "16    8.0      11.6\n",
       "17    8.5       8.6\n",
       "18    9.0       3.4\n",
       "19    9.5       5.2"
      ]
     },
     "execution_count": 4,
     "metadata": {},
     "output_type": "execute_result"
    }
   ],
   "source": [
    "dataLLUL"
   ]
  },
  {
   "cell_type": "code",
   "execution_count": 5,
   "metadata": {
    "collapsed": false
   },
   "outputs": [
    {
     "data": {
      "image/png": "[encoded data removed]",
      "text/plain": [
       "<matplotlib.figure.Figure at 0x7f51e1c2bad0>"
      ]
     },
     "metadata": {},
     "output_type": "display_data"
    }
   ],
   "source": [
    "plt.figure(num=None, figsize=(12, 6), dpi=80, facecolor='w', edgecolor='k')\n",
    "plt.subplot()\n",
    "\n",
    "x = dataLLUL.values.T[0]\n",
    "y = dataLLUL.values.T[1]\n",
    "\n",
    "plt.xlabel(u'Lover Level, V')\n",
    "plt.ylabel(u'Intensity, N per second')\n",
    "plt.title(u'Measurement of the spectrum of the source')\n",
    "plt.grid(True)\n",
    "\n",
    "plt.plot(x, y, 'o', color='b')\n",
    "plt.show()"
   ]
  },
  {
   "cell_type": "markdown",
   "metadata": {},
   "source": [
    "Первое значение очень больше, ничего не видно, посмотрим без него."
   ]
  },
  {
   "cell_type": "code",
   "execution_count": 6,
   "metadata": {
    "collapsed": false
   },
   "outputs": [
    {
     "data": {
      "image/png": "[encoded data removed]",
      "text/plain": [
       "<matplotlib.figure.Figure at 0x7f51e1bf9d50>"
      ]
     },
     "metadata": {},
     "output_type": "display_data"
    }
   ],
   "source": [
    "plt.figure(num=None, figsize=(12, 6), dpi=80, facecolor='w', edgecolor='k')\n",
    "plt.subplot()\n",
    "\n",
    "x = dataLLUL.values.T[0][1:]\n",
    "y = dataLLUL.values.T[1][1:]\n",
    "\n",
    "plt.xlabel(u'Lover Level, V')\n",
    "plt.ylabel(u'Intensity, N per second')\n",
    "plt.title(u'Measurement of the spectrum of the source')\n",
    "plt.grid(True)\n",
    "\n",
    "plt.plot(x, y, 'o', color='b')\n",
    "plt.show()"
   ]
  },
  {
   "cell_type": "markdown",
   "metadata": {},
   "source": [
    "Основываясь на этой картине выберем нижний порог в 1.8 В, а верхний в 9В.\n",
    "Ход поглотителя 8.77 $\\pm$ 0.02 мм"
   ]
  },
  {
   "cell_type": "markdown",
   "metadata": {},
   "source": [
    "Построим график поглощения для первого поглотителя без вычета фона."
   ]
  },
  {
   "cell_type": "code",
   "execution_count": 7,
   "metadata": {
    "collapsed": false
   },
   "outputs": [
    {
     "data": {
      "text/html": [
       "<div>\n",
       "<table border=\"1\" class=\"dataframe\">\n",
       "  <thead>\n",
       "    <tr style=\"text-align: right;\">\n",
       "      <th></th>\n",
       "      <th>V-, mm/s</th>\n",
       "      <th>I-, 1/s</th>\n",
       "      <th>V+, mm/s</th>\n",
       "      <th>I+, 1/s</th>\n",
       "    </tr>\n",
       "  </thead>\n",
       "  <tbody>\n",
       "    <tr>\n",
       "      <th>0</th>\n",
       "      <td>0.00</td>\n",
       "      <td>10506.6</td>\n",
       "      <td>0.00</td>\n",
       "      <td>10506.6</td>\n",
       "    </tr>\n",
       "    <tr>\n",
       "      <th>1</th>\n",
       "      <td>-4.85</td>\n",
       "      <td>5091.1</td>\n",
       "      <td>4.89</td>\n",
       "      <td>5065.5</td>\n",
       "    </tr>\n",
       "    <tr>\n",
       "      <th>2</th>\n",
       "      <td>-4.58</td>\n",
       "      <td>5148.6</td>\n",
       "      <td>4.60</td>\n",
       "      <td>5135.6</td>\n",
       "    </tr>\n",
       "    <tr>\n",
       "      <th>3</th>\n",
       "      <td>-4.23</td>\n",
       "      <td>5201.9</td>\n",
       "      <td>4.26</td>\n",
       "      <td>5159.2</td>\n",
       "    </tr>\n",
       "    <tr>\n",
       "      <th>4</th>\n",
       "      <td>-3.93</td>\n",
       "      <td>5211.4</td>\n",
       "      <td>3.97</td>\n",
       "      <td>5134.2</td>\n",
       "    </tr>\n",
       "    <tr>\n",
       "      <th>5</th>\n",
       "      <td>-3.57</td>\n",
       "      <td>5201.4</td>\n",
       "      <td>3.58</td>\n",
       "      <td>5089.1</td>\n",
       "    </tr>\n",
       "    <tr>\n",
       "      <th>6</th>\n",
       "      <td>-3.40</td>\n",
       "      <td>5222.9</td>\n",
       "      <td>3.41</td>\n",
       "      <td>5056.2</td>\n",
       "    </tr>\n",
       "    <tr>\n",
       "      <th>7</th>\n",
       "      <td>-3.08</td>\n",
       "      <td>5194.4</td>\n",
       "      <td>3.09</td>\n",
       "      <td>4986.2</td>\n",
       "    </tr>\n",
       "    <tr>\n",
       "      <th>8</th>\n",
       "      <td>-2.67</td>\n",
       "      <td>5181.9</td>\n",
       "      <td>2.72</td>\n",
       "      <td>4769.4</td>\n",
       "    </tr>\n",
       "    <tr>\n",
       "      <th>9</th>\n",
       "      <td>-2.28</td>\n",
       "      <td>5177.2</td>\n",
       "      <td>2.30</td>\n",
       "      <td>4640.2</td>\n",
       "    </tr>\n",
       "    <tr>\n",
       "      <th>10</th>\n",
       "      <td>-1.94</td>\n",
       "      <td>5203.6</td>\n",
       "      <td>1.95</td>\n",
       "      <td>4862.4</td>\n",
       "    </tr>\n",
       "    <tr>\n",
       "      <th>11</th>\n",
       "      <td>-1.68</td>\n",
       "      <td>5189.0</td>\n",
       "      <td>1.68</td>\n",
       "      <td>5010.6</td>\n",
       "    </tr>\n",
       "    <tr>\n",
       "      <th>12</th>\n",
       "      <td>-1.66</td>\n",
       "      <td>5201.5</td>\n",
       "      <td>1.67</td>\n",
       "      <td>5055.0</td>\n",
       "    </tr>\n",
       "  </tbody>\n",
       "</table>\n",
       "</div>"
      ],
      "text/plain": [
       "    V-, mm/s  I-, 1/s  V+, mm/s  I+, 1/s\n",
       "0       0.00  10506.6      0.00  10506.6\n",
       "1      -4.85   5091.1      4.89   5065.5\n",
       "2      -4.58   5148.6      4.60   5135.6\n",
       "3      -4.23   5201.9      4.26   5159.2\n",
       "4      -3.93   5211.4      3.97   5134.2\n",
       "5      -3.57   5201.4      3.58   5089.1\n",
       "6      -3.40   5222.9      3.41   5056.2\n",
       "7      -3.08   5194.4      3.09   4986.2\n",
       "8      -2.67   5181.9      2.72   4769.4\n",
       "9      -2.28   5177.2      2.30   4640.2\n",
       "10     -1.94   5203.6      1.95   4862.4\n",
       "11     -1.68   5189.0      1.68   5010.6\n",
       "12     -1.66   5201.5      1.67   5055.0"
      ]
     },
     "execution_count": 7,
     "metadata": {},
     "output_type": "execute_result"
    }
   ],
   "source": [
    "for i,v in enumerate(dataAbsorber1.values.T[0]):\n",
    "    dataAbsorber1.values.T[0][i] = 0 - v\n",
    "dataAbsorber1"
   ]
  },
  {
   "cell_type": "code",
   "execution_count": 101,
   "metadata": {
    "collapsed": false
   },
   "outputs": [
    {
     "data": {
      "image/png": "[encoded data removed]",
      "text/plain": [
       "<matplotlib.figure.Figure at 0x7f51e19e5a90>"
      ]
     },
     "metadata": {},
     "output_type": "display_data"
    }
   ],
   "source": [
    "plt.figure(num=None, figsize=(12, 6), dpi=80, facecolor='w', edgecolor='k')\n",
    "plt.subplot()\n",
    "\n",
    "x = np.concatenate([dataAbsorber1.values.T[0], dataAbsorber1.values.T[2]]) \n",
    "y = np.concatenate([dataAbsorber1.values.T[1], dataAbsorber1.values.T[3]])\n",
    "\n",
    "plt.xlabel(u'Velocity, mm/s')\n",
    "plt.ylabel(u'Intensity, 1/s')\n",
    "plt.title(u'Study of elastic absorbtion (first absorber)')\n",
    "plt.grid(True)\n",
    "\n",
    "plt.plot(x, y, 'o', color='b')\n",
    "plt.plot(x[23], y[23], 'ro')\n",
    "plt.plot(x[21], y[21], 'ro')\n",
    "plt.plot(x[22], y[22], 'go')\n",
    "plt.plot(x[20], y[20], 'yo')\n",
    "plt.plot(x[25], y[25], 'yo')\n",
    "plt.show()"
   ]
  },
  {
   "cell_type": "markdown",
   "metadata": {},
   "source": [
    "Найдем амплитуду резонансного поглощения."
   ]
  },
  {
   "cell_type": "code",
   "execution_count": 38,
   "metadata": {
    "collapsed": false
   },
   "outputs": [
    {
     "name": "stdout",
     "output_type": "stream",
     "text": [
      "10.0 ± 2.0%\n"
     ]
    }
   ],
   "source": [
    "#Определим Ninf как среднее между максимальным и минимальным N в областях, где резонансное поглощение отсутствует\n",
    "Ninf = 5134.2\n",
    "Ninferr = np.sqrt(Ninf)\n",
    "Nv = y.min()\n",
    "Nverr = np.sqrt(Nv)\n",
    "res = (Ninf - Nv)/(Ninf - backgroundAbsorber1)\n",
    "err = res * np.sqrt(((np.sqrt(Ninferr**2 + Nverr**2))/(Ninf-Nv))**2 + (Ninferr/(Ninf-backgroundAbsorber1))**2)\n",
    "\n",
    "print str(round(res,2) * 100) + \" ± \" + str(round(err,2) * 100) + \"%\""
   ]
  },
  {
   "cell_type": "markdown",
   "metadata": {},
   "source": [
    "Определим величину химического сдвига."
   ]
  },
  {
   "cell_type": "code",
   "execution_count": 59,
   "metadata": {
    "collapsed": false
   },
   "outputs": [
    {
     "name": "stdout",
     "output_type": "stream",
     "text": [
      "2.3 ± 0.39 мм/с\n",
      "1.82466666667e-07 ± 3.05433333333e-08 эВ\n"
     ]
    }
   ],
   "source": [
    "print str(round(x[22],2)) + \" ± \" + str(round((x[21] - x[23])/2, 2)) + \" мм/с\"\n",
    "print str(23.8/3e08 * x[22]) + \" ± \" + str(((x[21] - x[23])/(2*x[22]))*(23.8/3e08 * x[22])) + \" эВ\""
   ]
  },
  {
   "cell_type": "markdown",
   "metadata": {},
   "source": [
    "Найдём экспериментальную ширину линии 2Г."
   ]
  },
  {
   "cell_type": "code",
   "execution_count": 104,
   "metadata": {
    "collapsed": false
   },
   "outputs": [
    {
     "name": "stdout",
     "output_type": "stream",
     "text": [
      "1.42 мм/с\n",
      "1.12653333333e-07 эВ\n"
     ]
    }
   ],
   "source": [
    "print str(round(x[20] - x[25],2)) + \" мм/с\"\n",
    "print str((x[20] - x[25])*23.8/3e08) + \" эВ\""
   ]
  },
  {
   "cell_type": "markdown",
   "metadata": {},
   "source": [
    "Построим график поглощения для второго поглотителя без вычета фона."
   ]
  },
  {
   "cell_type": "code",
   "execution_count": 10,
   "metadata": {
    "collapsed": false
   },
   "outputs": [
    {
     "data": {
      "text/html": [
       "<div>\n",
       "<table border=\"1\" class=\"dataframe\">\n",
       "  <thead>\n",
       "    <tr style=\"text-align: right;\">\n",
       "      <th></th>\n",
       "      <th>V-, mm/s</th>\n",
       "      <th>I-, 1/s</th>\n",
       "      <th>V+, mm/s</th>\n",
       "      <th>I+, 1/s</th>\n",
       "    </tr>\n",
       "  </thead>\n",
       "  <tbody>\n",
       "    <tr>\n",
       "      <th>0</th>\n",
       "      <td>0.00</td>\n",
       "      <td>2205.7</td>\n",
       "      <td>0.00</td>\n",
       "      <td>2205.7</td>\n",
       "    </tr>\n",
       "    <tr>\n",
       "      <th>1</th>\n",
       "      <td>-5.09</td>\n",
       "      <td>2125.5</td>\n",
       "      <td>5.10</td>\n",
       "      <td>2082.1</td>\n",
       "    </tr>\n",
       "    <tr>\n",
       "      <th>2</th>\n",
       "      <td>-4.64</td>\n",
       "      <td>2103.8</td>\n",
       "      <td>4.65</td>\n",
       "      <td>2070.8</td>\n",
       "    </tr>\n",
       "    <tr>\n",
       "      <th>3</th>\n",
       "      <td>-4.41</td>\n",
       "      <td>2105.0</td>\n",
       "      <td>4.45</td>\n",
       "      <td>2077.4</td>\n",
       "    </tr>\n",
       "    <tr>\n",
       "      <th>4</th>\n",
       "      <td>-3.97</td>\n",
       "      <td>2112.7</td>\n",
       "      <td>4.00</td>\n",
       "      <td>2046.3</td>\n",
       "    </tr>\n",
       "    <tr>\n",
       "      <th>5</th>\n",
       "      <td>-3.47</td>\n",
       "      <td>2089.9</td>\n",
       "      <td>3.47</td>\n",
       "      <td>1996.3</td>\n",
       "    </tr>\n",
       "    <tr>\n",
       "      <th>6</th>\n",
       "      <td>-3.18</td>\n",
       "      <td>2088.5</td>\n",
       "      <td>3.19</td>\n",
       "      <td>1962.1</td>\n",
       "    </tr>\n",
       "    <tr>\n",
       "      <th>7</th>\n",
       "      <td>-2.67</td>\n",
       "      <td>2101.6</td>\n",
       "      <td>2.68</td>\n",
       "      <td>1789.9</td>\n",
       "    </tr>\n",
       "    <tr>\n",
       "      <th>8</th>\n",
       "      <td>-2.22</td>\n",
       "      <td>2103.6</td>\n",
       "      <td>2.20</td>\n",
       "      <td>1751.6</td>\n",
       "    </tr>\n",
       "    <tr>\n",
       "      <th>9</th>\n",
       "      <td>-1.35</td>\n",
       "      <td>2107.6</td>\n",
       "      <td>0.67</td>\n",
       "      <td>2031.1</td>\n",
       "    </tr>\n",
       "    <tr>\n",
       "      <th>10</th>\n",
       "      <td>-1.65</td>\n",
       "      <td>2107.0</td>\n",
       "      <td>1.64</td>\n",
       "      <td>1981.6</td>\n",
       "    </tr>\n",
       "    <tr>\n",
       "      <th>11</th>\n",
       "      <td>-1.44</td>\n",
       "      <td>2086.0</td>\n",
       "      <td>1.43</td>\n",
       "      <td>2014.2</td>\n",
       "    </tr>\n",
       "    <tr>\n",
       "      <th>12</th>\n",
       "      <td>-1.16</td>\n",
       "      <td>2118.3</td>\n",
       "      <td>1.16</td>\n",
       "      <td>2069.1</td>\n",
       "    </tr>\n",
       "    <tr>\n",
       "      <th>13</th>\n",
       "      <td>-1.61</td>\n",
       "      <td>2101.2</td>\n",
       "      <td>1.60</td>\n",
       "      <td>1992.3</td>\n",
       "    </tr>\n",
       "    <tr>\n",
       "      <th>14</th>\n",
       "      <td>-1.64</td>\n",
       "      <td>2112.2</td>\n",
       "      <td>1.63</td>\n",
       "      <td>1986.3</td>\n",
       "    </tr>\n",
       "    <tr>\n",
       "      <th>15</th>\n",
       "      <td>-2.05</td>\n",
       "      <td>2105.1</td>\n",
       "      <td>2.04</td>\n",
       "      <td>1822.4</td>\n",
       "    </tr>\n",
       "  </tbody>\n",
       "</table>\n",
       "</div>"
      ],
      "text/plain": [
       "    V-, mm/s  I-, 1/s  V+, mm/s  I+, 1/s\n",
       "0       0.00   2205.7      0.00   2205.7\n",
       "1      -5.09   2125.5      5.10   2082.1\n",
       "2      -4.64   2103.8      4.65   2070.8\n",
       "3      -4.41   2105.0      4.45   2077.4\n",
       "4      -3.97   2112.7      4.00   2046.3\n",
       "5      -3.47   2089.9      3.47   1996.3\n",
       "6      -3.18   2088.5      3.19   1962.1\n",
       "7      -2.67   2101.6      2.68   1789.9\n",
       "8      -2.22   2103.6      2.20   1751.6\n",
       "9      -1.35   2107.6      0.67   2031.1\n",
       "10     -1.65   2107.0      1.64   1981.6\n",
       "11     -1.44   2086.0      1.43   2014.2\n",
       "12     -1.16   2118.3      1.16   2069.1\n",
       "13     -1.61   2101.2      1.60   1992.3\n",
       "14     -1.64   2112.2      1.63   1986.3\n",
       "15     -2.05   2105.1      2.04   1822.4"
      ]
     },
     "execution_count": 10,
     "metadata": {},
     "output_type": "execute_result"
    }
   ],
   "source": [
    "for i,v in enumerate(dataAbsorber2.values.T[0]):\n",
    "    dataAbsorber2.values.T[0][i] = 0 - v\n",
    "dataAbsorber2"
   ]
  },
  {
   "cell_type": "code",
   "execution_count": 117,
   "metadata": {
    "collapsed": false
   },
   "outputs": [
    {
     "data": {
      "image/png": "[encoded data removed]",
      "text/plain": [
       "<matplotlib.figure.Figure at 0x7f51e1739cd0>"
      ]
     },
     "metadata": {},
     "output_type": "display_data"
    }
   ],
   "source": [
    "plt.figure(num=None, figsize=(12, 6), dpi=80, facecolor='w', edgecolor='k')\n",
    "plt.subplot()\n",
    "\n",
    "x = np.concatenate([dataAbsorber2.values.T[0], dataAbsorber2.values.T[2]]) \n",
    "y = np.concatenate([dataAbsorber2.values.T[1], dataAbsorber2.values.T[3]])\n",
    "\n",
    "plt.xlabel(u'Velocity, mm/s')\n",
    "plt.ylabel(u'Intensity, 1/s')\n",
    "plt.title(u'Study of elastic absorbtion (second absorber)')\n",
    "plt.grid(True)\n",
    "\n",
    "plt.plot(x, y, 'o', color='b')\n",
    "plt.plot(x[23], y[23], 'ro')\n",
    "plt.plot(x[31], y[31], 'ro')\n",
    "plt.plot(x[24], y[24], 'go')\n",
    "plt.plot(x[22], y[22], 'yo')\n",
    "plt.plot(x[26], y[26], 'yo')\n",
    "plt.show()"
   ]
  },
  {
   "cell_type": "markdown",
   "metadata": {},
   "source": [
    "Найдём величину химического сдвига"
   ]
  },
  {
   "cell_type": "code",
   "execution_count": 98,
   "metadata": {
    "collapsed": false
   },
   "outputs": [
    {
     "name": "stdout",
     "output_type": "stream",
     "text": [
      "2.2 ± 0.32 мм/с\n",
      "1.74533333333e-07 ± 2.53866666667e-08 эВ\n"
     ]
    }
   ],
   "source": [
    "print str(round(x[24],2)) + \" ± \" + str(round((x[23] - x[31])/2, 2)) + \" мм/с\"\n",
    "print str(23.8/3e08 * x[24]) + \" ± \" + str(((x[23] - x[31])/(2*x[24]))*(23.8/3e08 * x[24])) + \" эВ\""
   ]
  },
  {
   "cell_type": "markdown",
   "metadata": {},
   "source": [
    "Найдём экспериментальную ширину линии 2Г."
   ]
  },
  {
   "cell_type": "code",
   "execution_count": 118,
   "metadata": {
    "collapsed": false
   },
   "outputs": [
    {
     "name": "stdout",
     "output_type": "stream",
     "text": [
      "1.55 мм/с\n",
      "1.22966666667e-07 эВ\n"
     ]
    }
   ],
   "source": [
    "print str(round(x[22] - x[26],2)) + \" мм/с\"\n",
    "print str((x[22] - x[26])*23.8/3e08) + \" эВ\""
   ]
  },
  {
   "cell_type": "markdown",
   "metadata": {},
   "source": [
    "Найдём амплитуду резонансного поглощения."
   ]
  },
  {
   "cell_type": "code",
   "execution_count": 13,
   "metadata": {
    "collapsed": false
   },
   "outputs": [
    {
     "name": "stdout",
     "output_type": "stream",
     "text": [
      "16.0 ± 3.0%\n"
     ]
    }
   ],
   "source": [
    "#Определим Ninf как среднее между максимальным и минимальным N в областях, где резонансное поглощение отсутствует\n",
    "Ninf = 2070.8\n",
    "Ninferr = np.sqrt(Ninf)\n",
    "Nv = y.min()\n",
    "Nverr = np.sqrt(Nv)\n",
    "res = (Ninf - Nv)/(Ninf - backgroundAbsorber2)\n",
    "err = res * np.sqrt(((np.sqrt(Ninferr**2 + Nverr**2))/(Ninf-Nv))**2 + (Ninferr/(Ninf-backgroundAbsorber2))**2)\n",
    "\n",
    "print str(round(res,2) * 100) + \" ± \" + str(round(err,2) * 100) + \"%\""
   ]
  }
 ],
 "metadata": {
  "kernelspec": {
   "display_name": "Python 2",
   "language": "python",
   "name": "python2"
  },
  "language_info": {
   "codemirror_mode": {
    "name": "ipython",
    "version": 2
   },
   "file_extension": ".py",
   "mimetype": "text/x-python",
   "name": "python",
   "nbconvert_exporter": "python",
   "pygments_lexer": "ipython2",
   "version": "2.7.12"
  }
 },
 "nbformat": 4,
 "nbformat_minor": 1
}
