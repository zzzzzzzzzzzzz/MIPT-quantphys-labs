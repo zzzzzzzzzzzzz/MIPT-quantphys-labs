{
 "cells": [
  {
   "cell_type": "markdown",
   "metadata": {},
   "source": [
    "# Лабораторная работа №5.1\n",
    "## Измерение коэффициента ослабления потока $\\gamma$-лучей в веществе и определение их энергии\n",
    "С помощью сцинтилляционного счётчика измеряются линейные коэффициенты ослабления потока $\\gamma$-лучей в свинце, железе и алюминии; по их величине определяется энергия $\\gamma$-квантов."
   ]
  },
  {
   "cell_type": "code",
   "execution_count": 13,
   "metadata": {
    "collapsed": true
   },
   "outputs": [],
   "source": [
    "# -*- coding: utf-8 -*-\n",
    "import matplotlib.pyplot as plt\n",
    "%matplotlib inline\n",
    "import numpy as np\n",
    "import pandas as pd\n",
    "import scipy.interpolate as scpint\n",
    "import scipy.odr as odr"
   ]
  },
  {
   "cell_type": "markdown",
   "metadata": {},
   "source": [
    "Загрузим данные.\n",
    "Ошибка измерения толщины взялась из систематической погрешности штангенциркуля (половина цены деления), а погрешность числа частиц, как квадратный корень из числа зарегистрированных частиц, появилась из предположения, что подсчет каждой частицы происходит независимо, а источник излучает с некоторой средней интенсивностью (см. распределение Пуассона)"
   ]
  },
  {
   "cell_type": "code",
   "execution_count": 2,
   "metadata": {
    "collapsed": false
   },
   "outputs": [
    {
     "data": {
      "text/html": [
       "<div>\n",
       "<table border=\"1\" class=\"dataframe\">\n",
       "  <thead>\n",
       "    <tr style=\"text-align: right;\">\n",
       "      <th></th>\n",
       "      <th>l, sm</th>\n",
       "      <th>particles</th>\n",
       "      <th>err_l, sm</th>\n",
       "      <th>err_p</th>\n",
       "    </tr>\n",
       "  </thead>\n",
       "  <tbody>\n",
       "    <tr>\n",
       "      <th>0</th>\n",
       "      <td>0.47</td>\n",
       "      <td>43784</td>\n",
       "      <td>0.005</td>\n",
       "      <td>209.246266</td>\n",
       "    </tr>\n",
       "    <tr>\n",
       "      <th>1</th>\n",
       "      <td>0.97</td>\n",
       "      <td>24410</td>\n",
       "      <td>0.005</td>\n",
       "      <td>156.236999</td>\n",
       "    </tr>\n",
       "    <tr>\n",
       "      <th>2</th>\n",
       "      <td>1.43</td>\n",
       "      <td>14725</td>\n",
       "      <td>0.005</td>\n",
       "      <td>121.346611</td>\n",
       "    </tr>\n",
       "    <tr>\n",
       "      <th>3</th>\n",
       "      <td>1.86</td>\n",
       "      <td>8801</td>\n",
       "      <td>0.005</td>\n",
       "      <td>93.813645</td>\n",
       "    </tr>\n",
       "    <tr>\n",
       "      <th>4</th>\n",
       "      <td>2.32</td>\n",
       "      <td>5421</td>\n",
       "      <td>0.005</td>\n",
       "      <td>73.627441</td>\n",
       "    </tr>\n",
       "  </tbody>\n",
       "</table>\n",
       "</div>"
      ],
      "text/plain": [
       "   l, sm  particles  err_l, sm       err_p\n",
       "0   0.47      43784      0.005  209.246266\n",
       "1   0.97      24410      0.005  156.236999\n",
       "2   1.43      14725      0.005  121.346611\n",
       "3   1.86       8801      0.005   93.813645\n",
       "4   2.32       5421      0.005   73.627441"
      ]
     },
     "execution_count": 2,
     "metadata": {},
     "output_type": "execute_result"
    }
   ],
   "source": [
    "# Свинец\n",
    "dataPb = pd.read_csv(\"dataPb.csv\")\n",
    "dataPb"
   ]
  },
  {
   "cell_type": "code",
   "execution_count": 3,
   "metadata": {
    "collapsed": false
   },
   "outputs": [
    {
     "data": {
      "text/html": [
       "<div>\n",
       "<table border=\"1\" class=\"dataframe\">\n",
       "  <thead>\n",
       "    <tr style=\"text-align: right;\">\n",
       "      <th></th>\n",
       "      <th>l, sm</th>\n",
       "      <th>particles</th>\n",
       "      <th>err_l, sm</th>\n",
       "      <th>err_p</th>\n",
       "    </tr>\n",
       "  </thead>\n",
       "  <tbody>\n",
       "    <tr>\n",
       "      <th>0</th>\n",
       "      <td>1</td>\n",
       "      <td>43601</td>\n",
       "      <td>0.005</td>\n",
       "      <td>208.808525</td>\n",
       "    </tr>\n",
       "    <tr>\n",
       "      <th>1</th>\n",
       "      <td>2</td>\n",
       "      <td>24904</td>\n",
       "      <td>0.005</td>\n",
       "      <td>157.810012</td>\n",
       "    </tr>\n",
       "    <tr>\n",
       "      <th>2</th>\n",
       "      <td>3</td>\n",
       "      <td>14117</td>\n",
       "      <td>0.005</td>\n",
       "      <td>118.814982</td>\n",
       "    </tr>\n",
       "    <tr>\n",
       "      <th>3</th>\n",
       "      <td>4</td>\n",
       "      <td>8258</td>\n",
       "      <td>0.005</td>\n",
       "      <td>90.873539</td>\n",
       "    </tr>\n",
       "    <tr>\n",
       "      <th>4</th>\n",
       "      <td>5</td>\n",
       "      <td>4925</td>\n",
       "      <td>0.005</td>\n",
       "      <td>70.178344</td>\n",
       "    </tr>\n",
       "  </tbody>\n",
       "</table>\n",
       "</div>"
      ],
      "text/plain": [
       "   l, sm  particles  err_l, sm       err_p\n",
       "0      1      43601      0.005  208.808525\n",
       "1      2      24904      0.005  157.810012\n",
       "2      3      14117      0.005  118.814982\n",
       "3      4       8258      0.005   90.873539\n",
       "4      5       4925      0.005   70.178344"
      ]
     },
     "execution_count": 3,
     "metadata": {},
     "output_type": "execute_result"
    }
   ],
   "source": [
    "# Железо\n",
    "dataFe = pd.read_csv(\"dataFe.csv\")\n",
    "dataFe"
   ]
  },
  {
   "cell_type": "code",
   "execution_count": 5,
   "metadata": {
    "collapsed": false
   },
   "outputs": [
    {
     "data": {
      "text/html": [
       "<div>\n",
       "<table border=\"1\" class=\"dataframe\">\n",
       "  <thead>\n",
       "    <tr style=\"text-align: right;\">\n",
       "      <th></th>\n",
       "      <th>l, sm</th>\n",
       "      <th>particles</th>\n",
       "      <th>syserr_l, sm</th>\n",
       "      <th>err_p</th>\n",
       "    </tr>\n",
       "  </thead>\n",
       "  <tbody>\n",
       "    <tr>\n",
       "      <th>0</th>\n",
       "      <td>2</td>\n",
       "      <td>51490</td>\n",
       "      <td>0.005</td>\n",
       "      <td>226.914081</td>\n",
       "    </tr>\n",
       "    <tr>\n",
       "      <th>1</th>\n",
       "      <td>4</td>\n",
       "      <td>34404</td>\n",
       "      <td>0.005</td>\n",
       "      <td>185.483153</td>\n",
       "    </tr>\n",
       "    <tr>\n",
       "      <th>2</th>\n",
       "      <td>6</td>\n",
       "      <td>22505</td>\n",
       "      <td>0.005</td>\n",
       "      <td>150.016666</td>\n",
       "    </tr>\n",
       "    <tr>\n",
       "      <th>3</th>\n",
       "      <td>8</td>\n",
       "      <td>15270</td>\n",
       "      <td>0.005</td>\n",
       "      <td>123.571841</td>\n",
       "    </tr>\n",
       "    <tr>\n",
       "      <th>4</th>\n",
       "      <td>10</td>\n",
       "      <td>10313</td>\n",
       "      <td>0.005</td>\n",
       "      <td>101.552942</td>\n",
       "    </tr>\n",
       "  </tbody>\n",
       "</table>\n",
       "</div>"
      ],
      "text/plain": [
       "   l, sm  particles  syserr_l, sm       err_p\n",
       "0      2      51490         0.005  226.914081\n",
       "1      4      34404         0.005  185.483153\n",
       "2      6      22505         0.005  150.016666\n",
       "3      8      15270         0.005  123.571841\n",
       "4     10      10313         0.005  101.552942"
      ]
     },
     "execution_count": 5,
     "metadata": {},
     "output_type": "execute_result"
    }
   ],
   "source": [
    "# Алюминий\n",
    "dataAl = pd.read_csv(\"dataAl.csv\")\n",
    "dataAl"
   ]
  },
  {
   "cell_type": "code",
   "execution_count": 6,
   "metadata": {
    "collapsed": false
   },
   "outputs": [
    {
     "data": {
      "text/html": [
       "<div>\n",
       "<table border=\"1\" class=\"dataframe\">\n",
       "  <thead>\n",
       "    <tr style=\"text-align: right;\">\n",
       "      <th></th>\n",
       "      <th>l, sm</th>\n",
       "      <th>particles</th>\n",
       "      <th>syserr_l, sm</th>\n",
       "      <th>err_p</th>\n",
       "    </tr>\n",
       "  </thead>\n",
       "  <tbody>\n",
       "    <tr>\n",
       "      <th>0</th>\n",
       "      <td>5.79</td>\n",
       "      <td>74431</td>\n",
       "      <td>0.005</td>\n",
       "      <td>272.820454</td>\n",
       "    </tr>\n",
       "    <tr>\n",
       "      <th>1</th>\n",
       "      <td>11.58</td>\n",
       "      <td>69529</td>\n",
       "      <td>0.005</td>\n",
       "      <td>263.683522</td>\n",
       "    </tr>\n",
       "    <tr>\n",
       "      <th>2</th>\n",
       "      <td>15.44</td>\n",
       "      <td>67752</td>\n",
       "      <td>0.005</td>\n",
       "      <td>260.292144</td>\n",
       "    </tr>\n",
       "    <tr>\n",
       "      <th>3</th>\n",
       "      <td>19.30</td>\n",
       "      <td>65406</td>\n",
       "      <td>0.005</td>\n",
       "      <td>255.745968</td>\n",
       "    </tr>\n",
       "    <tr>\n",
       "      <th>4</th>\n",
       "      <td>21.23</td>\n",
       "      <td>64146</td>\n",
       "      <td>0.005</td>\n",
       "      <td>253.270606</td>\n",
       "    </tr>\n",
       "  </tbody>\n",
       "</table>\n",
       "</div>"
      ],
      "text/plain": [
       "   l, sm  particles  syserr_l, sm       err_p\n",
       "0   5.79      74431         0.005  272.820454\n",
       "1  11.58      69529         0.005  263.683522\n",
       "2  15.44      67752         0.005  260.292144\n",
       "3  19.30      65406         0.005  255.745968\n",
       "4  21.23      64146         0.005  253.270606"
      ]
     },
     "execution_count": 6,
     "metadata": {},
     "output_type": "execute_result"
    }
   ],
   "source": [
    "# Какая-то пробка или типо того\n",
    "dataShit = pd.read_csv(\"dataShit.csv\")\n",
    "dataShit"
   ]
  },
  {
   "cell_type": "markdown",
   "metadata": {},
   "source": [
    "Вычислим также число частиц без заслонок и посчитаем фон"
   ]
  },
  {
   "cell_type": "code",
   "execution_count": 12,
   "metadata": {
    "collapsed": false
   },
   "outputs": [
    {
     "name": "stdout",
     "output_type": "stream",
     "text": [
      "N0 = 76669.67 ± 91.52\n",
      "Фон = 328.67 ± 7.84\n"
     ]
    }
   ],
   "source": [
    "N0s = [76487, 76751, 76771]\n",
    "backgrounds = [343, 316, 327]\n",
    "N0 = np.mean(N0s)\n",
    "background = np.mean(backgrounds)\n",
    "N0err = 1/np.sqrt(2)*np.std(N0s)\n",
    "backgrounderr = 1/np.sqrt(2)*np.std(backgrounds)\n",
    "print \"N0 = \" + str(round(N0,2)) + \" ± \" + str(round(N0err,2)) + \" ч-ц\"\n",
    "print \"Фон = \" + str(round(background, 2)) + \" ± \" + str(round(backgrounderr, 2)) + \" ч-ц\""
   ]
  },
  {
   "cell_type": "markdown",
   "metadata": {},
   "source": [
    "Следуя указаниям в лабнике построим\n",
    "$$ln(N) = ln(N_0)-\\mu l$$\n",
    "* $N$ – число попавших в счётчик частиц с поглотителем\n",
    "* $N_0$ – число попавших в счётчик частиц в отсутсвии поглотителя\n",
    "* $\\mu$ – коэффициент ослабления потока, $sm^{-1}$\n",
    "* $l$ – толщина поглотителя, $sm$"
   ]
  },
  {
   "cell_type": "code",
   "execution_count": 46,
   "metadata": {
    "collapsed": false
   },
   "outputs": [],
   "source": [
    "# Функция для регрессии Деминга: https://docs.scipy.org/doc/scipy/reference/odr.html\n",
    "def f(B,x):\n",
    "    return B*x\n",
    "\n",
    "linear = odr.Model(f)"
   ]
  },
  {
   "cell_type": "markdown",
   "metadata": {},
   "source": [
    "Вычтем из каждого сета данных фон"
   ]
  },
  {
   "cell_type": "code",
   "execution_count": 47,
   "metadata": {
    "collapsed": true
   },
   "outputs": [],
   "source": [
    "dataPb.particles -= background\n",
    "dataPb.err_p = np.sqrt(dataPb.err_p**2 + backgrounderr**2)\n",
    "dataFe.particles -= background\n",
    "dataFe.err_p = np.sqrt(dataFe.err_p**2 + backgrounderr**2)\n",
    "dataAl.particles -= background\n",
    "dataAl.err_p = np.sqrt(dataAl.err_p**2 + backgrounderr**2)\n",
    "dataShit.particles -= background\n",
    "dataShit.err_p = np.sqrt(dataShit.err_p**2 + backgrounderr**2)"
   ]
  },
  {
   "cell_type": "markdown",
   "metadata": {},
   "source": [
    "### Свинец"
   ]
  },
  {
   "cell_type": "code",
   "execution_count": 57,
   "metadata": {
    "collapsed": false
   },
   "outputs": [
    {
     "data": {
      "image/png": "[encoded data removed]",
      "text/plain": [
       "<matplotlib.figure.Figure at 0x7f1636107d50>"
      ]
     },
     "metadata": {},
     "output_type": "display_data"
    }
   ],
   "source": [
    "plt.figure(num=None, figsize=(12, 6), dpi=80, facecolor='w', edgecolor='k')\n",
    "plt.subplot()\n",
    "\n",
    "\n",
    "y = np.log(N0) - np.log(dataPb.values.T[1])\n",
    "yerr = (1/dataPb.values.T[1])*np.sqrt(dataPb.values.T[3]**2 + N0err**2)\n",
    "x = dataPb.values.T[0]\n",
    "xerr = dataPb.values.T[2]\n",
    "\n",
    "mydata = odr.RealData(x, y, sx=xerr, sy=yerr)\n",
    "myodr = odr.ODR(mydata, linear, beta0=[1.])\n",
    "myoutput = myodr.run()\n",
    "\n",
    "x_new = np.linspace(0, x[-1], 50)\n",
    "y_new = myoutput.beta * x_new\n",
    "\n",
    "plt.xlabel('l, sm')\n",
    "plt.ylabel('$ln(N_0)-ln(N)$, particles')\n",
    "plt.title(\"$ln(N_0)-ln(N) = \\mu l$\")\n",
    "plt.grid(True)\n",
    "\n",
    "muPb = round(myoutput.beta, 3)\n",
    "muPbErr = round(myoutput.sd_beta, 3)\n",
    "\n",
    "\n",
    "plt.errorbar(x, y, xerr=xerr, yerr=yerr, fmt='k.',  color='r')\n",
    "plt.plot(x_new, y_new, 'k',  color='b')\n",
    "plt.text(0.5,2.0,r'$\\mu=$ %.3f $\\pm$ %.3f, $sm^{-1}$'%(muPb, muPbErr))\n",
    "plt.show()"
   ]
  },
  {
   "cell_type": "markdown",
   "metadata": {},
   "source": [
    "### Железо"
   ]
  },
  {
   "cell_type": "code",
   "execution_count": 58,
   "metadata": {
    "collapsed": false
   },
   "outputs": [
    {
     "data": {
      "image/png": "[encoded data removed]",
      "text/plain": [
       "<matplotlib.figure.Figure at 0x7f1635cbebd0>"
      ]
     },
     "metadata": {},
     "output_type": "display_data"
    }
   ],
   "source": [
    "plt.figure(num=None, figsize=(12, 6), dpi=80, facecolor='w', edgecolor='k')\n",
    "plt.subplot()\n",
    "\n",
    "\n",
    "y = np.log(N0) - np.log(dataFe.values.T[1])\n",
    "yerr = (1/dataFe.values.T[1])*np.sqrt(dataFe.values.T[3]**2 + N0err**2)\n",
    "x = dataFe.values.T[0]\n",
    "xerr = dataFe.values.T[2]\n",
    "\n",
    "mydata = odr.RealData(x, y, sx=xerr, sy=yerr)\n",
    "myodr = odr.ODR(mydata, linear, beta0=[1.])\n",
    "myoutput = myodr.run()\n",
    "\n",
    "x_new = np.linspace(0, x[-1], 50)\n",
    "y_new = myoutput.beta * x_new\n",
    "\n",
    "plt.xlabel('l, sm')\n",
    "plt.ylabel('$ln(N_0)-ln(N)$, particles')\n",
    "plt.title(\"$ln(N_0)-ln(N) = \\mu l$\")\n",
    "plt.grid(True)\n",
    "\n",
    "muFe = round(myoutput.beta, 3)\n",
    "muFeErr = round(myoutput.sd_beta, 3)\n",
    "\n",
    "plt.errorbar(x, y, xerr=xerr, yerr=yerr, fmt='k.',  color='r')\n",
    "plt.plot(x_new, y_new, 'k',  color='b')\n",
    "plt.text(0.5,2.0,r'$\\mu=$ %.3f $\\pm$ %.3f, $sm^{-1}$'%(muFe, muFeErr))\n",
    "plt.show()"
   ]
  },
  {
   "cell_type": "markdown",
   "metadata": {},
   "source": [
    "### Алюминий"
   ]
  },
  {
   "cell_type": "code",
   "execution_count": 59,
   "metadata": {
    "collapsed": false
   },
   "outputs": [
    {
     "data": {
      "image/png": "[encoded data removed]",
      "text/plain": [
       "<matplotlib.figure.Figure at 0x7f1635897810>"
      ]
     },
     "metadata": {},
     "output_type": "display_data"
    }
   ],
   "source": [
    "plt.figure(num=None, figsize=(12, 6), dpi=80, facecolor='w', edgecolor='k')\n",
    "plt.subplot()\n",
    "\n",
    "\n",
    "y = np.log(N0) - np.log(dataAl.values.T[1])\n",
    "yerr = (1/dataAl.values.T[1])*np.sqrt(dataAl.values.T[3]**2 + N0err**2)\n",
    "x = dataAl.values.T[0]\n",
    "xerr = dataAl.values.T[2]\n",
    "\n",
    "mydata = odr.RealData(x, y, sx=xerr, sy=yerr)\n",
    "myodr = odr.ODR(mydata, linear, beta0=[1.])\n",
    "myoutput = myodr.run()\n",
    "\n",
    "x_new = np.linspace(0, x[-1], 50)\n",
    "y_new = myoutput.beta * x_new\n",
    "\n",
    "plt.xlabel('l, sm')\n",
    "plt.ylabel('$ln(N_0)-ln(N)$, particles')\n",
    "plt.title(\"$ln(N_0)-ln(N) = \\mu l$\")\n",
    "plt.grid(True)\n",
    "\n",
    "muAl = round(myoutput.beta, 3)\n",
    "muAlErr = round(myoutput.sd_beta, 3)\n",
    "\n",
    "plt.errorbar(x, y, xerr=xerr, yerr=yerr, fmt='k.',  color='r')\n",
    "plt.plot(x_new, y_new, 'k',  color='b')\n",
    "plt.text(0.5,2.0,r'$\\mu=$ %.3f $\\pm$ %.3f, $sm^{-1}$'%(muAl, muAlErr))\n",
    "plt.show()"
   ]
  },
  {
   "cell_type": "markdown",
   "metadata": {},
   "source": [
    "### Какая-то пробка или что-то вроде того"
   ]
  },
  {
   "cell_type": "code",
   "execution_count": 60,
   "metadata": {
    "collapsed": false
   },
   "outputs": [
    {
     "data": {
      "image/png": "[encoded data removed]",
      "text/plain": [
       "<matplotlib.figure.Figure at 0x7f1635d02810>"
      ]
     },
     "metadata": {},
     "output_type": "display_data"
    }
   ],
   "source": [
    "plt.figure(num=None, figsize=(12, 6), dpi=80, facecolor='w', edgecolor='k')\n",
    "plt.subplot()\n",
    "\n",
    "\n",
    "y = np.log(N0) - np.log(dataShit.values.T[1])\n",
    "yerr = (1/dataShit.values.T[1])*np.sqrt(dataShit.values.T[3]**2 + N0err**2)\n",
    "x = dataShit.values.T[0]\n",
    "xerr = dataShit.values.T[2]\n",
    "\n",
    "mydata = odr.RealData(x, y, sx=xerr, sy=yerr)\n",
    "myodr = odr.ODR(mydata, linear, beta0=[1.])\n",
    "myoutput = myodr.run()\n",
    "\n",
    "x_new = np.linspace(0, x[-1], 50)\n",
    "y_new = myoutput.beta * x_new\n",
    "\n",
    "plt.xlabel('l, sm')\n",
    "plt.ylabel('$ln(N_0)-ln(N)$, particles')\n",
    "plt.title(\"$ln(N_0)-ln(N) = \\mu l$\")\n",
    "plt.grid(True)\n",
    "\n",
    "muShit = round(myoutput.beta, 3)\n",
    "muShitErr = round(myoutput.sd_beta, 3)\n",
    "\n",
    "plt.errorbar(x, y, xerr=xerr, yerr=yerr, fmt='k.',  color='r')\n",
    "plt.plot(x_new, y_new, 'k',  color='b')\n",
    "plt.text(5,0.15,r'$\\mu=$ %.3f $\\pm$ %.3f, $sm^{-1}$'%(muShit, muShitErr))\n",
    "plt.show()"
   ]
  },
  {
   "cell_type": "markdown",
   "metadata": {},
   "source": [
    "### Рассчёт $\\mu'$\n",
    "Из формул\n",
    "$$I=I_0 e^{-\\mu l}$$\n",
    "$$I=I_0 e^{-\\mu ' m_1}$$\n",
    "получаем, что \n",
    "$$\\mu ' = \\frac{\\mu l}{m_1}$$\n",
    "где\n",
    "* $I,I_0$ – интенсивности прошедшего и падающего излучений\n",
    "* $l$ – длина пути, пройденного пучком $\\gamma$-лучей\n",
    "* $m_1$ – масса пройденного вещества, приходящаяся на единицу площади\n",
    "\n",
    "Очевидно $m_1 = \\rho \\cdot l$, где $\\rho$ – плотность вещества\n",
    "Таким образом получаем формулу\n",
    "$$\\mu ' = \\frac{\\mu}{\\rho}$$"
   ]
  },
  {
   "cell_type": "markdown",
   "metadata": {},
   "source": [
    "#### Свинец"
   ]
  },
  {
   "cell_type": "code",
   "execution_count": 71,
   "metadata": {
    "collapsed": false
   },
   "outputs": [
    {
     "name": "stdout",
     "output_type": "stream",
     "text": [
      "0.104 ± 0.001 см^2/г\n"
     ]
    }
   ],
   "source": [
    "# плотность в г/cм^3\n",
    "muPbHatch = muPb / (11.341)\n",
    "print str(round(muPbHatch,3)) + \" ± \" + str(round(muPbHatch * (muPbErr/muPb), 3)) + \" см^2/г\""
   ]
  },
  {
   "cell_type": "markdown",
   "metadata": {},
   "source": [
    "#### Железо"
   ]
  },
  {
   "cell_type": "code",
   "execution_count": 72,
   "metadata": {
    "collapsed": false
   },
   "outputs": [
    {
     "name": "stdout",
     "output_type": "stream",
     "text": [
      "0.072 ± 0.0 см^2/г\n"
     ]
    }
   ],
   "source": [
    "muFeHatch = muFe / (7.874)\n",
    "print str(round(muFeHatch,3)) + \" ± \" + str(round(muFeHatch * (muFeErr/muFe), 3)) + \" см^2/г\""
   ]
  },
  {
   "cell_type": "markdown",
   "metadata": {},
   "source": [
    "#### Алюминий"
   ]
  },
  {
   "cell_type": "code",
   "execution_count": 73,
   "metadata": {
    "collapsed": false
   },
   "outputs": [
    {
     "name": "stdout",
     "output_type": "stream",
     "text": [
      "0.076 ± 0.0 см^2/г\n"
     ]
    }
   ],
   "source": [
    "muAlHatch = muAl / (2.698)\n",
    "print str(round(muAlHatch,3)) + \" ± \" + str(round(muAlHatch * (muAlErr/muAl), 3)) + \" см^2/г\""
   ]
  },
  {
   "cell_type": "markdown",
   "metadata": {},
   "source": [
    "#### Какая-то пробка или что-то вроде того"
   ]
  },
  {
   "cell_type": "code",
   "execution_count": 75,
   "metadata": {
    "collapsed": false
   },
   "outputs": [
    {
     "name": "stdout",
     "output_type": "stream",
     "text": [
      "0.04 ± 0.0 см^2/г\n"
     ]
    }
   ],
   "source": [
    "muShitHatch = muShit / (0.2)\n",
    "print str(round(muShitHatch,3)) + \" ± \" + str(round(muShitHatch * (muShitErr/muShit), 3)) + \" см^2/г\""
   ]
  },
  {
   "cell_type": "markdown",
   "metadata": {},
   "source": [
    "* Попробуем воспользоваться рис. 2 в учебнике, тогда энергия получается $\\simeq 1$ МэВ (на глаз).\n",
    "* По таблице для всех трех металлов энергия $\\gamma$-лучей $\\simeq 0.7$ МэВ (чуть менее на глаз)"
   ]
  },
  {
   "cell_type": "code",
   "execution_count": null,
   "metadata": {
    "collapsed": true
   },
   "outputs": [],
   "source": []
  }
 ],
 "metadata": {
  "kernelspec": {
   "display_name": "Python 2",
   "language": "python",
   "name": "python2"
  },
  "language_info": {
   "codemirror_mode": {
    "name": "ipython",
    "version": 2
   },
   "file_extension": ".py",
   "mimetype": "text/x-python",
   "name": "python",
   "nbconvert_exporter": "python",
   "pygments_lexer": "ipython2",
   "version": "2.7.12"
  }
 },
 "nbformat": 4,
 "nbformat_minor": 1
}
