{
 "cells": [
  {
   "cell_type": "markdown",
   "metadata": {},
   "source": [
    "# Лабораторная работа №7.4\n",
    "## Исследование поглощения вторичного космического излучения в веществе"
   ]
  },
  {
   "cell_type": "code",
   "execution_count": 200,
   "metadata": {
    "collapsed": true
   },
   "outputs": [],
   "source": [
    "# -*- coding: utf-8 -*-\n",
    "import matplotlib.pyplot as plt\n",
    "%matplotlib inline\n",
    "import numpy as np\n",
    "import pandas as pd\n",
    "import scipy.interpolate as scpint\n",
    "import scipy.odr as odr"
   ]
  },
  {
   "cell_type": "markdown",
   "metadata": {},
   "source": [
    "Загрузим данные"
   ]
  },
  {
   "cell_type": "code",
   "execution_count": 201,
   "metadata": {
    "collapsed": false
   },
   "outputs": [],
   "source": [
    "dataOctober = pd.read_csv(\"OctoberDataNull.csv\")\n",
    "dataJanuary = pd.read_csv(\"JanuaryDataNull.csv\")"
   ]
  },
  {
   "cell_type": "markdown",
   "metadata": {},
   "source": [
    "Добавим к данным систематическую ошибку по x."
   ]
  },
  {
   "cell_type": "code",
   "execution_count": 202,
   "metadata": {
    "collapsed": false
   },
   "outputs": [],
   "source": [
    "dataOctober = dataOctober.join(pd.DataFrame({'xerr':[0.5 for i in range(dataOctober.shape[0])], 'yerr':[np.sqrt(dataOctober.values[i][1]) for i in range(dataOctober.shape[0])]}))\n",
    "dataJanuary = dataJanuary.join(pd.DataFrame({'xerr':[0.5 for i in range(dataJanuary.shape[0])], 'yerr':[np.sqrt(dataJanuary.values[i][1]) for i in range(dataJanuary.shape[0])]}))"
   ]
  },
  {
   "cell_type": "markdown",
   "metadata": {},
   "source": [
    "Верхняя граница отношения интенсивностей мягкой и жесткой компонент"
   ]
  },
  {
   "cell_type": "code",
   "execution_count": 203,
   "metadata": {
    "collapsed": false
   },
   "outputs": [
    {
     "name": "stdout",
     "output_type": "stream",
     "text": [
      "0.35\n",
      "0.03\n"
     ]
    }
   ],
   "source": [
    "a = dataOctober.values.T[1][0] - dataOctober.values.T[1][8]\n",
    "b = dataOctober.values.T[1][0]\n",
    "berr = dataOctober.values.T[3][0]\n",
    "res = a/b\n",
    "print round(res, 2)\n",
    "aerr = np.sqrt((dataOctober.values.T[3][1]/dataOctober.values.T[1][1])**2 + (dataOctober.values.T[3][8]/dataOctober.values.T[1][8])**2)\n",
    "print round(res*np.sqrt((aerr/a)**2+(berr/b)**2),2)"
   ]
  },
  {
   "cell_type": "code",
   "execution_count": 204,
   "metadata": {
    "collapsed": false
   },
   "outputs": [
    {
     "name": "stdout",
     "output_type": "stream",
     "text": [
      "0.24\n",
      "0.02\n"
     ]
    }
   ],
   "source": [
    "a = dataJanuary.values.T[1][0] - dataJanuary.values.T[1][9]\n",
    "b = dataJanuary.values.T[1][0]\n",
    "berr = dataJanuary.values.T[3][0]\n",
    "res = a/b\n",
    "print round(res, 2)\n",
    "aerr = np.sqrt((dataJanuary.values.T[3][1]/dataJanuary.values.T[1][1])**2 + (dataJanuary.values.T[3][9]/dataJanuary.values.T[1][9])**2)\n",
    "print round(res*np.sqrt((aerr/a)**2+(berr/b)**2),2)"
   ]
  },
  {
   "cell_type": "code",
   "execution_count": 205,
   "metadata": {
    "collapsed": false
   },
   "outputs": [],
   "source": [
    "dataOctober[\"N_i [1]\"] -= 97\n",
    "dataJanuary[\"N_i [1]\"] -= 102"
   ]
  },
  {
   "cell_type": "markdown",
   "metadata": {},
   "source": [
    "Найдём верхнюю границу отношения интенсивностей мягкой и жесткой компонент космического излучения $\\frac{I_{м}, I_{ж}}$"
   ]
  },
  {
   "cell_type": "code",
   "execution_count": 206,
   "metadata": {
    "collapsed": false
   },
   "outputs": [
    {
     "data": {
      "text/html": [
       "<div>\n",
       "<table border=\"1\" class=\"dataframe\">\n",
       "  <thead>\n",
       "    <tr style=\"text-align: right;\">\n",
       "      <th></th>\n",
       "      <th>d</th>\n",
       "      <th>ln(N)</th>\n",
       "      <th>xerr</th>\n",
       "      <th>yerr</th>\n",
       "    </tr>\n",
       "  </thead>\n",
       "  <tbody>\n",
       "    <tr>\n",
       "      <th>0</th>\n",
       "      <td>0</td>\n",
       "      <td>4.025352</td>\n",
       "      <td>0.5</td>\n",
       "      <td>0.220881</td>\n",
       "    </tr>\n",
       "    <tr>\n",
       "      <th>1</th>\n",
       "      <td>2</td>\n",
       "      <td>3.988984</td>\n",
       "      <td>0.5</td>\n",
       "      <td>0.227559</td>\n",
       "    </tr>\n",
       "    <tr>\n",
       "      <th>2</th>\n",
       "      <td>4</td>\n",
       "      <td>2.484907</td>\n",
       "      <td>0.5</td>\n",
       "      <td>0.870026</td>\n",
       "    </tr>\n",
       "    <tr>\n",
       "      <th>3</th>\n",
       "      <td>6</td>\n",
       "      <td>2.397895</td>\n",
       "      <td>0.5</td>\n",
       "      <td>0.944755</td>\n",
       "    </tr>\n",
       "    <tr>\n",
       "      <th>4</th>\n",
       "      <td>8</td>\n",
       "      <td>3.713572</td>\n",
       "      <td>0.5</td>\n",
       "      <td>0.286520</td>\n",
       "    </tr>\n",
       "    <tr>\n",
       "      <th>5</th>\n",
       "      <td>10</td>\n",
       "      <td>1.609438</td>\n",
       "      <td>0.5</td>\n",
       "      <td>2.019901</td>\n",
       "    </tr>\n",
       "    <tr>\n",
       "      <th>6</th>\n",
       "      <td>12</td>\n",
       "      <td>2.708050</td>\n",
       "      <td>0.5</td>\n",
       "      <td>0.705534</td>\n",
       "    </tr>\n",
       "    <tr>\n",
       "      <th>7</th>\n",
       "      <td>14</td>\n",
       "      <td>0.000000</td>\n",
       "      <td>0.5</td>\n",
       "      <td>9.899495</td>\n",
       "    </tr>\n",
       "    <tr>\n",
       "      <th>8</th>\n",
       "      <td>18</td>\n",
       "      <td>1.098612</td>\n",
       "      <td>0.5</td>\n",
       "      <td>3.333333</td>\n",
       "    </tr>\n",
       "  </tbody>\n",
       "</table>\n",
       "</div>"
      ],
      "text/plain": [
       "    d     ln(N)  xerr      yerr\n",
       "0   0  4.025352   0.5  0.220881\n",
       "1   2  3.988984   0.5  0.227559\n",
       "2   4  2.484907   0.5  0.870026\n",
       "3   6  2.397895   0.5  0.944755\n",
       "4   8  3.713572   0.5  0.286520\n",
       "5  10  1.609438   0.5  2.019901\n",
       "6  12  2.708050   0.5  0.705534\n",
       "7  14  0.000000   0.5  9.899495\n",
       "8  18  1.098612   0.5  3.333333"
      ]
     },
     "execution_count": 206,
     "metadata": {},
     "output_type": "execute_result"
    }
   ],
   "source": [
    "datalnOctober = pd.DataFrame({'d': dataOctober.values.T[0], 'ln(N)' : [np.log(dataOctober.values.T[1][i]) for i in range(dataOctober.shape[0])], 'xerr':dataOctober.values.T[2], 'yerr':[(dataOctober.values.T[3][i]/dataOctober.values.T[1][i]) for i in range(dataOctober.shape[0])] })\n",
    "datalnJanuary = pd.DataFrame({'d': dataJanuary.values.T[0], 'ln(N)' : [np.log(dataJanuary.values.T[1][i]) for i in range(dataJanuary.shape[0])], 'xerr':dataJanuary.values.T[2], 'yerr':[(dataJanuary.values.T[3][i]/dataJanuary.values.T[1][i]) for i in range(dataJanuary.shape[0])] })\n",
    "datalnOctober"
   ]
  },
  {
   "cell_type": "code",
   "execution_count": 207,
   "metadata": {
    "collapsed": false
   },
   "outputs": [
    {
     "data": {
      "image/png": "[encoded data removed]",
      "text/plain": [
       "<matplotlib.figure.Figure at 0x7f3d2e825350>"
      ]
     },
     "metadata": {},
     "output_type": "display_data"
    }
   ],
   "source": [
    "plt.figure(num=None, figsize=(12, 6), dpi=80, facecolor='w', edgecolor='k')\n",
    "plt.subplot()\n",
    "\n",
    "yDataOctober = datalnOctober.values.T[1]\n",
    "xDataOctober = datalnOctober.values.T[0]\n",
    "xerrDataOctober = datalnOctober.values.T[2]\n",
    "yerrDataOctober = datalnOctober.values.T[3]\n",
    "\n",
    "\n",
    "mydata = odr.RealData(xDataOctober, yDataOctober, sx=xerrDataOctober, sy=yerrDataOctober)\n",
    "myodr = odr.ODR(mydata, linear, beta0=[1.,1.])\n",
    "myoutput = myodr.run()\n",
    "x_new = np.linspace(xDataOctober[0], xDataOctober[-1], 50)\n",
    "y_new = linear.fcn(myoutput.beta, x_new)\n",
    "\n",
    "\n",
    "plt.errorbar(xDataOctober, yDataOctober, xerr=xerrDataOctober, yerr=yerrDataOctober, fmt='r.', color='r')\n",
    "plt.xlabel(u'$d$, sm')\n",
    "plt.ylabel(u'$ln(N_{1})$, шт')\n",
    "plt.title(u'The dependence of detected particles on thickness of plumbum')\n",
    "plt.grid(True)\n",
    "\n",
    "plt.plot(x_new, y_new, 'k',  color='b')\n",
    "kOctober = myoutput.beta[0]\n",
    "kerrOctober = myoutput.sd_beta[0]\n",
    "bOctober = myoutput.beta[1]\n",
    "berrOctober = myoutput.sd_beta[1]\n",
    "\n",
    "#January\n",
    "\n",
    "yDataJanuary = datalnJanuary.values.T[1]\n",
    "xDataJanuary = datalnJanuary.values.T[0]\n",
    "xerrDataJanuary = datalnJanuary.values.T[2]\n",
    "yerrDataJanuary = datalnJanuary.values.T[3]\n",
    "\n",
    "\n",
    "mydata = odr.RealData(xDataJanuary, yDataJanuary, sx=xerrDataJanuary, sy=yerrDataJanuary)\n",
    "myodr = odr.ODR(mydata, linear, beta0=[1.,1.])\n",
    "myoutput = myodr.run()\n",
    "x_new = np.linspace(xDataJanuary[0], xDataJanuary[-1], 50)\n",
    "y_new = linear.fcn(myoutput.beta, x_new)\n",
    "\n",
    "\n",
    "plt.errorbar(xDataJanuary, yDataJanuary, xerr=xerrDataJanuary, yerr=yerrDataJanuary, fmt='r.', color='g')\n",
    "\n",
    "plt.plot(x_new, y_new, 'k',  color='g')\n",
    "plt.show()\n",
    "kJanuary = myoutput.beta[0]\n",
    "kerrJanuary = myoutput.sd_beta[0]\n",
    "bJanuary = myoutput.beta[1]\n",
    "berrJanuary = myoutput.sd_beta[1]"
   ]
  },
  {
   "cell_type": "code",
   "execution_count": 208,
   "metadata": {
    "collapsed": false
   },
   "outputs": [
    {
     "data": {
      "image/png": "[encoded data removed]",
      "text/plain": [
       "<matplotlib.figure.Figure at 0x7f3d2e05c050>"
      ]
     },
     "metadata": {},
     "output_type": "display_data"
    }
   ],
   "source": [
    "plt.figure(num=None, figsize=(12, 6), dpi=80, facecolor='w', edgecolor='k')\n",
    "plt.subplot()\n",
    "\n",
    "yDataOctober = dataOctober.values.T[1]\n",
    "xDataOctober = dataOctober.values.T[0]\n",
    "xerrDataOctober = dataOctober.values.T[2]\n",
    "yerrDataOctober = dataOctober.values.T[3]\n",
    "\n",
    "plt.errorbar(xDataOctober, yDataOctober, xerr=xerrDataOctober, yerr=yerrDataOctober, fmt='r.', color='r')\n",
    "plt.xlabel(u'$d$, sm')\n",
    "plt.ylabel(u'$N_{1}$, шт')\n",
    "plt.title(u'The dependence of detected particles on thickness of plumbum')\n",
    "plt.grid(True)\n",
    "\n",
    "x_new = np.linspace(xDataOctober[0]-0.5, xDataOctober[-1]+0.5, 50)\n",
    "plt.plot(x_new, np.exp(bOctober)*np.exp(kOctober*x_new), 'k',  color='r')\n",
    "\n",
    "# January\n",
    "\n",
    "yDataJanuary = dataJanuary.values.T[1]\n",
    "xDataJanuary = dataJanuary.values.T[0]\n",
    "xerrDataJanuary = dataJanuary.values.T[2]\n",
    "yerrDataJanuary = dataJanuary.values.T[3]\n",
    "\n",
    "plt.errorbar(xDataJanuary, yDataJanuary, xerr=xerrDataJanuary, yerr=yerrDataJanuary, fmt='r.', color='g')\n",
    "\n",
    "x_new = np.linspace(xDataJanuary[0]-0.5, xDataJanuary[-1]+0.5, 50)\n",
    "plt.plot(x_new, np.exp(bJanuary)*np.exp(kJanuary*x_new), 'k',  color='g')\n",
    "\n",
    "plt.show()"
   ]
  },
  {
   "cell_type": "markdown",
   "metadata": {},
   "source": [
    "Эффективная длина пробега мягкой компоненты"
   ]
  },
  {
   "cell_type": "code",
   "execution_count": 209,
   "metadata": {
    "collapsed": false
   },
   "outputs": [
    {
     "name": "stdout",
     "output_type": "stream",
     "text": [
      "12.41\n",
      "0.44\n"
     ]
    }
   ],
   "source": [
    "print abs(round(1.0/kOctober, 2))\n",
    "print abs(round((1.0/kOctober)*kerrOctober, 2))"
   ]
  },
  {
   "cell_type": "code",
   "execution_count": 210,
   "metadata": {
    "collapsed": false
   },
   "outputs": [
    {
     "name": "stdout",
     "output_type": "stream",
     "text": [
      "12.29\n",
      "0.25\n"
     ]
    }
   ],
   "source": [
    "print abs(round(1.0/kJanuary, 2))\n",
    "print abs(round((1.0/kJanuary)*kerrJanuary, 2))"
   ]
  },
  {
   "cell_type": "code",
   "execution_count": null,
   "metadata": {
    "collapsed": true
   },
   "outputs": [],
   "source": []
  }
 ],
 "metadata": {
  "kernelspec": {
   "display_name": "Python 2",
   "language": "python",
   "name": "python2"
  },
  "language_info": {
   "codemirror_mode": {
    "name": "ipython",
    "version": 2
   },
   "file_extension": ".py",
   "mimetype": "text/x-python",
   "name": "python",
   "nbconvert_exporter": "python",
   "pygments_lexer": "ipython2",
   "version": "2.7.12"
  }
 },
 "nbformat": 4,
 "nbformat_minor": 1
}
