{
 "cells": [
  {
   "cell_type": "markdown",
   "metadata": {},
   "source": [
    "# Лабораторная работа №7.4\n",
    "## Исследование поглощения вторичного космического излучения в веществе"
   ]
  },
  {
   "cell_type": "code",
   "execution_count": 49,
   "metadata": {
    "collapsed": true
   },
   "outputs": [],
   "source": [
    "# -*- coding: utf-8 -*-\n",
    "import matplotlib.pyplot as plt\n",
    "%matplotlib inline\n",
    "import numpy as np\n",
    "import pandas as pd\n",
    "import scipy.interpolate as scpint"
   ]
  },
  {
   "cell_type": "markdown",
   "metadata": {},
   "source": [
    "Загрузим данные"
   ]
  },
  {
   "cell_type": "code",
   "execution_count": 50,
   "metadata": {
    "collapsed": true
   },
   "outputs": [],
   "source": [
    "data = pd.read_csv(\"data.csv\")"
   ]
  },
  {
   "cell_type": "markdown",
   "metadata": {},
   "source": [
    "Добавим к данным систематическую ошибку по x."
   ]
  },
  {
   "cell_type": "code",
   "execution_count": null,
   "metadata": {
    "collapsed": false
   },
   "outputs": [],
   "source": [
    "data = data.join(pd.DataFrame({'xerr':[0.5 for i in range(data.shape[0])], 'yerr':[np.sqrt(data.values[i][1]) for i in range(data.shape[0])]}))\n",
    "data.N1 = data.N1 - 105\n",
    "data"
   ]
  },
  {
   "cell_type": "code",
   "execution_count": 52,
   "metadata": {
    "collapsed": false
   },
   "outputs": [
    {
     "data": {
      "image/png": "[encoded data removed]",
      "text/plain": [
       "<matplotlib.figure.Figure at 0x7f82fa358410>"
      ]
     },
     "metadata": {},
     "output_type": "display_data"
    }
   ],
   "source": [
    "plt.figure(num=None, figsize=(12, 6), dpi=80, facecolor='w', edgecolor='k')\n",
    "plt.subplot()\n",
    "\n",
    "yData = data.values.T[1]\n",
    "xData = data.values.T[0]\n",
    "xerrData = data.values.T[2]\n",
    "yerrData = data.values.T[3]\n",
    "\n",
    "plt.errorbar(xData, yData, xerr=xerrData, yerr=yerrData, fmt='r.-', color='r')\n",
    "plt.xlabel(u'$d$, sm')\n",
    "plt.ylabel(u'$N_{1}$, шт')\n",
    "plt.title(u'The dependence of detected particles on thickness of plumbum')\n",
    "plt.grid(True)\n",
    "\n",
    "plt.show()"
   ]
  },
  {
   "cell_type": "markdown",
   "metadata": {},
   "source": [
    "Найдём верхнюю границу отношения интенсивностей мягкой и жесткой компонент космического излучения $\\frac{I_{м}, I_{ж}}$"
   ]
  },
  {
   "cell_type": "code",
   "execution_count": 53,
   "metadata": {
    "collapsed": false
   },
   "outputs": [
    {
     "data": {
      "text/html": [
       "<div>\n",
       "<table border=\"1\" class=\"dataframe\">\n",
       "  <thead>\n",
       "    <tr style=\"text-align: right;\">\n",
       "      <th></th>\n",
       "      <th>ln(N)</th>\n",
       "      <th>ln(d)</th>\n",
       "      <th>xerr</th>\n",
       "      <th>yerr</th>\n",
       "    </tr>\n",
       "  </thead>\n",
       "  <tbody>\n",
       "    <tr>\n",
       "      <th>0</th>\n",
       "      <td>3.891820</td>\n",
       "      <td>0.000000</td>\n",
       "      <td>0.000000</td>\n",
       "      <td>0.260554</td>\n",
       "    </tr>\n",
       "    <tr>\n",
       "      <th>1</th>\n",
       "      <td>2.564949</td>\n",
       "      <td>0.587787</td>\n",
       "      <td>0.277778</td>\n",
       "      <td>0.866879</td>\n",
       "    </tr>\n",
       "    <tr>\n",
       "      <th>2</th>\n",
       "      <td>2.397895</td>\n",
       "      <td>1.280934</td>\n",
       "      <td>0.138889</td>\n",
       "      <td>1.016395</td>\n",
       "    </tr>\n",
       "    <tr>\n",
       "      <th>3</th>\n",
       "      <td>NaN</td>\n",
       "      <td>1.686399</td>\n",
       "      <td>0.092593</td>\n",
       "      <td>-1.477726</td>\n",
       "    </tr>\n",
       "    <tr>\n",
       "      <th>4</th>\n",
       "      <td>2.639057</td>\n",
       "      <td>1.974081</td>\n",
       "      <td>0.069444</td>\n",
       "      <td>0.808122</td>\n",
       "    </tr>\n",
       "    <tr>\n",
       "      <th>5</th>\n",
       "      <td>1.609438</td>\n",
       "      <td>2.197225</td>\n",
       "      <td>0.055556</td>\n",
       "      <td>2.181742</td>\n",
       "    </tr>\n",
       "    <tr>\n",
       "      <th>6</th>\n",
       "      <td>NaN</td>\n",
       "      <td>2.533697</td>\n",
       "      <td>0.039683</td>\n",
       "      <td>-1.286954</td>\n",
       "    </tr>\n",
       "    <tr>\n",
       "      <th>7</th>\n",
       "      <td>-inf</td>\n",
       "      <td>2.785011</td>\n",
       "      <td>0.030864</td>\n",
       "      <td>inf</td>\n",
       "    </tr>\n",
       "  </tbody>\n",
       "</table>\n",
       "</div>"
      ],
      "text/plain": [
       "      ln(N)     ln(d)      xerr      yerr\n",
       "0  3.891820  0.000000  0.000000  0.260554\n",
       "1  2.564949  0.587787  0.277778  0.866879\n",
       "2  2.397895  1.280934  0.138889  1.016395\n",
       "3       NaN  1.686399  0.092593 -1.477726\n",
       "4  2.639057  1.974081  0.069444  0.808122\n",
       "5  1.609438  2.197225  0.055556  2.181742\n",
       "6       NaN  2.533697  0.039683 -1.286954\n",
       "7      -inf  2.785011  0.030864       inf"
      ]
     },
     "execution_count": 53,
     "metadata": {},
     "output_type": "execute_result"
    }
   ],
   "source": [
    "dataln = pd.DataFrame({'ln(d)':[np.log(xData[i]) for i in range(data.shape[0])], 'ln(N)' : [np.log(yData[i]) for i in range(data.shape[0])], 'xerr':[(xerrData[i]/xData[i]) for i in range(data.shape[0])], 'yerr':[(yerrData[i]/yData[i]) for i in range(data.shape[0])] })\n",
    "dataln.values[0][1] = 0\n",
    "dataln.values[0][2] = 0\n",
    "dataln"
   ]
  },
  {
   "cell_type": "code",
   "execution_count": null,
   "metadata": {
    "collapsed": false
   },
   "outputs": [],
   "source": [
    "plt.figure(num=None, figsize=(12, 6), dpi=80, facecolor='w', edgecolor='k')\n",
    "plt.subplot()\n",
    "\n",
    "yData = dataln.values.T[0]\n",
    "xData = dataln.values.T[1]\n",
    "xerrData = dataln.values.T[2]\n",
    "yerrData = dataln.values.T[3]\n",
    "\n",
    "coef,cov = np.polyfit(xData, yData, 1, cov=True)\n",
    "func = np.poly1d(coef)\n",
    "kerr, berr = np.sqrt(np.diag(cov))[0], np.sqrt(np.diag(cov))[1]\n",
    "k,b = coef[0], coef[1]\n",
    "\n",
    "# calculate new x's and y's\n",
    "x_new = np.linspace(xData[0]-0.5, xData[-1]+0.5, 50)\n",
    "y_new = func(x_new)\n",
    "\n",
    "\n",
    "plt.errorbar(xData, yData, xerr=xerrData, yerr=yerrData, fmt='r.', color='r')\n",
    "plt.xlabel(u'$ln(d)$, sm')\n",
    "plt.ylabel(u'$ln(N_{1})$, шт')\n",
    "plt.title(u'The dependence of detected particles on thickness of plumbum')\n",
    "plt.grid(True)\n",
    "\n",
    "plt.plot(xData,yData,'x', x_new, y_new)\n",
    "plt.show()"
   ]
  },
  {
   "cell_type": "code",
   "execution_count": null,
   "metadata": {
    "collapsed": false
   },
   "outputs": [],
   "source": [
    "print str(round(k,2)) + \" ± \" + str(round(kerr,2))"
   ]
  },
  {
   "cell_type": "code",
   "execution_count": null,
   "metadata": {
    "collapsed": false
   },
   "outputs": [],
   "source": [
    "\n",
    "\n",
    "plt.figure(num=None, figsize=(12, 6), dpi=80, facecolor='w', edgecolor='k')\n",
    "plt.subplot()\n",
    "\n",
    "yData = data.values.T[1]\n",
    "xData = data.values.T[0]\n",
    "xerrData = data.values.T[2]\n",
    "yerrData = data.values.T[3]\n",
    "\n",
    "plt.errorbar(xData, yData, xerr=xerrData, yerr=yerrData, fmt='r.-', color='r')\n",
    "plt.xlabel(u'$d$, sm')\n",
    "plt.ylabel(u'$N_{1}$, шт')\n",
    "plt.title(u'The dependence of detected particles on thickness of plumbum')\n",
    "plt.grid(True)\n",
    "\n",
    "x_new = np.linspace(xData[0]-0.5, xData[-1]+0.5, 50)\n",
    "plt.plot(x_new, np.exp(b)*np.exp(k*x_new))\n",
    "plt.show()"
   ]
  },
  {
   "cell_type": "code",
   "execution_count": null,
   "metadata": {
    "collapsed": false
   },
   "outputs": [],
   "source": [
    "round((data.values[0][1] - data.values[7][1])/data.values[7][1], 2)"
   ]
  },
  {
   "cell_type": "code",
   "execution_count": null,
   "metadata": {
    "collapsed": true
   },
   "outputs": [],
   "source": []
  }
 ],
 "metadata": {
  "kernelspec": {
   "display_name": "Python 2",
   "language": "python",
   "name": "python2"
  },
  "language_info": {
   "codemirror_mode": {
    "name": "ipython",
    "version": 2
   },
   "file_extension": ".py",
   "mimetype": "text/x-python",
   "name": "python",
   "nbconvert_exporter": "python",
   "pygments_lexer": "ipython2",
   "version": "2.7.12"
  }
 },
 "nbformat": 4,
 "nbformat_minor": 1
}
