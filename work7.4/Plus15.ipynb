{
 "cells": [
  {
   "cell_type": "markdown",
   "metadata": {},
   "source": [
    "# Лабораторная работа №7.4\n",
    "## Исследование поглощения вторичного космического излучения в веществе"
   ]
  },
  {
   "cell_type": "code",
   "execution_count": 17,
   "metadata": {
    "collapsed": true
   },
   "outputs": [],
   "source": [
    "# -*- coding: utf-8 -*-\n",
    "import matplotlib.pyplot as plt\n",
    "%matplotlib inline\n",
    "import numpy as np\n",
    "import pandas as pd\n",
    "import scipy.interpolate as scpint\n",
    "import scipy.odr as odr"
   ]
  },
  {
   "cell_type": "markdown",
   "metadata": {},
   "source": [
    "Загрузим данные"
   ]
  },
  {
   "cell_type": "code",
   "execution_count": 18,
   "metadata": {
    "collapsed": false
   },
   "outputs": [],
   "source": [
    "dataOctober = pd.read_csv(\"OctoberDataPlus15.csv\")\n",
    "dataJanuary = pd.read_csv(\"JanuaryDataPlus15.csv\")"
   ]
  },
  {
   "cell_type": "markdown",
   "metadata": {},
   "source": [
    "Добавим к данным систематическую ошибку по x."
   ]
  },
  {
   "cell_type": "code",
   "execution_count": 19,
   "metadata": {
    "collapsed": false
   },
   "outputs": [],
   "source": [
    "dataOctober = dataOctober.join(pd.DataFrame({'xerr':[0.5 for i in range(dataOctober.shape[0])], 'yerr':[np.sqrt(dataOctober.values[i][1]) for i in range(dataOctober.shape[0])]}))\n",
    "dataJanuary = dataJanuary.join(pd.DataFrame({'xerr':[0.5 for i in range(dataJanuary.shape[0])], 'yerr':[np.sqrt(dataJanuary.values[i][1]) for i in range(dataJanuary.shape[0])]}))"
   ]
  },
  {
   "cell_type": "code",
   "execution_count": 20,
   "metadata": {
    "collapsed": false
   },
   "outputs": [
    {
     "data": {
      "text/html": [
       "<div>\n",
       "<table border=\"1\" class=\"dataframe\">\n",
       "  <thead>\n",
       "    <tr style=\"text-align: right;\">\n",
       "      <th></th>\n",
       "      <th>d [см]</th>\n",
       "      <th>N_i [1]</th>\n",
       "      <th>xerr</th>\n",
       "      <th>yerr</th>\n",
       "    </tr>\n",
       "  </thead>\n",
       "  <tbody>\n",
       "    <tr>\n",
       "      <th>0</th>\n",
       "      <td>0.0</td>\n",
       "      <td>165</td>\n",
       "      <td>0.5</td>\n",
       "      <td>12.845233</td>\n",
       "    </tr>\n",
       "    <tr>\n",
       "      <th>1</th>\n",
       "      <td>1.9</td>\n",
       "      <td>127</td>\n",
       "      <td>0.5</td>\n",
       "      <td>11.269428</td>\n",
       "    </tr>\n",
       "    <tr>\n",
       "      <th>2</th>\n",
       "      <td>3.7</td>\n",
       "      <td>115</td>\n",
       "      <td>0.5</td>\n",
       "      <td>10.723805</td>\n",
       "    </tr>\n",
       "    <tr>\n",
       "      <th>3</th>\n",
       "      <td>5.6</td>\n",
       "      <td>116</td>\n",
       "      <td>0.5</td>\n",
       "      <td>10.770330</td>\n",
       "    </tr>\n",
       "    <tr>\n",
       "      <th>4</th>\n",
       "      <td>7.4</td>\n",
       "      <td>122</td>\n",
       "      <td>0.5</td>\n",
       "      <td>11.045361</td>\n",
       "    </tr>\n",
       "    <tr>\n",
       "      <th>5</th>\n",
       "      <td>9.2</td>\n",
       "      <td>108</td>\n",
       "      <td>0.5</td>\n",
       "      <td>10.392305</td>\n",
       "    </tr>\n",
       "    <tr>\n",
       "      <th>6</th>\n",
       "      <td>11.0</td>\n",
       "      <td>112</td>\n",
       "      <td>0.5</td>\n",
       "      <td>10.583005</td>\n",
       "    </tr>\n",
       "    <tr>\n",
       "      <th>7</th>\n",
       "      <td>12.9</td>\n",
       "      <td>115</td>\n",
       "      <td>0.5</td>\n",
       "      <td>10.723805</td>\n",
       "    </tr>\n",
       "    <tr>\n",
       "      <th>8</th>\n",
       "      <td>14.8</td>\n",
       "      <td>98</td>\n",
       "      <td>0.5</td>\n",
       "      <td>9.899495</td>\n",
       "    </tr>\n",
       "  </tbody>\n",
       "</table>\n",
       "</div>"
      ],
      "text/plain": [
       "   d [см]  N_i [1]  xerr       yerr\n",
       "0     0.0      165   0.5  12.845233\n",
       "1     1.9      127   0.5  11.269428\n",
       "2     3.7      115   0.5  10.723805\n",
       "3     5.6      116   0.5  10.770330\n",
       "4     7.4      122   0.5  11.045361\n",
       "5     9.2      108   0.5  10.392305\n",
       "6    11.0      112   0.5  10.583005\n",
       "7    12.9      115   0.5  10.723805\n",
       "8    14.8       98   0.5   9.899495"
      ]
     },
     "execution_count": 20,
     "metadata": {},
     "output_type": "execute_result"
    }
   ],
   "source": [
    "dataOctober"
   ]
  },
  {
   "cell_type": "code",
   "execution_count": 21,
   "metadata": {
    "collapsed": false
   },
   "outputs": [
    {
     "data": {
      "text/html": [
       "<div>\n",
       "<table border=\"1\" class=\"dataframe\">\n",
       "  <thead>\n",
       "    <tr style=\"text-align: right;\">\n",
       "      <th></th>\n",
       "      <th>d [см]</th>\n",
       "      <th>N_i [1]</th>\n",
       "      <th>xerr</th>\n",
       "      <th>yerr</th>\n",
       "    </tr>\n",
       "  </thead>\n",
       "  <tbody>\n",
       "    <tr>\n",
       "      <th>0</th>\n",
       "      <td>0.0</td>\n",
       "      <td>140</td>\n",
       "      <td>0.5</td>\n",
       "      <td>11.832160</td>\n",
       "    </tr>\n",
       "    <tr>\n",
       "      <th>1</th>\n",
       "      <td>1.9</td>\n",
       "      <td>138</td>\n",
       "      <td>0.5</td>\n",
       "      <td>11.747340</td>\n",
       "    </tr>\n",
       "    <tr>\n",
       "      <th>2</th>\n",
       "      <td>3.7</td>\n",
       "      <td>139</td>\n",
       "      <td>0.5</td>\n",
       "      <td>11.789826</td>\n",
       "    </tr>\n",
       "    <tr>\n",
       "      <th>3</th>\n",
       "      <td>5.6</td>\n",
       "      <td>128</td>\n",
       "      <td>0.5</td>\n",
       "      <td>11.313708</td>\n",
       "    </tr>\n",
       "    <tr>\n",
       "      <th>4</th>\n",
       "      <td>7.4</td>\n",
       "      <td>149</td>\n",
       "      <td>0.5</td>\n",
       "      <td>12.206556</td>\n",
       "    </tr>\n",
       "    <tr>\n",
       "      <th>5</th>\n",
       "      <td>9.2</td>\n",
       "      <td>138</td>\n",
       "      <td>0.5</td>\n",
       "      <td>11.747340</td>\n",
       "    </tr>\n",
       "    <tr>\n",
       "      <th>6</th>\n",
       "      <td>11.0</td>\n",
       "      <td>111</td>\n",
       "      <td>0.5</td>\n",
       "      <td>10.535654</td>\n",
       "    </tr>\n",
       "    <tr>\n",
       "      <th>7</th>\n",
       "      <td>12.9</td>\n",
       "      <td>106</td>\n",
       "      <td>0.5</td>\n",
       "      <td>10.295630</td>\n",
       "    </tr>\n",
       "    <tr>\n",
       "      <th>8</th>\n",
       "      <td>14.8</td>\n",
       "      <td>120</td>\n",
       "      <td>0.5</td>\n",
       "      <td>10.954451</td>\n",
       "    </tr>\n",
       "    <tr>\n",
       "      <th>9</th>\n",
       "      <td>16.7</td>\n",
       "      <td>113</td>\n",
       "      <td>0.5</td>\n",
       "      <td>10.630146</td>\n",
       "    </tr>\n",
       "  </tbody>\n",
       "</table>\n",
       "</div>"
      ],
      "text/plain": [
       "   d [см]  N_i [1]  xerr       yerr\n",
       "0     0.0      140   0.5  11.832160\n",
       "1     1.9      138   0.5  11.747340\n",
       "2     3.7      139   0.5  11.789826\n",
       "3     5.6      128   0.5  11.313708\n",
       "4     7.4      149   0.5  12.206556\n",
       "5     9.2      138   0.5  11.747340\n",
       "6    11.0      111   0.5  10.535654\n",
       "7    12.9      106   0.5  10.295630\n",
       "8    14.8      120   0.5  10.954451\n",
       "9    16.7      113   0.5  10.630146"
      ]
     },
     "execution_count": 21,
     "metadata": {},
     "output_type": "execute_result"
    }
   ],
   "source": [
    "dataJanuary"
   ]
  },
  {
   "cell_type": "markdown",
   "metadata": {},
   "source": [
    "Верхняя граница отношения интенсивностей мягкой и жесткой компонент"
   ]
  },
  {
   "cell_type": "code",
   "execution_count": 22,
   "metadata": {
    "collapsed": false
   },
   "outputs": [
    {
     "name": "stdout",
     "output_type": "stream",
     "text": [
      "0.41\n",
      "0.03\n"
     ]
    }
   ],
   "source": [
    "a = dataOctober.values.T[1][0] - dataOctober.values.T[1][8]\n",
    "b = dataOctober.values.T[1][0]\n",
    "berr = dataOctober.values.T[3][0]\n",
    "res = a/b\n",
    "print round(res, 2)\n",
    "aerr = np.sqrt((dataOctober.values.T[3][1]/dataOctober.values.T[1][1])**2 + (dataOctober.values.T[3][8]/dataOctober.values.T[1][8])**2)\n",
    "print round(res*np.sqrt((aerr/a)**2+(berr/b)**2),2)"
   ]
  },
  {
   "cell_type": "code",
   "execution_count": 23,
   "metadata": {
    "collapsed": false
   },
   "outputs": [
    {
     "name": "stdout",
     "output_type": "stream",
     "text": [
      "0.19\n",
      "0.02\n"
     ]
    }
   ],
   "source": [
    "a = dataJanuary.values.T[1][0] - dataJanuary.values.T[1][9]\n",
    "b = dataJanuary.values.T[1][0]\n",
    "berr = dataJanuary.values.T[3][0]\n",
    "res = a/b\n",
    "print round(res, 2)\n",
    "aerr = np.sqrt((dataJanuary.values.T[3][1]/dataJanuary.values.T[1][1])**2 + (dataJanuary.values.T[3][9]/dataJanuary.values.T[1][9])**2)\n",
    "print round(res*np.sqrt((aerr/a)**2+(berr/b)**2),2)"
   ]
  },
  {
   "cell_type": "code",
   "execution_count": 24,
   "metadata": {
    "collapsed": false
   },
   "outputs": [],
   "source": [
    "dataOctober[\"N_i [1]\"] -= 97\n",
    "dataJanuary[\"N_i [1]\"] -= 105"
   ]
  },
  {
   "cell_type": "markdown",
   "metadata": {},
   "source": [
    "Найдём верхнюю границу отношения интенсивностей мягкой и жесткой компонент космического излучения $\\frac{I_{м}, I_{ж}}$"
   ]
  },
  {
   "cell_type": "code",
   "execution_count": 25,
   "metadata": {
    "collapsed": false
   },
   "outputs": [
    {
     "data": {
      "text/html": [
       "<div>\n",
       "<table border=\"1\" class=\"dataframe\">\n",
       "  <thead>\n",
       "    <tr style=\"text-align: right;\">\n",
       "      <th></th>\n",
       "      <th>d</th>\n",
       "      <th>ln(N)</th>\n",
       "      <th>xerr</th>\n",
       "      <th>yerr</th>\n",
       "    </tr>\n",
       "  </thead>\n",
       "  <tbody>\n",
       "    <tr>\n",
       "      <th>0</th>\n",
       "      <td>0.0</td>\n",
       "      <td>4.219508</td>\n",
       "      <td>0.5</td>\n",
       "      <td>0.188900</td>\n",
       "    </tr>\n",
       "    <tr>\n",
       "      <th>1</th>\n",
       "      <td>1.9</td>\n",
       "      <td>3.401197</td>\n",
       "      <td>0.5</td>\n",
       "      <td>0.375648</td>\n",
       "    </tr>\n",
       "    <tr>\n",
       "      <th>2</th>\n",
       "      <td>3.7</td>\n",
       "      <td>2.890372</td>\n",
       "      <td>0.5</td>\n",
       "      <td>0.595767</td>\n",
       "    </tr>\n",
       "    <tr>\n",
       "      <th>3</th>\n",
       "      <td>5.6</td>\n",
       "      <td>2.944439</td>\n",
       "      <td>0.5</td>\n",
       "      <td>0.566859</td>\n",
       "    </tr>\n",
       "    <tr>\n",
       "      <th>4</th>\n",
       "      <td>7.4</td>\n",
       "      <td>3.218876</td>\n",
       "      <td>0.5</td>\n",
       "      <td>0.441814</td>\n",
       "    </tr>\n",
       "    <tr>\n",
       "      <th>5</th>\n",
       "      <td>9.2</td>\n",
       "      <td>2.397895</td>\n",
       "      <td>0.5</td>\n",
       "      <td>0.944755</td>\n",
       "    </tr>\n",
       "    <tr>\n",
       "      <th>6</th>\n",
       "      <td>11.0</td>\n",
       "      <td>2.708050</td>\n",
       "      <td>0.5</td>\n",
       "      <td>0.705534</td>\n",
       "    </tr>\n",
       "    <tr>\n",
       "      <th>7</th>\n",
       "      <td>12.9</td>\n",
       "      <td>2.890372</td>\n",
       "      <td>0.5</td>\n",
       "      <td>0.595767</td>\n",
       "    </tr>\n",
       "    <tr>\n",
       "      <th>8</th>\n",
       "      <td>14.8</td>\n",
       "      <td>0.000000</td>\n",
       "      <td>0.5</td>\n",
       "      <td>9.899495</td>\n",
       "    </tr>\n",
       "  </tbody>\n",
       "</table>\n",
       "</div>"
      ],
      "text/plain": [
       "      d     ln(N)  xerr      yerr\n",
       "0   0.0  4.219508   0.5  0.188900\n",
       "1   1.9  3.401197   0.5  0.375648\n",
       "2   3.7  2.890372   0.5  0.595767\n",
       "3   5.6  2.944439   0.5  0.566859\n",
       "4   7.4  3.218876   0.5  0.441814\n",
       "5   9.2  2.397895   0.5  0.944755\n",
       "6  11.0  2.708050   0.5  0.705534\n",
       "7  12.9  2.890372   0.5  0.595767\n",
       "8  14.8  0.000000   0.5  9.899495"
      ]
     },
     "execution_count": 25,
     "metadata": {},
     "output_type": "execute_result"
    }
   ],
   "source": [
    "datalnOctober = pd.DataFrame({'d': dataOctober.values.T[0], 'ln(N)' : [np.log(dataOctober.values.T[1][i]) for i in range(dataOctober.shape[0])], 'xerr':dataOctober.values.T[2], 'yerr':[(dataOctober.values.T[3][i]/dataOctober.values.T[1][i]) for i in range(dataOctober.shape[0])] })\n",
    "datalnJanuary = pd.DataFrame({'d': dataJanuary.values.T[0], 'ln(N)' : [np.log(dataJanuary.values.T[1][i]) for i in range(dataJanuary.shape[0])], 'xerr':dataJanuary.values.T[2], 'yerr':[(dataJanuary.values.T[3][i]/dataJanuary.values.T[1][i]) for i in range(dataJanuary.shape[0])] })\n",
    "datalnOctober"
   ]
  },
  {
   "cell_type": "code",
   "execution_count": 26,
   "metadata": {
    "collapsed": true
   },
   "outputs": [],
   "source": [
    "# Функция для регрессии Деминга: https://docs.scipy.org/doc/scipy/reference/odr.html\n",
    "def g(B, x):\n",
    "    return B[0]*x + B[1]\n",
    "\n",
    "linear = odr.Model(g)"
   ]
  },
  {
   "cell_type": "code",
   "execution_count": 27,
   "metadata": {
    "collapsed": false
   },
   "outputs": [
    {
     "name": "stderr",
     "output_type": "stream",
     "text": [
      "/home/dmitriy/.local/lib/python2.7/site-packages/matplotlib/mathtext.py:865: MathTextWarning: Font 'default' does not have a glyph for '\\u0448' [U448]\n",
      "  MathTextWarning)\n",
      "/home/dmitriy/.local/lib/python2.7/site-packages/matplotlib/mathtext.py:866: MathTextWarning: Substituting with a dummy symbol.\n",
      "  warn(\"Substituting with a dummy symbol.\", MathTextWarning)\n",
      "/home/dmitriy/.local/lib/python2.7/site-packages/matplotlib/mathtext.py:865: MathTextWarning: Font 'default' does not have a glyph for '\\u0442' [U442]\n",
      "  MathTextWarning)\n"
     ]
    },
    {
     "data": {
      "image/png": "[encoded data removed]",
      "text/plain": [
       "<matplotlib.figure.Figure at 0x7ff63aea67d0>"
      ]
     },
     "metadata": {},
     "output_type": "display_data"
    }
   ],
   "source": [
    "plt.figure(num=None, figsize=(12, 6), dpi=80, facecolor='w', edgecolor='k')\n",
    "plt.subplot()\n",
    "\n",
    "yDataOctober = datalnOctober.values.T[1]\n",
    "xDataOctober = datalnOctober.values.T[0]\n",
    "xerrDataOctober = datalnOctober.values.T[2]\n",
    "yerrDataOctober = datalnOctober.values.T[3]\n",
    "\n",
    "\n",
    "mydata = odr.RealData(xDataOctober, yDataOctober, sx=xerrDataOctober, sy=yerrDataOctober)\n",
    "myodr = odr.ODR(mydata, linear, beta0=[1.,1.])\n",
    "myoutput = myodr.run()\n",
    "x_new = np.linspace(xDataOctober[0], xDataOctober[-1], 50)\n",
    "y_new = linear.fcn(myoutput.beta, x_new)\n",
    "\n",
    "\n",
    "plt.errorbar(xDataOctober, yDataOctober, xerr=xerrDataOctober, yerr=yerrDataOctober, fmt='r.', color='r')\n",
    "plt.xlabel(u'$d$, sm')\n",
    "plt.ylabel(u'$ln(N_{1})$, шт')\n",
    "plt.title(u'The dependence of detected particles on thickness of plumbum')\n",
    "plt.grid(True)\n",
    "\n",
    "plt.plot(x_new, y_new, 'k',  color='b')\n",
    "kOctober = myoutput.beta[0]\n",
    "kerrOctober = myoutput.sd_beta[0]\n",
    "bOctober = myoutput.beta[1]\n",
    "berrOctober = myoutput.sd_beta[1]\n",
    "\n",
    "#January\n",
    "\n",
    "yDataJanuary = datalnJanuary.values.T[1]\n",
    "xDataJanuary = datalnJanuary.values.T[0]\n",
    "xerrDataJanuary = datalnJanuary.values.T[2]\n",
    "yerrDataJanuary = datalnJanuary.values.T[3]\n",
    "\n",
    "\n",
    "mydata = odr.RealData(xDataJanuary, yDataJanuary, sx=xerrDataJanuary, sy=yerrDataJanuary)\n",
    "myodr = odr.ODR(mydata, linear, beta0=[1.,1.])\n",
    "myoutput = myodr.run()\n",
    "x_new = np.linspace(xDataJanuary[0], xDataJanuary[-1], 50)\n",
    "y_new = linear.fcn(myoutput.beta, x_new)\n",
    "\n",
    "\n",
    "plt.errorbar(xDataJanuary, yDataJanuary, xerr=xerrDataJanuary, yerr=yerrDataJanuary, fmt='r.', color='g')\n",
    "\n",
    "plt.plot(x_new, y_new, 'k',  color='g')\n",
    "plt.show()\n",
    "kJanuary = myoutput.beta[0]\n",
    "kerrJanuary = myoutput.sd_beta[0]\n",
    "bJanuary = myoutput.beta[1]\n",
    "berrJanuary = myoutput.sd_beta[1]"
   ]
  },
  {
   "cell_type": "code",
   "execution_count": 28,
   "metadata": {
    "collapsed": false
   },
   "outputs": [
    {
     "data": {
      "image/png": "[encoded data removed]",
      "text/plain": [
       "<matplotlib.figure.Figure at 0x7ff63aea6490>"
      ]
     },
     "metadata": {},
     "output_type": "display_data"
    }
   ],
   "source": [
    "plt.figure(num=None, figsize=(12, 6), dpi=80, facecolor='w', edgecolor='k')\n",
    "plt.subplot()\n",
    "\n",
    "yDataOctober = dataOctober.values.T[1]\n",
    "xDataOctober = dataOctober.values.T[0]\n",
    "xerrDataOctober = dataOctober.values.T[2]\n",
    "yerrDataOctober = dataOctober.values.T[3]\n",
    "\n",
    "plt.errorbar(xDataOctober, yDataOctober, xerr=xerrDataOctober, yerr=yerrDataOctober, fmt='r.', color='r')\n",
    "plt.xlabel(u'$d$, sm')\n",
    "plt.ylabel(u'$N_{1}$, шт')\n",
    "plt.title(u'The dependence of detected particles on thickness of plumbum')\n",
    "plt.grid(True)\n",
    "\n",
    "x_new = np.linspace(xDataOctober[0]-0.5, xDataOctober[-1]+0.5, 50)\n",
    "plt.plot(x_new, np.exp(bOctober)*np.exp(kOctober*x_new), 'k',  color='r')\n",
    "\n",
    "# January\n",
    "\n",
    "yDataJanuary = dataJanuary.values.T[1]\n",
    "xDataJanuary = dataJanuary.values.T[0]\n",
    "xerrDataJanuary = dataJanuary.values.T[2]\n",
    "yerrDataJanuary = dataJanuary.values.T[3]\n",
    "\n",
    "plt.errorbar(xDataJanuary, yDataJanuary, xerr=xerrDataJanuary, yerr=yerrDataJanuary, fmt='r.', color='g')\n",
    "\n",
    "x_new = np.linspace(xDataJanuary[0]-0.5, xDataJanuary[-1]+0.5, 50)\n",
    "plt.plot(x_new, np.exp(bJanuary)*np.exp(kJanuary*x_new), 'k',  color='g')\n",
    "\n",
    "plt.show()"
   ]
  },
  {
   "cell_type": "markdown",
   "metadata": {},
   "source": [
    "Эффективная длина пробега мягкой компоненты"
   ]
  },
  {
   "cell_type": "code",
   "execution_count": 29,
   "metadata": {
    "collapsed": false
   },
   "outputs": [
    {
     "name": "stdout",
     "output_type": "stream",
     "text": [
      "7.7\n",
      "0.22\n"
     ]
    }
   ],
   "source": [
    "print abs(round(1.0/kOctober, 2))\n",
    "print abs(round((1.0/kOctober)*kerrOctober, 2))"
   ]
  },
  {
   "cell_type": "code",
   "execution_count": 30,
   "metadata": {
    "collapsed": false
   },
   "outputs": [
    {
     "name": "stdout",
     "output_type": "stream",
     "text": [
      "35.04\n",
      "0.92\n"
     ]
    }
   ],
   "source": [
    "print abs(round(1.0/kJanuary, 2))\n",
    "print abs(round((1.0/kJanuary)*kerrJanuary, 2))"
   ]
  },
  {
   "cell_type": "code",
   "execution_count": null,
   "metadata": {
    "collapsed": true
   },
   "outputs": [],
   "source": []
  }
 ],
 "metadata": {
  "kernelspec": {
   "display_name": "Python 2",
   "language": "python",
   "name": "python2"
  },
  "language_info": {
   "codemirror_mode": {
    "name": "ipython",
    "version": 2
   },
   "file_extension": ".py",
   "mimetype": "text/x-python",
   "name": "python",
   "nbconvert_exporter": "python",
   "pygments_lexer": "ipython2",
   "version": "2.7.12"
  }
 },
 "nbformat": 4,
 "nbformat_minor": 1
}
