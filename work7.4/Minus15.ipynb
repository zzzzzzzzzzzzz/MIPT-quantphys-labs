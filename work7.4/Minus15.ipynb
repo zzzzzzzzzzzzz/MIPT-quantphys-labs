{
 "cells": [
  {
   "cell_type": "markdown",
   "metadata": {},
   "source": [
    "# Лабораторная работа №7.4\n",
    "## Исследование поглощения вторичного космического излучения в веществе"
   ]
  },
  {
   "cell_type": "code",
   "execution_count": 6,
   "metadata": {
    "collapsed": true
   },
   "outputs": [],
   "source": [
    "# -*- coding: utf-8 -*-\n",
    "import matplotlib.pyplot as plt\n",
    "%matplotlib inline\n",
    "import numpy as np\n",
    "import pandas as pd\n",
    "import scipy.interpolate as scpint\n",
    "import scipy.odr as odr"
   ]
  },
  {
   "cell_type": "markdown",
   "metadata": {},
   "source": [
    "Загрузим данные"
   ]
  },
  {
   "cell_type": "code",
   "execution_count": 7,
   "metadata": {
    "collapsed": false
   },
   "outputs": [],
   "source": [
    "dataOctober = pd.read_csv(\"OctoberDataMinus15.csv\")\n",
    "dataJanuary = pd.read_csv(\"JanuaryDataMinus15.csv\")"
   ]
  },
  {
   "cell_type": "markdown",
   "metadata": {},
   "source": [
    "Добавим к данным систематическую ошибку по x."
   ]
  },
  {
   "cell_type": "code",
   "execution_count": 8,
   "metadata": {
    "collapsed": false
   },
   "outputs": [],
   "source": [
    "dataOctober = dataOctober.join(pd.DataFrame({'xerr':[0.5 for i in range(dataOctober.shape[0])], 'yerr':[np.sqrt(dataOctober.values[i][1]) for i in range(dataOctober.shape[0])]}))\n",
    "dataJanuary = dataJanuary.join(pd.DataFrame({'xerr':[0.5 for i in range(dataJanuary.shape[0])], 'yerr':[np.sqrt(dataJanuary.values[i][1]) for i in range(dataJanuary.shape[0])]}))"
   ]
  },
  {
   "cell_type": "code",
   "execution_count": 9,
   "metadata": {
    "collapsed": false
   },
   "outputs": [
    {
     "data": {
      "text/html": [
       "<div>\n",
       "<table border=\"1\" class=\"dataframe\">\n",
       "  <thead>\n",
       "    <tr style=\"text-align: right;\">\n",
       "      <th></th>\n",
       "      <th>d [см]</th>\n",
       "      <th>N_i [1]</th>\n",
       "      <th>xerr</th>\n",
       "      <th>yerr</th>\n",
       "    </tr>\n",
       "  </thead>\n",
       "  <tbody>\n",
       "    <tr>\n",
       "      <th>0</th>\n",
       "      <td>0.0</td>\n",
       "      <td>129</td>\n",
       "      <td>0.5</td>\n",
       "      <td>11.357817</td>\n",
       "    </tr>\n",
       "    <tr>\n",
       "      <th>1</th>\n",
       "      <td>1.9</td>\n",
       "      <td>119</td>\n",
       "      <td>0.5</td>\n",
       "      <td>10.908712</td>\n",
       "    </tr>\n",
       "    <tr>\n",
       "      <th>2</th>\n",
       "      <td>3.9</td>\n",
       "      <td>108</td>\n",
       "      <td>0.5</td>\n",
       "      <td>10.392305</td>\n",
       "    </tr>\n",
       "    <tr>\n",
       "      <th>3</th>\n",
       "      <td>5.8</td>\n",
       "      <td>101</td>\n",
       "      <td>0.5</td>\n",
       "      <td>10.049876</td>\n",
       "    </tr>\n",
       "    <tr>\n",
       "      <th>4</th>\n",
       "      <td>7.7</td>\n",
       "      <td>115</td>\n",
       "      <td>0.5</td>\n",
       "      <td>10.723805</td>\n",
       "    </tr>\n",
       "    <tr>\n",
       "      <th>5</th>\n",
       "      <td>9.6</td>\n",
       "      <td>100</td>\n",
       "      <td>0.5</td>\n",
       "      <td>10.000000</td>\n",
       "    </tr>\n",
       "    <tr>\n",
       "      <th>6</th>\n",
       "      <td>11.5</td>\n",
       "      <td>100</td>\n",
       "      <td>0.5</td>\n",
       "      <td>10.000000</td>\n",
       "    </tr>\n",
       "    <tr>\n",
       "      <th>7</th>\n",
       "      <td>13.4</td>\n",
       "      <td>106</td>\n",
       "      <td>0.5</td>\n",
       "      <td>10.295630</td>\n",
       "    </tr>\n",
       "    <tr>\n",
       "      <th>8</th>\n",
       "      <td>15.3</td>\n",
       "      <td>100</td>\n",
       "      <td>0.5</td>\n",
       "      <td>10.000000</td>\n",
       "    </tr>\n",
       "  </tbody>\n",
       "</table>\n",
       "</div>"
      ],
      "text/plain": [
       "   d [см]  N_i [1]  xerr       yerr\n",
       "0     0.0      129   0.5  11.357817\n",
       "1     1.9      119   0.5  10.908712\n",
       "2     3.9      108   0.5  10.392305\n",
       "3     5.8      101   0.5  10.049876\n",
       "4     7.7      115   0.5  10.723805\n",
       "5     9.6      100   0.5  10.000000\n",
       "6    11.5      100   0.5  10.000000\n",
       "7    13.4      106   0.5  10.295630\n",
       "8    15.3      100   0.5  10.000000"
      ]
     },
     "execution_count": 9,
     "metadata": {},
     "output_type": "execute_result"
    }
   ],
   "source": [
    "dataOctober"
   ]
  },
  {
   "cell_type": "code",
   "execution_count": 10,
   "metadata": {
    "collapsed": false
   },
   "outputs": [
    {
     "data": {
      "text/html": [
       "<div>\n",
       "<table border=\"1\" class=\"dataframe\">\n",
       "  <thead>\n",
       "    <tr style=\"text-align: right;\">\n",
       "      <th></th>\n",
       "      <th>d [см]</th>\n",
       "      <th>N_i [1]</th>\n",
       "      <th>xerr</th>\n",
       "      <th>yerr</th>\n",
       "    </tr>\n",
       "  </thead>\n",
       "  <tbody>\n",
       "    <tr>\n",
       "      <th>0</th>\n",
       "      <td>0.0</td>\n",
       "      <td>122</td>\n",
       "      <td>0.5</td>\n",
       "      <td>11.045361</td>\n",
       "    </tr>\n",
       "    <tr>\n",
       "      <th>1</th>\n",
       "      <td>1.9</td>\n",
       "      <td>125</td>\n",
       "      <td>0.5</td>\n",
       "      <td>11.180340</td>\n",
       "    </tr>\n",
       "    <tr>\n",
       "      <th>2</th>\n",
       "      <td>3.9</td>\n",
       "      <td>105</td>\n",
       "      <td>0.5</td>\n",
       "      <td>10.246951</td>\n",
       "    </tr>\n",
       "    <tr>\n",
       "      <th>3</th>\n",
       "      <td>5.8</td>\n",
       "      <td>115</td>\n",
       "      <td>0.5</td>\n",
       "      <td>10.723805</td>\n",
       "    </tr>\n",
       "    <tr>\n",
       "      <th>4</th>\n",
       "      <td>7.7</td>\n",
       "      <td>109</td>\n",
       "      <td>0.5</td>\n",
       "      <td>10.440307</td>\n",
       "    </tr>\n",
       "    <tr>\n",
       "      <th>5</th>\n",
       "      <td>9.6</td>\n",
       "      <td>118</td>\n",
       "      <td>0.5</td>\n",
       "      <td>10.862780</td>\n",
       "    </tr>\n",
       "    <tr>\n",
       "      <th>6</th>\n",
       "      <td>11.5</td>\n",
       "      <td>115</td>\n",
       "      <td>0.5</td>\n",
       "      <td>10.723805</td>\n",
       "    </tr>\n",
       "    <tr>\n",
       "      <th>7</th>\n",
       "      <td>13.4</td>\n",
       "      <td>111</td>\n",
       "      <td>0.5</td>\n",
       "      <td>10.535654</td>\n",
       "    </tr>\n",
       "    <tr>\n",
       "      <th>8</th>\n",
       "      <td>15.3</td>\n",
       "      <td>124</td>\n",
       "      <td>0.5</td>\n",
       "      <td>11.135529</td>\n",
       "    </tr>\n",
       "    <tr>\n",
       "      <th>9</th>\n",
       "      <td>17.1</td>\n",
       "      <td>109</td>\n",
       "      <td>0.5</td>\n",
       "      <td>10.440307</td>\n",
       "    </tr>\n",
       "  </tbody>\n",
       "</table>\n",
       "</div>"
      ],
      "text/plain": [
       "   d [см]  N_i [1]  xerr       yerr\n",
       "0     0.0      122   0.5  11.045361\n",
       "1     1.9      125   0.5  11.180340\n",
       "2     3.9      105   0.5  10.246951\n",
       "3     5.8      115   0.5  10.723805\n",
       "4     7.7      109   0.5  10.440307\n",
       "5     9.6      118   0.5  10.862780\n",
       "6    11.5      115   0.5  10.723805\n",
       "7    13.4      111   0.5  10.535654\n",
       "8    15.3      124   0.5  11.135529\n",
       "9    17.1      109   0.5  10.440307"
      ]
     },
     "execution_count": 10,
     "metadata": {},
     "output_type": "execute_result"
    }
   ],
   "source": [
    "dataJanuary"
   ]
  },
  {
   "cell_type": "markdown",
   "metadata": {},
   "source": [
    "Верхняя граница отношения интенсивностей мягкой и жесткой компонент"
   ]
  },
  {
   "cell_type": "code",
   "execution_count": 11,
   "metadata": {
    "collapsed": false
   },
   "outputs": [
    {
     "name": "stdout",
     "output_type": "stream",
     "text": [
      "0.22\n",
      "0.02\n"
     ]
    }
   ],
   "source": [
    "a = dataOctober.values.T[1][0] - dataOctober.values.T[1][8]\n",
    "b = dataOctober.values.T[1][0]\n",
    "berr = dataOctober.values.T[3][0]\n",
    "res = a/b\n",
    "print round(res, 2)\n",
    "aerr = np.sqrt((dataOctober.values.T[3][1]/dataOctober.values.T[1][1])**2 + (dataOctober.values.T[3][8]/dataOctober.values.T[1][8])**2)\n",
    "print round(res*np.sqrt((aerr/a)**2+(berr/b)**2),2)"
   ]
  },
  {
   "cell_type": "code",
   "execution_count": 12,
   "metadata": {
    "collapsed": false
   },
   "outputs": [
    {
     "name": "stdout",
     "output_type": "stream",
     "text": [
      "0.11\n",
      "0.01\n"
     ]
    }
   ],
   "source": [
    "a = dataJanuary.values.T[1][0] - dataJanuary.values.T[1][9]\n",
    "b = dataJanuary.values.T[1][0]\n",
    "berr = dataJanuary.values.T[3][0]\n",
    "res = a/b\n",
    "print round(res, 2)\n",
    "aerr = np.sqrt((dataJanuary.values.T[3][1]/dataJanuary.values.T[1][1])**2 + (dataJanuary.values.T[3][9]/dataJanuary.values.T[1][9])**2)\n",
    "print round(res*np.sqrt((aerr/a)**2+(berr/b)**2),2)"
   ]
  },
  {
   "cell_type": "code",
   "execution_count": 13,
   "metadata": {
    "collapsed": false
   },
   "outputs": [],
   "source": [
    "dataOctober[\"N_i [1]\"] -= 99\n",
    "dataJanuary[\"N_i [1]\"] -= 104"
   ]
  },
  {
   "cell_type": "markdown",
   "metadata": {},
   "source": [
    "Найдём верхнюю границу отношения интенсивностей мягкой и жесткой компонент космического излучения $\\frac{I_{м}, I_{ж}}$"
   ]
  },
  {
   "cell_type": "code",
   "execution_count": 14,
   "metadata": {
    "collapsed": false
   },
   "outputs": [
    {
     "data": {
      "text/html": [
       "<div>\n",
       "<table border=\"1\" class=\"dataframe\">\n",
       "  <thead>\n",
       "    <tr style=\"text-align: right;\">\n",
       "      <th></th>\n",
       "      <th>d</th>\n",
       "      <th>ln(N)</th>\n",
       "      <th>xerr</th>\n",
       "      <th>yerr</th>\n",
       "    </tr>\n",
       "  </thead>\n",
       "  <tbody>\n",
       "    <tr>\n",
       "      <th>0</th>\n",
       "      <td>0.0</td>\n",
       "      <td>3.401197</td>\n",
       "      <td>0.5</td>\n",
       "      <td>0.378594</td>\n",
       "    </tr>\n",
       "    <tr>\n",
       "      <th>1</th>\n",
       "      <td>1.9</td>\n",
       "      <td>2.995732</td>\n",
       "      <td>0.5</td>\n",
       "      <td>0.545436</td>\n",
       "    </tr>\n",
       "    <tr>\n",
       "      <th>2</th>\n",
       "      <td>3.9</td>\n",
       "      <td>2.197225</td>\n",
       "      <td>0.5</td>\n",
       "      <td>1.154701</td>\n",
       "    </tr>\n",
       "    <tr>\n",
       "      <th>3</th>\n",
       "      <td>5.8</td>\n",
       "      <td>0.693147</td>\n",
       "      <td>0.5</td>\n",
       "      <td>5.024938</td>\n",
       "    </tr>\n",
       "    <tr>\n",
       "      <th>4</th>\n",
       "      <td>7.7</td>\n",
       "      <td>2.772589</td>\n",
       "      <td>0.5</td>\n",
       "      <td>0.670238</td>\n",
       "    </tr>\n",
       "    <tr>\n",
       "      <th>5</th>\n",
       "      <td>9.6</td>\n",
       "      <td>0.000000</td>\n",
       "      <td>0.5</td>\n",
       "      <td>10.000000</td>\n",
       "    </tr>\n",
       "    <tr>\n",
       "      <th>6</th>\n",
       "      <td>11.5</td>\n",
       "      <td>0.000000</td>\n",
       "      <td>0.5</td>\n",
       "      <td>10.000000</td>\n",
       "    </tr>\n",
       "    <tr>\n",
       "      <th>7</th>\n",
       "      <td>13.4</td>\n",
       "      <td>1.945910</td>\n",
       "      <td>0.5</td>\n",
       "      <td>1.470804</td>\n",
       "    </tr>\n",
       "    <tr>\n",
       "      <th>8</th>\n",
       "      <td>15.3</td>\n",
       "      <td>0.000000</td>\n",
       "      <td>0.5</td>\n",
       "      <td>10.000000</td>\n",
       "    </tr>\n",
       "  </tbody>\n",
       "</table>\n",
       "</div>"
      ],
      "text/plain": [
       "      d     ln(N)  xerr       yerr\n",
       "0   0.0  3.401197   0.5   0.378594\n",
       "1   1.9  2.995732   0.5   0.545436\n",
       "2   3.9  2.197225   0.5   1.154701\n",
       "3   5.8  0.693147   0.5   5.024938\n",
       "4   7.7  2.772589   0.5   0.670238\n",
       "5   9.6  0.000000   0.5  10.000000\n",
       "6  11.5  0.000000   0.5  10.000000\n",
       "7  13.4  1.945910   0.5   1.470804\n",
       "8  15.3  0.000000   0.5  10.000000"
      ]
     },
     "execution_count": 14,
     "metadata": {},
     "output_type": "execute_result"
    }
   ],
   "source": [
    "datalnOctober = pd.DataFrame({'d': dataOctober.values.T[0], 'ln(N)' : [np.log(dataOctober.values.T[1][i]) for i in range(dataOctober.shape[0])], 'xerr':dataOctober.values.T[2], 'yerr':[(dataOctober.values.T[3][i]/dataOctober.values.T[1][i]) for i in range(dataOctober.shape[0])] })\n",
    "datalnJanuary = pd.DataFrame({'d': dataJanuary.values.T[0], 'ln(N)' : [np.log(dataJanuary.values.T[1][i]) for i in range(dataJanuary.shape[0])], 'xerr':dataJanuary.values.T[2], 'yerr':[(dataJanuary.values.T[3][i]/dataJanuary.values.T[1][i]) for i in range(dataJanuary.shape[0])] })\n",
    "datalnOctober"
   ]
  },
  {
   "cell_type": "code",
   "execution_count": 15,
   "metadata": {
    "collapsed": true
   },
   "outputs": [],
   "source": [
    "# Функция для регрессии Деминга: https://docs.scipy.org/doc/scipy/reference/odr.html\n",
    "def g(B, x):\n",
    "    return B[0]*x + B[1]\n",
    "\n",
    "linear = odr.Model(g)"
   ]
  },
  {
   "cell_type": "code",
   "execution_count": 16,
   "metadata": {
    "collapsed": false
   },
   "outputs": [
    {
     "name": "stderr",
     "output_type": "stream",
     "text": [
      "/home/dmitriy/.local/lib/python2.7/site-packages/matplotlib/mathtext.py:865: MathTextWarning: Font 'default' does not have a glyph for '\\u0448' [U448]\n",
      "  MathTextWarning)\n",
      "/home/dmitriy/.local/lib/python2.7/site-packages/matplotlib/mathtext.py:866: MathTextWarning: Substituting with a dummy symbol.\n",
      "  warn(\"Substituting with a dummy symbol.\", MathTextWarning)\n",
      "/home/dmitriy/.local/lib/python2.7/site-packages/matplotlib/mathtext.py:865: MathTextWarning: Font 'default' does not have a glyph for '\\u0442' [U442]\n",
      "  MathTextWarning)\n"
     ]
    },
    {
     "data": {
      "image/png": "[encoded data removed]",
      "text/plain": [
       "<matplotlib.figure.Figure at 0x7f1559894b50>"
      ]
     },
     "metadata": {},
     "output_type": "display_data"
    }
   ],
   "source": [
    "plt.figure(num=None, figsize=(12, 6), dpi=80, facecolor='w', edgecolor='k')\n",
    "plt.subplot()\n",
    "\n",
    "yDataOctober = datalnOctober.values.T[1]\n",
    "xDataOctober = datalnOctober.values.T[0]\n",
    "xerrDataOctober = datalnOctober.values.T[2]\n",
    "yerrDataOctober = datalnOctober.values.T[3]\n",
    "\n",
    "\n",
    "mydata = odr.RealData(xDataOctober, yDataOctober, sx=xerrDataOctober, sy=yerrDataOctober)\n",
    "myodr = odr.ODR(mydata, linear, beta0=[1.,1.])\n",
    "myoutput = myodr.run()\n",
    "x_new = np.linspace(xDataOctober[0], xDataOctober[-1], 50)\n",
    "y_new = linear.fcn(myoutput.beta, x_new)\n",
    "\n",
    "\n",
    "plt.errorbar(xDataOctober, yDataOctober, xerr=xerrDataOctober, yerr=yerrDataOctober, fmt='r.', color='r')\n",
    "plt.xlabel(u'$d$, sm')\n",
    "plt.ylabel(u'$ln(N_{1})$, шт')\n",
    "plt.title(u'The dependence of detected particles on thickness of plumbum')\n",
    "plt.grid(True)\n",
    "\n",
    "plt.plot(x_new, y_new, 'k',  color='b')\n",
    "kOctober = myoutput.beta[0]\n",
    "kerrOctober = myoutput.sd_beta[0]\n",
    "bOctober = myoutput.beta[1]\n",
    "berrOctober = myoutput.sd_beta[1]\n",
    "\n",
    "#January\n",
    "\n",
    "yDataJanuary = datalnJanuary.values.T[1]\n",
    "xDataJanuary = datalnJanuary.values.T[0]\n",
    "xerrDataJanuary = datalnJanuary.values.T[2]\n",
    "yerrDataJanuary = datalnJanuary.values.T[3]\n",
    "\n",
    "\n",
    "mydata = odr.RealData(xDataJanuary, yDataJanuary, sx=xerrDataJanuary, sy=yerrDataJanuary)\n",
    "myodr = odr.ODR(mydata, linear, beta0=[1.,1.])\n",
    "myoutput = myodr.run()\n",
    "x_new = np.linspace(xDataJanuary[0], xDataJanuary[-1], 50)\n",
    "y_new = linear.fcn(myoutput.beta, x_new)\n",
    "\n",
    "\n",
    "plt.errorbar(xDataJanuary, yDataJanuary, xerr=xerrDataJanuary, yerr=yerrDataJanuary, fmt='r.', color='g')\n",
    "\n",
    "plt.plot(x_new, y_new, 'k',  color='g')\n",
    "plt.show()\n",
    "kJanuary = myoutput.beta[0]\n",
    "kerrJanuary = myoutput.sd_beta[0]\n",
    "bJanuary = myoutput.beta[1]\n",
    "berrJanuary = myoutput.sd_beta[1]"
   ]
  },
  {
   "cell_type": "code",
   "execution_count": 17,
   "metadata": {
    "collapsed": false
   },
   "outputs": [
    {
     "data": {
      "image/png": "[encoded data removed]",
      "text/plain": [
       "<matplotlib.figure.Figure at 0x7f15598946d0>"
      ]
     },
     "metadata": {},
     "output_type": "display_data"
    }
   ],
   "source": [
    "plt.figure(num=None, figsize=(12, 6), dpi=80, facecolor='w', edgecolor='k')\n",
    "plt.subplot()\n",
    "\n",
    "yDataOctober = dataOctober.values.T[1]\n",
    "xDataOctober = dataOctober.values.T[0]\n",
    "xerrDataOctober = dataOctober.values.T[2]\n",
    "yerrDataOctober = dataOctober.values.T[3]\n",
    "\n",
    "plt.errorbar(xDataOctober, yDataOctober, xerr=xerrDataOctober, yerr=yerrDataOctober, fmt='r.', color='r')\n",
    "plt.xlabel(u'$d$, sm')\n",
    "plt.ylabel(u'$N_{1}$, шт')\n",
    "plt.title(u'The dependence of detected particles on thickness of plumbum')\n",
    "plt.grid(True)\n",
    "\n",
    "x_new = np.linspace(xDataOctober[0]-0.5, xDataOctober[-1]+0.5, 50)\n",
    "plt.plot(x_new, np.exp(bOctober)*np.exp(kOctober*x_new), 'k',  color='r')\n",
    "\n",
    "# January\n",
    "\n",
    "yDataJanuary = dataJanuary.values.T[1]\n",
    "xDataJanuary = dataJanuary.values.T[0]\n",
    "xerrDataJanuary = dataJanuary.values.T[2]\n",
    "yerrDataJanuary = dataJanuary.values.T[3]\n",
    "\n",
    "plt.errorbar(xDataJanuary, yDataJanuary, xerr=xerrDataJanuary, yerr=yerrDataJanuary, fmt='r.', color='g')\n",
    "\n",
    "x_new = np.linspace(xDataJanuary[0]-0.5, xDataJanuary[-1]+0.5, 50)\n",
    "plt.plot(x_new, np.exp(bJanuary)*np.exp(kJanuary*x_new), 'k',  color='g')\n",
    "\n",
    "plt.show()"
   ]
  },
  {
   "cell_type": "markdown",
   "metadata": {},
   "source": [
    "Эффективная длина пробега мягкой компоненты"
   ]
  },
  {
   "cell_type": "code",
   "execution_count": 18,
   "metadata": {
    "collapsed": false
   },
   "outputs": [
    {
     "name": "stdout",
     "output_type": "stream",
     "text": [
      "9.76\n",
      "0.28\n"
     ]
    }
   ],
   "source": [
    "print abs(round(1.0/kOctober, 2))\n",
    "print abs(round((1.0/kOctober)*kerrOctober, 2))"
   ]
  },
  {
   "cell_type": "code",
   "execution_count": 19,
   "metadata": {
    "collapsed": false
   },
   "outputs": [
    {
     "name": "stdout",
     "output_type": "stream",
     "text": [
      "63.75\n",
      "1.27\n"
     ]
    }
   ],
   "source": [
    "print abs(round(1.0/kJanuary, 2))\n",
    "print abs(round((1.0/kJanuary)*kerrJanuary, 2))"
   ]
  },
  {
   "cell_type": "code",
   "execution_count": null,
   "metadata": {
    "collapsed": true
   },
   "outputs": [],
   "source": []
  }
 ],
 "metadata": {
  "kernelspec": {
   "display_name": "Python 2",
   "language": "python",
   "name": "python2"
  },
  "language_info": {
   "codemirror_mode": {
    "name": "ipython",
    "version": 2
   },
   "file_extension": ".py",
   "mimetype": "text/x-python",
   "name": "python",
   "nbconvert_exporter": "python",
   "pygments_lexer": "ipython2",
   "version": "2.7.12"
  }
 },
 "nbformat": 4,
 "nbformat_minor": 1
}
