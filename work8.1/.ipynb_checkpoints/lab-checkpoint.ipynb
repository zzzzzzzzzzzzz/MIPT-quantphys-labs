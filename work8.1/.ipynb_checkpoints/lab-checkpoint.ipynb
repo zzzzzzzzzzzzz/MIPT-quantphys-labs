{
 "cells": [
  {
   "cell_type": "markdown",
   "metadata": {},
   "source": [
    "# Лабораторная работа № 8.1\n",
    "## Определение постоянных Стефана-Больцмана и Планка из анализа теплового излучения накаленного тела\n",
    "При помощи модели абсолютно чёрного тела (АЧТ) проводятся измерения температуры оптическим пирометром с исчезающей нитью и термопарой, исследуется излучение накаленных тел с различной испускательной способностью, определяются постоянные Планка и Стефана-Больцмана"
   ]
  },
  {
   "cell_type": "code",
   "execution_count": 1,
   "metadata": {
    "collapsed": true
   },
   "outputs": [],
   "source": [
    "# -*- coding: utf-8 -*-\n",
    "import matplotlib.pyplot as plt\n",
    "%matplotlib inline\n",
    "import numpy as np\n",
    "import pandas as pd\n",
    "import scipy.interpolate as scpint\n",
    "import scipy.odr as odr"
   ]
  },
  {
   "cell_type": "markdown",
   "metadata": {},
   "source": [
    "### Изучение работы оптического пирометра\n",
    "Необходимо убедиться, что значения температуры, получаемые обоими способами (с помощью пирометра и термопары), мало отличаются друг от друга (не более 5%) и, следовательно, оптический пирометр работает исправно.\n",
    "\n",
    "* $T_{ярк}=1003°С$ – тёмная нить\n",
    "* $T_{ярк}=1108°С$ – светлая нить\n",
    "* $T_{ср} = 1055°С$\n",
    "* $T_{комн}=23°С$\n",
    "* $T_{терм}=1039°С$\n",
    "* $\\Delta T = 16°С$ – в пределах 5% \n",
    "\n",
    "Делаем вывод, что прибор работает корректно."
   ]
  },
  {
   "cell_type": "markdown",
   "metadata": {},
   "source": [
    "### Измерение яркостной температуры накаленных тел\n",
    "Этот эксперимент должен показать, что различные тела, имеющие одинаковую $T_{терм}$, имеют разные $T_{ярк}$."
   ]
  },
  {
   "cell_type": "markdown",
   "metadata": {},
   "source": [
    "* $T_{трубки}=749°С$ (материал: керамика)\n",
    "* $T_{правое кольцо}=700°С$ (материал: какой-то металл)\n",
    "* $T_{левое кольцо}=714°С$ (материал: какой-то металл)"
   ]
  },
  {
   "cell_type": "markdown",
   "metadata": {},
   "source": [
    "**Вывод (почему $T_{ярк}$ разные):** яркостная температура тела характеризует интенсивность излучения. Так как исследуемые тела не являются АЧТ, то их яркостная температура тела меньше термодинамической, поскольку любое не АЧТ излучает меньше, чем АЧТ при той же термодинамической температуре. И в связи с тем, что материалы разные, то поправка в нахождении $T_{ярк}$ зависит от материала."
   ]
  },
  {
   "cell_type": "markdown",
   "metadata": {},
   "source": [
    "### Проверка закона Стефана-Больцмана\n",
    "Загрузим полученные данные"
   ]
  },
  {
   "cell_type": "code",
   "execution_count": 2,
   "metadata": {
    "collapsed": false
   },
   "outputs": [
    {
     "data": {
      "text/html": [
       "<div>\n",
       "<table border=\"1\" class=\"dataframe\">\n",
       "  <thead>\n",
       "    <tr style=\"text-align: right;\">\n",
       "      <th></th>\n",
       "      <th>Tярк, °С</th>\n",
       "      <th>I, А</th>\n",
       "      <th>U, В</th>\n",
       "    </tr>\n",
       "  </thead>\n",
       "  <tbody>\n",
       "    <tr>\n",
       "      <th>0</th>\n",
       "      <td>850</td>\n",
       "      <td>0.448</td>\n",
       "      <td>1.49</td>\n",
       "    </tr>\n",
       "    <tr>\n",
       "      <th>1</th>\n",
       "      <td>991</td>\n",
       "      <td>0.551</td>\n",
       "      <td>2.02</td>\n",
       "    </tr>\n",
       "    <tr>\n",
       "      <th>2</th>\n",
       "      <td>1073</td>\n",
       "      <td>0.609</td>\n",
       "      <td>2.95</td>\n",
       "    </tr>\n",
       "    <tr>\n",
       "      <th>3</th>\n",
       "      <td>1198</td>\n",
       "      <td>0.624</td>\n",
       "      <td>3.11</td>\n",
       "    </tr>\n",
       "    <tr>\n",
       "      <th>4</th>\n",
       "      <td>1251</td>\n",
       "      <td>0.685</td>\n",
       "      <td>3.75</td>\n",
       "    </tr>\n",
       "    <tr>\n",
       "      <th>5</th>\n",
       "      <td>1358</td>\n",
       "      <td>0.708</td>\n",
       "      <td>4.01</td>\n",
       "    </tr>\n",
       "    <tr>\n",
       "      <th>6</th>\n",
       "      <td>1476</td>\n",
       "      <td>0.832</td>\n",
       "      <td>5.49</td>\n",
       "    </tr>\n",
       "    <tr>\n",
       "      <th>7</th>\n",
       "      <td>1591</td>\n",
       "      <td>0.914</td>\n",
       "      <td>6.57</td>\n",
       "    </tr>\n",
       "    <tr>\n",
       "      <th>8</th>\n",
       "      <td>1683</td>\n",
       "      <td>0.985</td>\n",
       "      <td>7.55</td>\n",
       "    </tr>\n",
       "    <tr>\n",
       "      <th>9</th>\n",
       "      <td>1813</td>\n",
       "      <td>1.020</td>\n",
       "      <td>8.08</td>\n",
       "    </tr>\n",
       "    <tr>\n",
       "      <th>10</th>\n",
       "      <td>1929</td>\n",
       "      <td>1.021</td>\n",
       "      <td>8.08</td>\n",
       "    </tr>\n",
       "  </tbody>\n",
       "</table>\n",
       "</div>"
      ],
      "text/plain": [
       "    Tярк, °С   I, А  U, В\n",
       "0        850  0.448  1.49\n",
       "1        991  0.551  2.02\n",
       "2       1073  0.609  2.95\n",
       "3       1198  0.624  3.11\n",
       "4       1251  0.685  3.75\n",
       "5       1358  0.708  4.01\n",
       "6       1476  0.832  5.49\n",
       "7       1591  0.914  6.57\n",
       "8       1683  0.985  7.55\n",
       "9       1813  1.020  8.08\n",
       "10      1929  1.021  8.08"
      ]
     },
     "execution_count": 2,
     "metadata": {},
     "output_type": "execute_result"
    }
   ],
   "source": [
    "dataC = pd.read_csv(\"data.csv\")\n",
    "dataC"
   ]
  },
  {
   "cell_type": "markdown",
   "metadata": {},
   "source": [
    "Получим яркостную температуру в Кельвинах."
   ]
  },
  {
   "cell_type": "code",
   "execution_count": 3,
   "metadata": {
    "collapsed": false
   },
   "outputs": [
    {
     "data": {
      "text/html": [
       "<div>\n",
       "<table border=\"1\" class=\"dataframe\">\n",
       "  <thead>\n",
       "    <tr style=\"text-align: right;\">\n",
       "      <th></th>\n",
       "      <th>Tярк(K)</th>\n",
       "    </tr>\n",
       "  </thead>\n",
       "  <tbody>\n",
       "    <tr>\n",
       "      <th>0</th>\n",
       "      <td>1123</td>\n",
       "    </tr>\n",
       "    <tr>\n",
       "      <th>1</th>\n",
       "      <td>1264</td>\n",
       "    </tr>\n",
       "    <tr>\n",
       "      <th>2</th>\n",
       "      <td>1346</td>\n",
       "    </tr>\n",
       "    <tr>\n",
       "      <th>3</th>\n",
       "      <td>1471</td>\n",
       "    </tr>\n",
       "    <tr>\n",
       "      <th>4</th>\n",
       "      <td>1524</td>\n",
       "    </tr>\n",
       "    <tr>\n",
       "      <th>5</th>\n",
       "      <td>1631</td>\n",
       "    </tr>\n",
       "    <tr>\n",
       "      <th>6</th>\n",
       "      <td>1749</td>\n",
       "    </tr>\n",
       "    <tr>\n",
       "      <th>7</th>\n",
       "      <td>1864</td>\n",
       "    </tr>\n",
       "    <tr>\n",
       "      <th>8</th>\n",
       "      <td>1956</td>\n",
       "    </tr>\n",
       "    <tr>\n",
       "      <th>9</th>\n",
       "      <td>2086</td>\n",
       "    </tr>\n",
       "    <tr>\n",
       "      <th>10</th>\n",
       "      <td>2202</td>\n",
       "    </tr>\n",
       "  </tbody>\n",
       "</table>\n",
       "</div>"
      ],
      "text/plain": [
       "    Tярк(K)\n",
       "0      1123\n",
       "1      1264\n",
       "2      1346\n",
       "3      1471\n",
       "4      1524\n",
       "5      1631\n",
       "6      1749\n",
       "7      1864\n",
       "8      1956\n",
       "9      2086\n",
       "10     2202"
      ]
     },
     "execution_count": 3,
     "metadata": {},
     "output_type": "execute_result"
    }
   ],
   "source": [
    "dataK = pd.DataFrame(dataC.values.T[0] + 273)\n",
    "dataK.columns =['Tярк(K)']\n",
    "dataK"
   ]
  },
  {
   "cell_type": "markdown",
   "metadata": {},
   "source": [
    "C помощью графика получим термодинамическую температуру"
   ]
  },
  {
   "cell_type": "code",
   "execution_count": 4,
   "metadata": {
    "collapsed": false
   },
   "outputs": [
    {
     "data": {
      "text/html": [
       "<div>\n",
       "<table border=\"1\" class=\"dataframe\">\n",
       "  <thead>\n",
       "    <tr style=\"text-align: right;\">\n",
       "      <th></th>\n",
       "      <th>Tярк(K)</th>\n",
       "      <th>Tтерм(K)</th>\n",
       "    </tr>\n",
       "  </thead>\n",
       "  <tbody>\n",
       "    <tr>\n",
       "      <th>0</th>\n",
       "      <td>1123</td>\n",
       "      <td>1170</td>\n",
       "    </tr>\n",
       "    <tr>\n",
       "      <th>1</th>\n",
       "      <td>1264</td>\n",
       "      <td>1300</td>\n",
       "    </tr>\n",
       "    <tr>\n",
       "      <th>2</th>\n",
       "      <td>1346</td>\n",
       "      <td>1390</td>\n",
       "    </tr>\n",
       "    <tr>\n",
       "      <th>3</th>\n",
       "      <td>1471</td>\n",
       "      <td>1520</td>\n",
       "    </tr>\n",
       "    <tr>\n",
       "      <th>4</th>\n",
       "      <td>1524</td>\n",
       "      <td>1590</td>\n",
       "    </tr>\n",
       "    <tr>\n",
       "      <th>5</th>\n",
       "      <td>1631</td>\n",
       "      <td>1690</td>\n",
       "    </tr>\n",
       "    <tr>\n",
       "      <th>6</th>\n",
       "      <td>1749</td>\n",
       "      <td>1810</td>\n",
       "    </tr>\n",
       "    <tr>\n",
       "      <th>7</th>\n",
       "      <td>1864</td>\n",
       "      <td>1950</td>\n",
       "    </tr>\n",
       "    <tr>\n",
       "      <th>8</th>\n",
       "      <td>1956</td>\n",
       "      <td>2010</td>\n",
       "    </tr>\n",
       "    <tr>\n",
       "      <th>9</th>\n",
       "      <td>2086</td>\n",
       "      <td>2120</td>\n",
       "    </tr>\n",
       "    <tr>\n",
       "      <th>10</th>\n",
       "      <td>2202</td>\n",
       "      <td>2240</td>\n",
       "    </tr>\n",
       "  </tbody>\n",
       "</table>\n",
       "</div>"
      ],
      "text/plain": [
       "    Tярк(K)  Tтерм(K)\n",
       "0      1123      1170\n",
       "1      1264      1300\n",
       "2      1346      1390\n",
       "3      1471      1520\n",
       "4      1524      1590\n",
       "5      1631      1690\n",
       "6      1749      1810\n",
       "7      1864      1950\n",
       "8      1956      2010\n",
       "9      2086      2120\n",
       "10     2202      2240"
      ]
     },
     "execution_count": 4,
     "metadata": {},
     "output_type": "execute_result"
    }
   ],
   "source": [
    "dataK['Tтерм(K)'] = pd.Series([\n",
    "        1170,\n",
    "        1300,\n",
    "        1390,\n",
    "        1520,\n",
    "        1590,\n",
    "        1690,\n",
    "        1810,\n",
    "        1950,\n",
    "        2010,\n",
    "        2120,\n",
    "        2240\n",
    "    ])\n",
    "dataK"
   ]
  },
  {
   "cell_type": "markdown",
   "metadata": {},
   "source": [
    "Переведём термодинамическую температуру из Кельвинов в Цельсии и добавим к исходным данным"
   ]
  },
  {
   "cell_type": "code",
   "execution_count": 5,
   "metadata": {
    "collapsed": false
   },
   "outputs": [
    {
     "data": {
      "text/html": [
       "<div>\n",
       "<table border=\"1\" class=\"dataframe\">\n",
       "  <thead>\n",
       "    <tr style=\"text-align: right;\">\n",
       "      <th></th>\n",
       "      <th>Tярк, °С</th>\n",
       "      <th>I, А</th>\n",
       "      <th>U, В</th>\n",
       "      <th>Tтерм(°C)</th>\n",
       "    </tr>\n",
       "  </thead>\n",
       "  <tbody>\n",
       "    <tr>\n",
       "      <th>0</th>\n",
       "      <td>850</td>\n",
       "      <td>0.448</td>\n",
       "      <td>1.49</td>\n",
       "      <td>897</td>\n",
       "    </tr>\n",
       "    <tr>\n",
       "      <th>1</th>\n",
       "      <td>991</td>\n",
       "      <td>0.551</td>\n",
       "      <td>2.02</td>\n",
       "      <td>1027</td>\n",
       "    </tr>\n",
       "    <tr>\n",
       "      <th>2</th>\n",
       "      <td>1073</td>\n",
       "      <td>0.609</td>\n",
       "      <td>2.95</td>\n",
       "      <td>1117</td>\n",
       "    </tr>\n",
       "    <tr>\n",
       "      <th>3</th>\n",
       "      <td>1198</td>\n",
       "      <td>0.624</td>\n",
       "      <td>3.11</td>\n",
       "      <td>1247</td>\n",
       "    </tr>\n",
       "    <tr>\n",
       "      <th>4</th>\n",
       "      <td>1251</td>\n",
       "      <td>0.685</td>\n",
       "      <td>3.75</td>\n",
       "      <td>1317</td>\n",
       "    </tr>\n",
       "    <tr>\n",
       "      <th>5</th>\n",
       "      <td>1358</td>\n",
       "      <td>0.708</td>\n",
       "      <td>4.01</td>\n",
       "      <td>1417</td>\n",
       "    </tr>\n",
       "    <tr>\n",
       "      <th>6</th>\n",
       "      <td>1476</td>\n",
       "      <td>0.832</td>\n",
       "      <td>5.49</td>\n",
       "      <td>1537</td>\n",
       "    </tr>\n",
       "    <tr>\n",
       "      <th>7</th>\n",
       "      <td>1591</td>\n",
       "      <td>0.914</td>\n",
       "      <td>6.57</td>\n",
       "      <td>1677</td>\n",
       "    </tr>\n",
       "    <tr>\n",
       "      <th>8</th>\n",
       "      <td>1683</td>\n",
       "      <td>0.985</td>\n",
       "      <td>7.55</td>\n",
       "      <td>1737</td>\n",
       "    </tr>\n",
       "    <tr>\n",
       "      <th>9</th>\n",
       "      <td>1813</td>\n",
       "      <td>1.020</td>\n",
       "      <td>8.08</td>\n",
       "      <td>1847</td>\n",
       "    </tr>\n",
       "    <tr>\n",
       "      <th>10</th>\n",
       "      <td>1929</td>\n",
       "      <td>1.021</td>\n",
       "      <td>8.08</td>\n",
       "      <td>1967</td>\n",
       "    </tr>\n",
       "  </tbody>\n",
       "</table>\n",
       "</div>"
      ],
      "text/plain": [
       "    Tярк, °С   I, А  U, В  Tтерм(°C)\n",
       "0        850  0.448  1.49        897\n",
       "1        991  0.551  2.02       1027\n",
       "2       1073  0.609  2.95       1117\n",
       "3       1198  0.624  3.11       1247\n",
       "4       1251  0.685  3.75       1317\n",
       "5       1358  0.708  4.01       1417\n",
       "6       1476  0.832  5.49       1537\n",
       "7       1591  0.914  6.57       1677\n",
       "8       1683  0.985  7.55       1737\n",
       "9       1813  1.020  8.08       1847\n",
       "10      1929  1.021  8.08       1967"
      ]
     },
     "execution_count": 5,
     "metadata": {},
     "output_type": "execute_result"
    }
   ],
   "source": [
    "dataC['Tтерм(°C)'] = dataK['Tтерм(K)'] - 273\n",
    "dataC"
   ]
  },
  {
   "cell_type": "markdown",
   "metadata": {},
   "source": [
    "Добавим сюда также потребляемую мощность: $W = U \\cdot I$(Вт)"
   ]
  },
  {
   "cell_type": "code",
   "execution_count": 7,
   "metadata": {
    "collapsed": false
   },
   "outputs": [
    {
     "data": {
      "text/html": [
       "<div>\n",
       "<table border=\"1\" class=\"dataframe\">\n",
       "  <thead>\n",
       "    <tr style=\"text-align: right;\">\n",
       "      <th></th>\n",
       "      <th>Tярк, °С</th>\n",
       "      <th>I, А</th>\n",
       "      <th>U, В</th>\n",
       "      <th>Tтерм(°C)</th>\n",
       "      <th>W, Вт</th>\n",
       "    </tr>\n",
       "  </thead>\n",
       "  <tbody>\n",
       "    <tr>\n",
       "      <th>0</th>\n",
       "      <td>850</td>\n",
       "      <td>0.448</td>\n",
       "      <td>1.49</td>\n",
       "      <td>897</td>\n",
       "      <td>0.668</td>\n",
       "    </tr>\n",
       "    <tr>\n",
       "      <th>1</th>\n",
       "      <td>991</td>\n",
       "      <td>0.551</td>\n",
       "      <td>2.02</td>\n",
       "      <td>1027</td>\n",
       "      <td>1.113</td>\n",
       "    </tr>\n",
       "    <tr>\n",
       "      <th>2</th>\n",
       "      <td>1073</td>\n",
       "      <td>0.609</td>\n",
       "      <td>2.95</td>\n",
       "      <td>1117</td>\n",
       "      <td>1.797</td>\n",
       "    </tr>\n",
       "    <tr>\n",
       "      <th>3</th>\n",
       "      <td>1198</td>\n",
       "      <td>0.624</td>\n",
       "      <td>3.11</td>\n",
       "      <td>1247</td>\n",
       "      <td>1.941</td>\n",
       "    </tr>\n",
       "    <tr>\n",
       "      <th>4</th>\n",
       "      <td>1251</td>\n",
       "      <td>0.685</td>\n",
       "      <td>3.75</td>\n",
       "      <td>1317</td>\n",
       "      <td>2.569</td>\n",
       "    </tr>\n",
       "    <tr>\n",
       "      <th>5</th>\n",
       "      <td>1358</td>\n",
       "      <td>0.708</td>\n",
       "      <td>4.01</td>\n",
       "      <td>1417</td>\n",
       "      <td>2.839</td>\n",
       "    </tr>\n",
       "    <tr>\n",
       "      <th>6</th>\n",
       "      <td>1476</td>\n",
       "      <td>0.832</td>\n",
       "      <td>5.49</td>\n",
       "      <td>1537</td>\n",
       "      <td>4.568</td>\n",
       "    </tr>\n",
       "    <tr>\n",
       "      <th>7</th>\n",
       "      <td>1591</td>\n",
       "      <td>0.914</td>\n",
       "      <td>6.57</td>\n",
       "      <td>1677</td>\n",
       "      <td>6.005</td>\n",
       "    </tr>\n",
       "    <tr>\n",
       "      <th>8</th>\n",
       "      <td>1683</td>\n",
       "      <td>0.985</td>\n",
       "      <td>7.55</td>\n",
       "      <td>1737</td>\n",
       "      <td>7.437</td>\n",
       "    </tr>\n",
       "    <tr>\n",
       "      <th>9</th>\n",
       "      <td>1813</td>\n",
       "      <td>1.020</td>\n",
       "      <td>8.08</td>\n",
       "      <td>1847</td>\n",
       "      <td>8.242</td>\n",
       "    </tr>\n",
       "    <tr>\n",
       "      <th>10</th>\n",
       "      <td>1929</td>\n",
       "      <td>1.021</td>\n",
       "      <td>8.08</td>\n",
       "      <td>1967</td>\n",
       "      <td>8.250</td>\n",
       "    </tr>\n",
       "  </tbody>\n",
       "</table>\n",
       "</div>"
      ],
      "text/plain": [
       "    Tярк, °С   I, А  U, В  Tтерм(°C)  W, Вт\n",
       "0        850  0.448  1.49        897  0.668\n",
       "1        991  0.551  2.02       1027  1.113\n",
       "2       1073  0.609  2.95       1117  1.797\n",
       "3       1198  0.624  3.11       1247  1.941\n",
       "4       1251  0.685  3.75       1317  2.569\n",
       "5       1358  0.708  4.01       1417  2.839\n",
       "6       1476  0.832  5.49       1537  4.568\n",
       "7       1591  0.914  6.57       1677  6.005\n",
       "8       1683  0.985  7.55       1737  7.437\n",
       "9       1813  1.020  8.08       1847  8.242\n",
       "10      1929  1.021  8.08       1967  8.250"
      ]
     },
     "execution_count": 7,
     "metadata": {},
     "output_type": "execute_result"
    }
   ],
   "source": [
    "dataC['W, Вт'] = np.round(dataC['U, В']*dataC['I, А'],3)\n",
    "dataC"
   ]
  },
  {
   "cell_type": "code",
   "execution_count": 12,
   "metadata": {
    "collapsed": false
   },
   "outputs": [],
   "source": [
    "# Функция для регрессии Деминга: https://docs.scipy.org/doc/scipy/reference/odr.html\n",
    "def f(B, x):\n",
    "    return B[0]*x**2 +B[1]*x+B[2]\n",
    "\n",
    "def g(B, x):\n",
    "    return B[0]*x + B[1]\n",
    "\n",
    "square = odr.Model(f)\n",
    "linear = odr.Model(g)"
   ]
  },
  {
   "cell_type": "code",
   "execution_count": 13,
   "metadata": {
    "collapsed": false
   },
   "outputs": [
    {
     "data": {
      "image/png": "[encoded data removed]",
      "text/plain": [
       "<matplotlib.figure.Figure at 0x7f4b594b1850>"
      ]
     },
     "metadata": {},
     "output_type": "display_data"
    }
   ],
   "source": [
    "plt.figure(num=None, figsize=(12, 6), dpi=80, facecolor='w', edgecolor='k')\n",
    "plt.subplot()\n",
    "\n",
    "\n",
    "y = dataC['W, Вт'].values\n",
    "yerr = [1 for i in range(len(y))]\n",
    "x = dataC['Tтерм(°C)'].values\n",
    "xerr = [1 for i in range(len(x))]\n",
    "\n",
    "mydata = odr.RealData(x, y, sx=xerr, sy=yerr)\n",
    "myodr = odr.ODR(mydata, square, beta0=[1.,2., 3.])\n",
    "myoutput = myodr.run()\n",
    "\n",
    "x_new = np.linspace(x[0], x[-1], 50)\n",
    "y_new = square.fcn(myoutput.beta, x_new)\n",
    "\n",
    "plt.xlabel(\"$T, \\circ C$\")\n",
    "plt.ylabel(\"$W, W$\")\n",
    "plt.title(\"$W = f_{2}(T)$\")\n",
    "plt.grid(True)\n",
    "\n",
    "\n",
    "plt.errorbar(x, y, xerr=xerr, yerr=yerr, fmt='k.',  color='r')\n",
    "plt.plot(x_new, y_new, 'k',  color='b')\n",
    "plt.text(1100,8, r'$W = ax^2 + bx + c$')\n",
    "plt.text(1100,7, r'$ a= %.6f \\pm %.6f$'%(round(myoutput.beta[0],6), round(myoutput.sd_beta[0],6)))\n",
    "plt.text(1100,6, r'$ b= %.6f \\pm %.6f$'%(round(myoutput.beta[1],6), round(myoutput.sd_beta[1],6)))\n",
    "plt.text(1100,5, r'$ c= %.6f \\pm %.6f$'%(round(myoutput.beta[2],6), round(myoutput.sd_beta[2],6)))\n",
    "plt.show()"
   ]
  },
  {
   "cell_type": "markdown",
   "metadata": {},
   "source": [
    "Построим график\n",
    "$$lnW = ln(\\varepsilon_{T}B) + n lnT$$\n",
    "$$B = S \\cdot \\sigma$$\n",
    "И найдём из него n."
   ]
  },
  {
   "cell_type": "code",
   "execution_count": 14,
   "metadata": {
    "collapsed": true
   },
   "outputs": [],
   "source": [
    "B = 2.0E-12"
   ]
  },
  {
   "cell_type": "markdown",
   "metadata": {},
   "source": [
    "По таблице поправочных коэффициентов построим зависимость $\\varepsilon_{T}$ от $T, K$."
   ]
  },
  {
   "cell_type": "code",
   "execution_count": 15,
   "metadata": {
    "collapsed": false
   },
   "outputs": [
    {
     "data": {
      "text/html": [
       "<div>\n",
       "<table border=\"1\" class=\"dataframe\">\n",
       "  <thead>\n",
       "    <tr style=\"text-align: right;\">\n",
       "      <th></th>\n",
       "      <th>eps</th>\n",
       "      <th>T</th>\n",
       "    </tr>\n",
       "  </thead>\n",
       "  <tbody>\n",
       "    <tr>\n",
       "      <th>0</th>\n",
       "      <td>0.067</td>\n",
       "      <td>800</td>\n",
       "    </tr>\n",
       "    <tr>\n",
       "      <th>1</th>\n",
       "      <td>0.081</td>\n",
       "      <td>900</td>\n",
       "    </tr>\n",
       "    <tr>\n",
       "      <th>2</th>\n",
       "      <td>0.105</td>\n",
       "      <td>1000</td>\n",
       "    </tr>\n",
       "    <tr>\n",
       "      <th>3</th>\n",
       "      <td>0.119</td>\n",
       "      <td>1100</td>\n",
       "    </tr>\n",
       "    <tr>\n",
       "      <th>4</th>\n",
       "      <td>0.133</td>\n",
       "      <td>1200</td>\n",
       "    </tr>\n",
       "    <tr>\n",
       "      <th>5</th>\n",
       "      <td>0.144</td>\n",
       "      <td>1300</td>\n",
       "    </tr>\n",
       "    <tr>\n",
       "      <th>6</th>\n",
       "      <td>0.164</td>\n",
       "      <td>1400</td>\n",
       "    </tr>\n",
       "    <tr>\n",
       "      <th>7</th>\n",
       "      <td>0.179</td>\n",
       "      <td>1500</td>\n",
       "    </tr>\n",
       "    <tr>\n",
       "      <th>8</th>\n",
       "      <td>0.195</td>\n",
       "      <td>1600</td>\n",
       "    </tr>\n",
       "    <tr>\n",
       "      <th>9</th>\n",
       "      <td>0.209</td>\n",
       "      <td>1700</td>\n",
       "    </tr>\n",
       "    <tr>\n",
       "      <th>10</th>\n",
       "      <td>0.223</td>\n",
       "      <td>1800</td>\n",
       "    </tr>\n",
       "    <tr>\n",
       "      <th>11</th>\n",
       "      <td>0.236</td>\n",
       "      <td>1900</td>\n",
       "    </tr>\n",
       "    <tr>\n",
       "      <th>12</th>\n",
       "      <td>0.249</td>\n",
       "      <td>2000</td>\n",
       "    </tr>\n",
       "  </tbody>\n",
       "</table>\n",
       "</div>"
      ],
      "text/plain": [
       "      eps     T\n",
       "0   0.067   800\n",
       "1   0.081   900\n",
       "2   0.105  1000\n",
       "3   0.119  1100\n",
       "4   0.133  1200\n",
       "5   0.144  1300\n",
       "6   0.164  1400\n",
       "7   0.179  1500\n",
       "8   0.195  1600\n",
       "9   0.209  1700\n",
       "10  0.223  1800\n",
       "11  0.236  1900\n",
       "12  0.249  2000"
      ]
     },
     "execution_count": 15,
     "metadata": {},
     "output_type": "execute_result"
    }
   ],
   "source": [
    "correction = pd.DataFrame()\n",
    "correction['eps'] = pd.Series([\n",
    "        0.067,\n",
    "        0.081,\n",
    "        0.105,\n",
    "        0.119,\n",
    "        0.133,\n",
    "        0.144,\n",
    "        0.164,\n",
    "        0.179,\n",
    "        0.195,\n",
    "        0.209,\n",
    "        0.223,\n",
    "        0.236,\n",
    "        0.249\n",
    "    ])\n",
    "correction['T'] = pd.Series([\n",
    "        800,\n",
    "        900,\n",
    "        1000,\n",
    "        1100,\n",
    "        1200,\n",
    "        1300,\n",
    "        1400,\n",
    "        1500,\n",
    "        1600,\n",
    "        1700,\n",
    "        1800,\n",
    "        1900,\n",
    "        2000\n",
    "    ])\n",
    "correction"
   ]
  },
  {
   "cell_type": "code",
   "execution_count": 16,
   "metadata": {
    "collapsed": false
   },
   "outputs": [
    {
     "data": {
      "image/png": "[encoded data removed]",
      "text/plain": [
       "<matplotlib.figure.Figure at 0x7f4b592f2e10>"
      ]
     },
     "metadata": {},
     "output_type": "display_data"
    }
   ],
   "source": [
    "plt.figure(num=None, figsize=(12, 6), dpi=80, facecolor='w', edgecolor='k')\n",
    "plt.subplot()\n",
    "\n",
    "\n",
    "y = correction['eps'].values\n",
    "yerr = [0.0005 for i in range(len(correction['eps']))]\n",
    "x = correction['T'].values\n",
    "xerr = [0.5 for i in range(len(correction['eps']))]\n",
    "\n",
    "mydata = odr.RealData(x, y, sx=xerr, sy=yerr)\n",
    "myodr = odr.ODR(mydata, linear, beta0=[1.,2.])\n",
    "myoutput = myodr.run()\n",
    "\n",
    "x_new = np.linspace(x[0], x[-1], 50)\n",
    "y_new = linear.fcn(myoutput.beta, x_new)\n",
    "\n",
    "plt.xlabel(\"$T^{\\circ}C$\")\n",
    "plt.ylabel(\"$E_{T}$\")\n",
    "plt.title(\"Dependence of the correction coef from T\")\n",
    "plt.grid(True)\n",
    "\n",
    "\n",
    "plt.errorbar(x, y, xerr=xerr, yerr=yerr, fmt='k.',  color='r')\n",
    "plt.plot(x_new, y_new, 'k',  color='b')\n",
    "plt.show()"
   ]
  },
  {
   "cell_type": "markdown",
   "metadata": {},
   "source": [
    "Получим столбцы $lnW - ln(\\varepsilon_{T}B)$ и $ln(T)$"
   ]
  },
  {
   "cell_type": "code",
   "execution_count": 17,
   "metadata": {
    "collapsed": false
   },
   "outputs": [],
   "source": [
    "E = linear.fcn(myoutput.beta, dataK['Tтерм(K)'])"
   ]
  },
  {
   "cell_type": "code",
   "execution_count": 18,
   "metadata": {
    "collapsed": false
   },
   "outputs": [
    {
     "data": {
      "text/html": [
       "<div>\n",
       "<table border=\"1\" class=\"dataframe\">\n",
       "  <thead>\n",
       "    <tr style=\"text-align: right;\">\n",
       "      <th></th>\n",
       "      <th>lnW-ln(EB)</th>\n",
       "      <th>lnT</th>\n",
       "    </tr>\n",
       "  </thead>\n",
       "  <tbody>\n",
       "    <tr>\n",
       "      <th>0</th>\n",
       "      <td>28.599047</td>\n",
       "      <td>7.064759</td>\n",
       "    </tr>\n",
       "    <tr>\n",
       "      <th>1</th>\n",
       "      <td>28.964732</td>\n",
       "      <td>7.170120</td>\n",
       "    </tr>\n",
       "    <tr>\n",
       "      <th>2</th>\n",
       "      <td>29.354544</td>\n",
       "      <td>7.237059</td>\n",
       "    </tr>\n",
       "    <tr>\n",
       "      <th>3</th>\n",
       "      <td>29.315333</td>\n",
       "      <td>7.326466</td>\n",
       "    </tr>\n",
       "    <tr>\n",
       "      <th>4</th>\n",
       "      <td>29.538211</td>\n",
       "      <td>7.371489</td>\n",
       "    </tr>\n",
       "    <tr>\n",
       "      <th>5</th>\n",
       "      <td>29.561427</td>\n",
       "      <td>7.432484</td>\n",
       "    </tr>\n",
       "    <tr>\n",
       "      <th>6</th>\n",
       "      <td>29.952140</td>\n",
       "      <td>7.501082</td>\n",
       "    </tr>\n",
       "    <tr>\n",
       "      <th>7</th>\n",
       "      <td>30.134927</td>\n",
       "      <td>7.575585</td>\n",
       "    </tr>\n",
       "    <tr>\n",
       "      <th>8</th>\n",
       "      <td>30.312304</td>\n",
       "      <td>7.605890</td>\n",
       "    </tr>\n",
       "    <tr>\n",
       "      <th>9</th>\n",
       "      <td>30.351441</td>\n",
       "      <td>7.659171</td>\n",
       "    </tr>\n",
       "    <tr>\n",
       "      <th>10</th>\n",
       "      <td>30.287316</td>\n",
       "      <td>7.714231</td>\n",
       "    </tr>\n",
       "  </tbody>\n",
       "</table>\n",
       "</div>"
      ],
      "text/plain": [
       "    lnW-ln(EB)       lnT\n",
       "0    28.599047  7.064759\n",
       "1    28.964732  7.170120\n",
       "2    29.354544  7.237059\n",
       "3    29.315333  7.326466\n",
       "4    29.538211  7.371489\n",
       "5    29.561427  7.432484\n",
       "6    29.952140  7.501082\n",
       "7    30.134927  7.575585\n",
       "8    30.312304  7.605890\n",
       "9    30.351441  7.659171\n",
       "10   30.287316  7.714231"
      ]
     },
     "execution_count": 18,
     "metadata": {},
     "output_type": "execute_result"
    }
   ],
   "source": [
    "dataln = pd.DataFrame()\n",
    "dataln['lnW-ln(EB)'] = pd.Series(np.log(dataC['W, Вт']) - np.log(E*B))\n",
    "dataln['lnT'] = pd.Series(np.log(dataK['Tтерм(K)']))\n",
    "dataln"
   ]
  },
  {
   "cell_type": "code",
   "execution_count": 19,
   "metadata": {
    "collapsed": true
   },
   "outputs": [],
   "source": [
    "linearStefanBolcman = odr.Model(g)"
   ]
  },
  {
   "cell_type": "code",
   "execution_count": 20,
   "metadata": {
    "collapsed": false
   },
   "outputs": [
    {
     "data": {
      "image/png": "[encoded data removed]",
      "text/plain": [
       "<matplotlib.figure.Figure at 0x7f4b59192a90>"
      ]
     },
     "metadata": {},
     "output_type": "display_data"
    }
   ],
   "source": [
    "plt.figure(num=None, figsize=(12, 6), dpi=80, facecolor='w', edgecolor='k')\n",
    "plt.subplot()\n",
    "\n",
    "\n",
    "y = dataln['lnW-ln(EB)'].values\n",
    "yerr = [0.05 for i in range(len(y))]\n",
    "x = dataln['lnT'].values\n",
    "xerr = [0.05 for i in range(len(x))]\n",
    "\n",
    "mydata = odr.RealData(x, y, sx=xerr, sy=yerr)\n",
    "myodr = odr.ODR(mydata, linearStefanBolcman, beta0=[1.,2.])\n",
    "myoutput = myodr.run()\n",
    "\n",
    "x_new = np.linspace(x[0], x[-1], 50)\n",
    "y_new = linearStefanBolcman.fcn(myoutput.beta, x_new)\n",
    "\n",
    "plt.xlabel(\"$lnT$\")\n",
    "plt.ylabel(\"$lnW - ln(E_{T}B)$\")\n",
    "plt.title(\"$lnW - ln(E_{T}B) = nlnT$\")\n",
    "plt.grid(True)\n",
    "\n",
    "\n",
    "plt.errorbar(x, y, xerr=xerr, yerr=yerr, fmt='k.',  color='r')\n",
    "plt.plot(x_new, y_new, 'k',  color='b')\n",
    "plt.text(7.2,30.0, r'$n = %.2f \\pm %.2f$'%(round(myoutput.beta[0],2), round(myoutput.sd_beta[0],2)))\n",
    "plt.show()"
   ]
  },
  {
   "cell_type": "markdown",
   "metadata": {},
   "source": [
    "Найдём величину постоянной Стефана-Больцмана по формуле\n",
    "$$\\sigma = \\frac{W}{\\varepsilon_{T}ST^4}$$\n",
    "при температуре больше 1700К"
   ]
  },
  {
   "cell_type": "code",
   "execution_count": 21,
   "metadata": {
    "collapsed": false
   },
   "outputs": [
    {
     "data": {
      "text/html": [
       "<div>\n",
       "<table border=\"1\" class=\"dataframe\">\n",
       "  <thead>\n",
       "    <tr style=\"text-align: right;\">\n",
       "      <th></th>\n",
       "      <th>T, K</th>\n",
       "      <th>sigma</th>\n",
       "      <th>h</th>\n",
       "    </tr>\n",
       "  </thead>\n",
       "  <tbody>\n",
       "    <tr>\n",
       "      <th>5</th>\n",
       "      <td>1690</td>\n",
       "      <td>4.694025e-08</td>\n",
       "      <td>7.049174e-34</td>\n",
       "    </tr>\n",
       "    <tr>\n",
       "      <th>6</th>\n",
       "      <td>1810</td>\n",
       "      <td>5.273057e-08</td>\n",
       "      <td>6.781086e-34</td>\n",
       "    </tr>\n",
       "    <tr>\n",
       "      <th>7</th>\n",
       "      <td>1950</td>\n",
       "      <td>4.699176e-08</td>\n",
       "      <td>7.046597e-34</td>\n",
       "    </tr>\n",
       "    <tr>\n",
       "      <th>8</th>\n",
       "      <td>2010</td>\n",
       "      <td>4.970611e-08</td>\n",
       "      <td>6.915922e-34</td>\n",
       "    </tr>\n",
       "    <tr>\n",
       "      <th>9</th>\n",
       "      <td>2120</td>\n",
       "      <td>4.176837e-08</td>\n",
       "      <td>7.328878e-34</td>\n",
       "    </tr>\n",
       "    <tr>\n",
       "      <th>10</th>\n",
       "      <td>2240</td>\n",
       "      <td>3.143039e-08</td>\n",
       "      <td>8.057558e-34</td>\n",
       "    </tr>\n",
       "  </tbody>\n",
       "</table>\n",
       "</div>"
      ],
      "text/plain": [
       "    T, K         sigma             h\n",
       "5   1690  4.694025e-08  7.049174e-34\n",
       "6   1810  5.273057e-08  6.781086e-34\n",
       "7   1950  4.699176e-08  7.046597e-34\n",
       "8   2010  4.970611e-08  6.915922e-34\n",
       "9   2120  4.176837e-08  7.328878e-34\n",
       "10  2240  3.143039e-08  8.057558e-34"
      ]
     },
     "execution_count": 21,
     "metadata": {},
     "output_type": "execute_result"
    }
   ],
   "source": [
    "stefBolcHighTemp = pd.DataFrame()\n",
    "stefBolcHighTemp['T, K'] = dataK['Tтерм(K)'][5:]\n",
    "stefBolcHighTemp['sigma'] = pd.Series(dataC['W, Вт'][5:] / (E[5:]*0.36e-04*dataK['Tтерм(K)'][5:]**4))\n",
    "stefBolcHighTemp['h'] = pd.Series((((2*(3.14159**5)*((1.38e-23)**4))/(15*((3e08)**2)*stefBolcHighTemp['sigma']))**(1.0/3)))\n",
    "stefBolcHighTemp"
   ]
  },
  {
   "cell_type": "code",
   "execution_count": 22,
   "metadata": {
    "collapsed": false
   },
   "outputs": [
    {
     "name": "stdout",
     "output_type": "stream",
     "text": [
      "h=7.19653598347e-34 ± 4.19208406418e-35 Дж*с\n"
     ]
    }
   ],
   "source": [
    "print \"h=\" + str(np.average(stefBolcHighTemp['h'])) + \" ± \" + str(np.std(stefBolcHighTemp['h'])) + \" Дж*с\""
   ]
  },
  {
   "cell_type": "markdown",
   "metadata": {},
   "source": [
    "### Измерение \"яркостной температуры\" неоновой лампочки\n",
    "Направить пирометр на неоновую лампочку. Измерить пирометром \"яркостную температуру\" неоновой лампы."
   ]
  },
  {
   "cell_type": "code",
   "execution_count": 23,
   "metadata": {
    "collapsed": false
   },
   "outputs": [
    {
     "name": "stdout",
     "output_type": "stream",
     "text": [
      "841.5\n",
      "3.2\n"
     ]
    }
   ],
   "source": [
    "neon = pd.DataFrame()\n",
    "# в градусах Цельсия\n",
    "neon['Tярк'] = pd.Series([\n",
    "        843,\n",
    "        839,\n",
    "        846,\n",
    "        838\n",
    "    ])\n",
    "print np.average(neon['Tярк'])\n",
    "print round(np.std(neon['Tярк']),1)"
   ]
  },
  {
   "cell_type": "markdown",
   "metadata": {},
   "source": [
    "**Вывод(как можно объяснить, что на ощупь температура оказалась малой):**\n",
    "\n"
   ]
  },
  {
   "cell_type": "markdown",
   "metadata": {},
   "source": [
    "### Вывод\n",
    "Используя модели абсолютно чёрного тела (АЧТ) были произведены измерения температуры оптическим пирометром с исчезающей нитью и термопарой, исследовалось излучение накаленных тел с различной испускательной способностью (керамической трубки и двух металлических колец). На основе этого наблюдения был сделан вывод почему $T_{ярк}$ этих тел различны ($T_{ярк}$ зависит от материала, $T_{ярк}$ $ < $ $T_{терм}$ для не АЧТ). На полученных данных Таблицы 1 проверен закон Стефана-Больцмана (коэффициент при T n= , что соответствует зависимости $W = \\varepsilon S \\sigma T^4$). Определены постоянная Планка $h=$  и Стефана-Больцмана $\\sigma=$ ."
   ]
  }
 ],
 "metadata": {
  "kernelspec": {
   "display_name": "Python 2",
   "language": "python",
   "name": "python2"
  },
  "language_info": {
   "codemirror_mode": {
    "name": "ipython",
    "version": 2
   },
   "file_extension": ".py",
   "mimetype": "text/x-python",
   "name": "python",
   "nbconvert_exporter": "python",
   "pygments_lexer": "ipython2",
   "version": "2.7.12"
  }
 },
 "nbformat": 4,
 "nbformat_minor": 1
}
