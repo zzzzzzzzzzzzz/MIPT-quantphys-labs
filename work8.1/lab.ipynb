{
 "cells": [
  {
   "cell_type": "markdown",
   "metadata": {},
   "source": [
    "# Лабораторная работа № 8.1\n",
    "## Определение постоянных Стефана-Больцмана и Планка из анализа теплового излучения накаленного тела\n",
    "При помощи модели абсолютно чёрного тела (АЧТ) проводятся измерения температуры оптическим пирометром с исчезающей нитью и термопарой, исследуется излучение накаленных тел с различной испускательной способностью, определяются постоянные Планка и Стефана-Больцмана"
   ]
  },
  {
   "cell_type": "code",
   "execution_count": 1,
   "metadata": {
    "collapsed": true
   },
   "outputs": [],
   "source": [
    "# -*- coding: utf-8 -*-\n",
    "import matplotlib.pyplot as plt\n",
    "%matplotlib inline\n",
    "import numpy as np\n",
    "import pandas as pd\n",
    "import scipy.interpolate as scpint\n",
    "import scipy.odr as odr"
   ]
  },
  {
   "cell_type": "markdown",
   "metadata": {},
   "source": [
    "### Изучение работы оптического пирометра\n",
    "Необходимо убедиться, что значения температуры, получаемые обоими способами (с помощью пирометра и термопары), мало отличаются друг от друга (не более 5%) и, следовательно, оптический пирометр работает исправно.\n",
    "\n",
    "* $T_{пир} = 1105°С$\n",
    "* $T_{комн}=23°С$\n",
    "* $T_{терм}=1169°С$\n",
    "* $\\Delta T = 64°С$ – примерно 5% \n",
    "\n",
    "Делаем вывод, что прибор работает корректно."
   ]
  },
  {
   "cell_type": "markdown",
   "metadata": {},
   "source": [
    "### Измерение яркостной температуры накаленных тел\n",
    "Этот эксперимент должен показать, что различные тела, имеющие одинаковую $T_{терм}$, имеют разные $T_{ярк}$."
   ]
  },
  {
   "cell_type": "markdown",
   "metadata": {},
   "source": [
    "* $T_{трубки}=749°С$ (материал: керамика)\n",
    "* $T_{правое кольцо}=700°С$ (материал: какой-то металл)\n",
    "* $T_{левое кольцо}=714°С$ (материал: какой-то металл)"
   ]
  },
  {
   "cell_type": "markdown",
   "metadata": {},
   "source": [
    "**Вывод (почему $T_{ярк}$ разные):** яркостная температура тела характеризует интенсивность излучения. Так как исследуемые тела не являются АЧТ, то их яркостная температура тела меньше термодинамической, поскольку любое не АЧТ излучает меньше, чем АЧТ при той же термодинамической температуре. И в связи с тем, что материалы разные, то поправка в нахождении $T_{ярк}$ зависит от материала."
   ]
  },
  {
   "cell_type": "markdown",
   "metadata": {},
   "source": [
    "### Проверка закона Стефана-Больцмана\n",
    "Загрузим полученные данные"
   ]
  },
  {
   "cell_type": "code",
   "execution_count": 2,
   "metadata": {
    "collapsed": false
   },
   "outputs": [
    {
     "data": {
      "text/html": [
       "<div>\n",
       "<table border=\"1\" class=\"dataframe\">\n",
       "  <thead>\n",
       "    <tr style=\"text-align: right;\">\n",
       "      <th></th>\n",
       "      <th>Tярк, °С</th>\n",
       "      <th>I, А</th>\n",
       "      <th>U, В</th>\n",
       "    </tr>\n",
       "  </thead>\n",
       "  <tbody>\n",
       "    <tr>\n",
       "      <th>0</th>\n",
       "      <td>930</td>\n",
       "      <td>0.721</td>\n",
       "      <td>3.33</td>\n",
       "    </tr>\n",
       "    <tr>\n",
       "      <th>1</th>\n",
       "      <td>990</td>\n",
       "      <td>0.806</td>\n",
       "      <td>4.24</td>\n",
       "    </tr>\n",
       "    <tr>\n",
       "      <th>2</th>\n",
       "      <td>1080</td>\n",
       "      <td>0.905</td>\n",
       "      <td>5.40</td>\n",
       "    </tr>\n",
       "    <tr>\n",
       "      <th>3</th>\n",
       "      <td>1175</td>\n",
       "      <td>1.035</td>\n",
       "      <td>7.07</td>\n",
       "    </tr>\n",
       "    <tr>\n",
       "      <th>4</th>\n",
       "      <td>1260</td>\n",
       "      <td>1.103</td>\n",
       "      <td>8.01</td>\n",
       "    </tr>\n",
       "    <tr>\n",
       "      <th>5</th>\n",
       "      <td>1450</td>\n",
       "      <td>1.100</td>\n",
       "      <td>8.01</td>\n",
       "    </tr>\n",
       "  </tbody>\n",
       "</table>\n",
       "</div>"
      ],
      "text/plain": [
       "   Tярк, °С   I, А  U, В\n",
       "0       930  0.721  3.33\n",
       "1       990  0.806  4.24\n",
       "2      1080  0.905  5.40\n",
       "3      1175  1.035  7.07\n",
       "4      1260  1.103  8.01\n",
       "5      1450  1.100  8.01"
      ]
     },
     "execution_count": 2,
     "metadata": {},
     "output_type": "execute_result"
    }
   ],
   "source": [
    "dataC = pd.read_csv(\"data1.csv\")\n",
    "dataC"
   ]
  },
  {
   "cell_type": "markdown",
   "metadata": {},
   "source": [
    "Получим яркостную температуру в Кельвинах."
   ]
  },
  {
   "cell_type": "code",
   "execution_count": 3,
   "metadata": {
    "collapsed": false
   },
   "outputs": [
    {
     "data": {
      "text/html": [
       "<div>\n",
       "<table border=\"1\" class=\"dataframe\">\n",
       "  <thead>\n",
       "    <tr style=\"text-align: right;\">\n",
       "      <th></th>\n",
       "      <th>Tярк(K)</th>\n",
       "    </tr>\n",
       "  </thead>\n",
       "  <tbody>\n",
       "    <tr>\n",
       "      <th>0</th>\n",
       "      <td>1203</td>\n",
       "    </tr>\n",
       "    <tr>\n",
       "      <th>1</th>\n",
       "      <td>1263</td>\n",
       "    </tr>\n",
       "    <tr>\n",
       "      <th>2</th>\n",
       "      <td>1353</td>\n",
       "    </tr>\n",
       "    <tr>\n",
       "      <th>3</th>\n",
       "      <td>1448</td>\n",
       "    </tr>\n",
       "    <tr>\n",
       "      <th>4</th>\n",
       "      <td>1533</td>\n",
       "    </tr>\n",
       "    <tr>\n",
       "      <th>5</th>\n",
       "      <td>1723</td>\n",
       "    </tr>\n",
       "  </tbody>\n",
       "</table>\n",
       "</div>"
      ],
      "text/plain": [
       "   Tярк(K)\n",
       "0     1203\n",
       "1     1263\n",
       "2     1353\n",
       "3     1448\n",
       "4     1533\n",
       "5     1723"
      ]
     },
     "execution_count": 3,
     "metadata": {},
     "output_type": "execute_result"
    }
   ],
   "source": [
    "dataK = pd.DataFrame(dataC.values.T[0] + 273)\n",
    "dataK.columns =['Tярк(K)']\n",
    "dataK"
   ]
  },
  {
   "cell_type": "markdown",
   "metadata": {},
   "source": [
    "C помощью графика получим термодинамическую температуру"
   ]
  },
  {
   "cell_type": "code",
   "execution_count": 5,
   "metadata": {
    "collapsed": false
   },
   "outputs": [
    {
     "data": {
      "text/html": [
       "<div>\n",
       "<table border=\"1\" class=\"dataframe\">\n",
       "  <thead>\n",
       "    <tr style=\"text-align: right;\">\n",
       "      <th></th>\n",
       "      <th>Tярк(K)</th>\n",
       "      <th>Tтерм(K)</th>\n",
       "    </tr>\n",
       "  </thead>\n",
       "  <tbody>\n",
       "    <tr>\n",
       "      <th>0</th>\n",
       "      <td>1203</td>\n",
       "      <td>1250</td>\n",
       "    </tr>\n",
       "    <tr>\n",
       "      <th>1</th>\n",
       "      <td>1263</td>\n",
       "      <td>1300</td>\n",
       "    </tr>\n",
       "    <tr>\n",
       "      <th>2</th>\n",
       "      <td>1353</td>\n",
       "      <td>1390</td>\n",
       "    </tr>\n",
       "    <tr>\n",
       "      <th>3</th>\n",
       "      <td>1448</td>\n",
       "      <td>1500</td>\n",
       "    </tr>\n",
       "    <tr>\n",
       "      <th>4</th>\n",
       "      <td>1533</td>\n",
       "      <td>1580</td>\n",
       "    </tr>\n",
       "    <tr>\n",
       "      <th>5</th>\n",
       "      <td>1723</td>\n",
       "      <td>1760</td>\n",
       "    </tr>\n",
       "  </tbody>\n",
       "</table>\n",
       "</div>"
      ],
      "text/plain": [
       "   Tярк(K)  Tтерм(K)\n",
       "0     1203      1250\n",
       "1     1263      1300\n",
       "2     1353      1390\n",
       "3     1448      1500\n",
       "4     1533      1580\n",
       "5     1723      1760"
      ]
     },
     "execution_count": 5,
     "metadata": {},
     "output_type": "execute_result"
    }
   ],
   "source": [
    "dataK['Tтерм(K)'] = pd.Series([\n",
    "        1250,\n",
    "        1300,\n",
    "        1390,\n",
    "        1500,\n",
    "        1580,\n",
    "        1760\n",
    "    ])\n",
    "dataK"
   ]
  },
  {
   "cell_type": "markdown",
   "metadata": {},
   "source": [
    "Переведём термодинамическую температуру из Кельвинов в Цельсии и добавим к исходным данным"
   ]
  },
  {
   "cell_type": "code",
   "execution_count": 6,
   "metadata": {
    "collapsed": false
   },
   "outputs": [
    {
     "data": {
      "text/html": [
       "<div>\n",
       "<table border=\"1\" class=\"dataframe\">\n",
       "  <thead>\n",
       "    <tr style=\"text-align: right;\">\n",
       "      <th></th>\n",
       "      <th>Tярк, °С</th>\n",
       "      <th>I, А</th>\n",
       "      <th>U, В</th>\n",
       "      <th>Tтерм(°C)</th>\n",
       "    </tr>\n",
       "  </thead>\n",
       "  <tbody>\n",
       "    <tr>\n",
       "      <th>0</th>\n",
       "      <td>930</td>\n",
       "      <td>0.721</td>\n",
       "      <td>3.33</td>\n",
       "      <td>977</td>\n",
       "    </tr>\n",
       "    <tr>\n",
       "      <th>1</th>\n",
       "      <td>990</td>\n",
       "      <td>0.806</td>\n",
       "      <td>4.24</td>\n",
       "      <td>1027</td>\n",
       "    </tr>\n",
       "    <tr>\n",
       "      <th>2</th>\n",
       "      <td>1080</td>\n",
       "      <td>0.905</td>\n",
       "      <td>5.40</td>\n",
       "      <td>1117</td>\n",
       "    </tr>\n",
       "    <tr>\n",
       "      <th>3</th>\n",
       "      <td>1175</td>\n",
       "      <td>1.035</td>\n",
       "      <td>7.07</td>\n",
       "      <td>1227</td>\n",
       "    </tr>\n",
       "    <tr>\n",
       "      <th>4</th>\n",
       "      <td>1260</td>\n",
       "      <td>1.103</td>\n",
       "      <td>8.01</td>\n",
       "      <td>1307</td>\n",
       "    </tr>\n",
       "    <tr>\n",
       "      <th>5</th>\n",
       "      <td>1450</td>\n",
       "      <td>1.100</td>\n",
       "      <td>8.01</td>\n",
       "      <td>1487</td>\n",
       "    </tr>\n",
       "  </tbody>\n",
       "</table>\n",
       "</div>"
      ],
      "text/plain": [
       "   Tярк, °С   I, А  U, В  Tтерм(°C)\n",
       "0       930  0.721  3.33        977\n",
       "1       990  0.806  4.24       1027\n",
       "2      1080  0.905  5.40       1117\n",
       "3      1175  1.035  7.07       1227\n",
       "4      1260  1.103  8.01       1307\n",
       "5      1450  1.100  8.01       1487"
      ]
     },
     "execution_count": 6,
     "metadata": {},
     "output_type": "execute_result"
    }
   ],
   "source": [
    "dataC['Tтерм(°C)'] = dataK['Tтерм(K)'] - 273\n",
    "dataC"
   ]
  },
  {
   "cell_type": "markdown",
   "metadata": {},
   "source": [
    "Добавим сюда также потребляемую мощность: $W = U \\cdot I$(Вт)"
   ]
  },
  {
   "cell_type": "code",
   "execution_count": 7,
   "metadata": {
    "collapsed": false
   },
   "outputs": [
    {
     "data": {
      "text/html": [
       "<div>\n",
       "<table border=\"1\" class=\"dataframe\">\n",
       "  <thead>\n",
       "    <tr style=\"text-align: right;\">\n",
       "      <th></th>\n",
       "      <th>Tярк, °С</th>\n",
       "      <th>I, А</th>\n",
       "      <th>U, В</th>\n",
       "      <th>Tтерм(°C)</th>\n",
       "      <th>W, Вт</th>\n",
       "    </tr>\n",
       "  </thead>\n",
       "  <tbody>\n",
       "    <tr>\n",
       "      <th>0</th>\n",
       "      <td>930</td>\n",
       "      <td>0.721</td>\n",
       "      <td>3.33</td>\n",
       "      <td>977</td>\n",
       "      <td>2.401</td>\n",
       "    </tr>\n",
       "    <tr>\n",
       "      <th>1</th>\n",
       "      <td>990</td>\n",
       "      <td>0.806</td>\n",
       "      <td>4.24</td>\n",
       "      <td>1027</td>\n",
       "      <td>3.417</td>\n",
       "    </tr>\n",
       "    <tr>\n",
       "      <th>2</th>\n",
       "      <td>1080</td>\n",
       "      <td>0.905</td>\n",
       "      <td>5.40</td>\n",
       "      <td>1117</td>\n",
       "      <td>4.887</td>\n",
       "    </tr>\n",
       "    <tr>\n",
       "      <th>3</th>\n",
       "      <td>1175</td>\n",
       "      <td>1.035</td>\n",
       "      <td>7.07</td>\n",
       "      <td>1227</td>\n",
       "      <td>7.317</td>\n",
       "    </tr>\n",
       "    <tr>\n",
       "      <th>4</th>\n",
       "      <td>1260</td>\n",
       "      <td>1.103</td>\n",
       "      <td>8.01</td>\n",
       "      <td>1307</td>\n",
       "      <td>8.835</td>\n",
       "    </tr>\n",
       "    <tr>\n",
       "      <th>5</th>\n",
       "      <td>1450</td>\n",
       "      <td>1.100</td>\n",
       "      <td>8.01</td>\n",
       "      <td>1487</td>\n",
       "      <td>8.811</td>\n",
       "    </tr>\n",
       "  </tbody>\n",
       "</table>\n",
       "</div>"
      ],
      "text/plain": [
       "   Tярк, °С   I, А  U, В  Tтерм(°C)  W, Вт\n",
       "0       930  0.721  3.33        977  2.401\n",
       "1       990  0.806  4.24       1027  3.417\n",
       "2      1080  0.905  5.40       1117  4.887\n",
       "3      1175  1.035  7.07       1227  7.317\n",
       "4      1260  1.103  8.01       1307  8.835\n",
       "5      1450  1.100  8.01       1487  8.811"
      ]
     },
     "execution_count": 7,
     "metadata": {},
     "output_type": "execute_result"
    }
   ],
   "source": [
    "dataC['W, Вт'] = np.round(dataC['U, В']*dataC['I, А'],3)\n",
    "dataC"
   ]
  },
  {
   "cell_type": "code",
   "execution_count": 8,
   "metadata": {
    "collapsed": false
   },
   "outputs": [],
   "source": [
    "# Функция для регрессии Деминга: https://docs.scipy.org/doc/scipy/reference/odr.html\n",
    "def f(B, x):\n",
    "    return B[0]*x**2 +B[1]*x+B[2]\n",
    "\n",
    "def g(B, x):\n",
    "    return B[0]*x + B[1]\n",
    "\n",
    "square = odr.Model(f)\n",
    "linear = odr.Model(g)"
   ]
  },
  {
   "cell_type": "code",
   "execution_count": 9,
   "metadata": {
    "collapsed": false
   },
   "outputs": [
    {
     "data": {
      "image/png": "[encoded data removed]",
      "text/plain": [
       "<matplotlib.figure.Figure at 0x7fb663f5aad0>"
      ]
     },
     "metadata": {},
     "output_type": "display_data"
    }
   ],
   "source": [
    "plt.figure(num=None, figsize=(12, 6), dpi=80, facecolor='w', edgecolor='k')\n",
    "plt.subplot()\n",
    "\n",
    "\n",
    "y = dataC['W, Вт'].values\n",
    "yerr = [1 for i in range(len(y))]\n",
    "x = dataC['Tтерм(°C)'].values\n",
    "xerr = [1 for i in range(len(x))]\n",
    "\n",
    "mydata = odr.RealData(x, y, sx=xerr, sy=yerr)\n",
    "myodr = odr.ODR(mydata, square, beta0=[1.,2., 3.])\n",
    "myoutput = myodr.run()\n",
    "\n",
    "x_new = np.linspace(x[0], x[-1], 50)\n",
    "y_new = square.fcn(myoutput.beta, x_new)\n",
    "\n",
    "plt.xlabel(\"$T, \\circ C$\")\n",
    "plt.ylabel(\"$W, W$\")\n",
    "plt.title(\"$W = f_{2}(T)$\")\n",
    "plt.grid(True)\n",
    "\n",
    "\n",
    "plt.errorbar(x, y, xerr=xerr, yerr=yerr, fmt='k.',  color='r')\n",
    "plt.plot(x_new, y_new, 'k',  color='b')\n",
    "plt.text(1100,8, r'$W = ax^2 + bx + c$')\n",
    "plt.text(1100,7, r'$ a= %.6f \\pm %.6f$'%(round(myoutput.beta[0],6), round(myoutput.sd_beta[0],6)))\n",
    "plt.text(1100,6, r'$ b= %.6f \\pm %.6f$'%(round(myoutput.beta[1],6), round(myoutput.sd_beta[1],6)))\n",
    "plt.text(1100,5, r'$ c= %.6f \\pm %.6f$'%(round(myoutput.beta[2],6), round(myoutput.sd_beta[2],6)))\n",
    "plt.show()"
   ]
  },
  {
   "cell_type": "markdown",
   "metadata": {},
   "source": [
    "Построим график\n",
    "$$lnW = ln(\\varepsilon_{T}B) + n lnT$$\n",
    "$$B = S \\cdot \\sigma$$\n",
    "И найдём из него n."
   ]
  },
  {
   "cell_type": "code",
   "execution_count": 10,
   "metadata": {
    "collapsed": true
   },
   "outputs": [],
   "source": [
    "B = 2.0E-12"
   ]
  },
  {
   "cell_type": "markdown",
   "metadata": {},
   "source": [
    "По таблице поправочных коэффициентов построим зависимость $\\varepsilon_{T}$ от $T, K$."
   ]
  },
  {
   "cell_type": "code",
   "execution_count": 11,
   "metadata": {
    "collapsed": false
   },
   "outputs": [
    {
     "data": {
      "text/html": [
       "<div>\n",
       "<table border=\"1\" class=\"dataframe\">\n",
       "  <thead>\n",
       "    <tr style=\"text-align: right;\">\n",
       "      <th></th>\n",
       "      <th>eps</th>\n",
       "      <th>T</th>\n",
       "    </tr>\n",
       "  </thead>\n",
       "  <tbody>\n",
       "    <tr>\n",
       "      <th>0</th>\n",
       "      <td>0.067</td>\n",
       "      <td>800</td>\n",
       "    </tr>\n",
       "    <tr>\n",
       "      <th>1</th>\n",
       "      <td>0.081</td>\n",
       "      <td>900</td>\n",
       "    </tr>\n",
       "    <tr>\n",
       "      <th>2</th>\n",
       "      <td>0.105</td>\n",
       "      <td>1000</td>\n",
       "    </tr>\n",
       "    <tr>\n",
       "      <th>3</th>\n",
       "      <td>0.119</td>\n",
       "      <td>1100</td>\n",
       "    </tr>\n",
       "    <tr>\n",
       "      <th>4</th>\n",
       "      <td>0.133</td>\n",
       "      <td>1200</td>\n",
       "    </tr>\n",
       "    <tr>\n",
       "      <th>5</th>\n",
       "      <td>0.144</td>\n",
       "      <td>1300</td>\n",
       "    </tr>\n",
       "    <tr>\n",
       "      <th>6</th>\n",
       "      <td>0.164</td>\n",
       "      <td>1400</td>\n",
       "    </tr>\n",
       "    <tr>\n",
       "      <th>7</th>\n",
       "      <td>0.179</td>\n",
       "      <td>1500</td>\n",
       "    </tr>\n",
       "    <tr>\n",
       "      <th>8</th>\n",
       "      <td>0.195</td>\n",
       "      <td>1600</td>\n",
       "    </tr>\n",
       "    <tr>\n",
       "      <th>9</th>\n",
       "      <td>0.209</td>\n",
       "      <td>1700</td>\n",
       "    </tr>\n",
       "    <tr>\n",
       "      <th>10</th>\n",
       "      <td>0.223</td>\n",
       "      <td>1800</td>\n",
       "    </tr>\n",
       "    <tr>\n",
       "      <th>11</th>\n",
       "      <td>0.236</td>\n",
       "      <td>1900</td>\n",
       "    </tr>\n",
       "    <tr>\n",
       "      <th>12</th>\n",
       "      <td>0.249</td>\n",
       "      <td>2000</td>\n",
       "    </tr>\n",
       "  </tbody>\n",
       "</table>\n",
       "</div>"
      ],
      "text/plain": [
       "      eps     T\n",
       "0   0.067   800\n",
       "1   0.081   900\n",
       "2   0.105  1000\n",
       "3   0.119  1100\n",
       "4   0.133  1200\n",
       "5   0.144  1300\n",
       "6   0.164  1400\n",
       "7   0.179  1500\n",
       "8   0.195  1600\n",
       "9   0.209  1700\n",
       "10  0.223  1800\n",
       "11  0.236  1900\n",
       "12  0.249  2000"
      ]
     },
     "execution_count": 11,
     "metadata": {},
     "output_type": "execute_result"
    }
   ],
   "source": [
    "correction = pd.DataFrame()\n",
    "correction['eps'] = pd.Series([\n",
    "        0.067,\n",
    "        0.081,\n",
    "        0.105,\n",
    "        0.119,\n",
    "        0.133,\n",
    "        0.144,\n",
    "        0.164,\n",
    "        0.179,\n",
    "        0.195,\n",
    "        0.209,\n",
    "        0.223,\n",
    "        0.236,\n",
    "        0.249\n",
    "    ])\n",
    "correction['T'] = pd.Series([\n",
    "        800,\n",
    "        900,\n",
    "        1000,\n",
    "        1100,\n",
    "        1200,\n",
    "        1300,\n",
    "        1400,\n",
    "        1500,\n",
    "        1600,\n",
    "        1700,\n",
    "        1800,\n",
    "        1900,\n",
    "        2000\n",
    "    ])\n",
    "correction"
   ]
  },
  {
   "cell_type": "code",
   "execution_count": 1,
   "metadata": {
    "collapsed": false
   },
   "outputs": [
    {
     "ename": "NameError",
     "evalue": "name 'plt' is not defined",
     "output_type": "error",
     "traceback": [
      "\u001b[1;31m---------------------------------------------------------------------------\u001b[0m",
      "\u001b[1;31mNameError\u001b[0m                                 Traceback (most recent call last)",
      "\u001b[1;32m<ipython-input-1-0ab6ecbb39d2>\u001b[0m in \u001b[0;36m<module>\u001b[1;34m()\u001b[0m\n\u001b[1;32m----> 1\u001b[1;33m \u001b[0mplt\u001b[0m\u001b[1;33m.\u001b[0m\u001b[0mfigure\u001b[0m\u001b[1;33m(\u001b[0m\u001b[0mnum\u001b[0m\u001b[1;33m=\u001b[0m\u001b[0mNone\u001b[0m\u001b[1;33m,\u001b[0m \u001b[0mfigsize\u001b[0m\u001b[1;33m=\u001b[0m\u001b[1;33m(\u001b[0m\u001b[1;36m12\u001b[0m\u001b[1;33m,\u001b[0m \u001b[1;36m6\u001b[0m\u001b[1;33m)\u001b[0m\u001b[1;33m,\u001b[0m \u001b[0mdpi\u001b[0m\u001b[1;33m=\u001b[0m\u001b[1;36m80\u001b[0m\u001b[1;33m,\u001b[0m \u001b[0mfacecolor\u001b[0m\u001b[1;33m=\u001b[0m\u001b[1;34m'w'\u001b[0m\u001b[1;33m,\u001b[0m \u001b[0medgecolor\u001b[0m\u001b[1;33m=\u001b[0m\u001b[1;34m'k'\u001b[0m\u001b[1;33m)\u001b[0m\u001b[1;33m\u001b[0m\u001b[0m\n\u001b[0m\u001b[0;32m      2\u001b[0m \u001b[0mplt\u001b[0m\u001b[1;33m.\u001b[0m\u001b[0msubplot\u001b[0m\u001b[1;33m(\u001b[0m\u001b[1;33m)\u001b[0m\u001b[1;33m\u001b[0m\u001b[0m\n\u001b[0;32m      3\u001b[0m \u001b[1;33m\u001b[0m\u001b[0m\n\u001b[0;32m      4\u001b[0m \u001b[1;33m\u001b[0m\u001b[0m\n\u001b[0;32m      5\u001b[0m \u001b[0my\u001b[0m \u001b[1;33m=\u001b[0m \u001b[0mcorrection\u001b[0m\u001b[1;33m[\u001b[0m\u001b[1;34m'eps'\u001b[0m\u001b[1;33m]\u001b[0m\u001b[1;33m.\u001b[0m\u001b[0mvalues\u001b[0m\u001b[1;33m\u001b[0m\u001b[0m\n",
      "\u001b[1;31mNameError\u001b[0m: name 'plt' is not defined"
     ]
    }
   ],
   "source": [
    "plt.figure(num=None, figsize=(12, 6), dpi=80, facecolor='w', edgecolor='k')\n",
    "plt.subplot()\n",
    "\n",
    "\n",
    "y = correction['eps'].values\n",
    "yerr = [0.0005 for i in range(len(correction['eps']))]\n",
    "x = correction['T'].values\n",
    "xerr = [0.5 for i in range(len(correction['eps']))]\n",
    "\n",
    "mydata = odr.RealData(x, y, sx=xerr, sy=yerr)\n",
    "myodr = odr.ODR(mydata, linear, beta0=[1.,2.])\n",
    "myoutput = myodr.run()\n",
    "\n",
    "x_new = np.linspace(x[0], x[-1], 50)\n",
    "y_new = linear.fcn(myoutput.beta, x_new)\n",
    "\n",
    "plt.xlabel(\"$T^{\\circ}C$\")\n",
    "plt.ylabel(\"$E_{T}$\")\n",
    "plt.title(\"Dependence of the correction coef from T\")\n",
    "plt.grid(True)\n",
    "\n",
    "\n",
    "plt.errorbar(x, y, xerr=xerr, yerr=yerr, fmt='k.',  color='r')\n",
    "plt.plot(x_new, y_new, 'k',  color='b')\n",
    "plt.show()"
   ]
  },
  {
   "cell_type": "markdown",
   "metadata": {},
   "source": [
    "Получим столбцы $lnW - ln(\\varepsilon_{T}B)$ и $ln(T)$"
   ]
  },
  {
   "cell_type": "code",
   "execution_count": 13,
   "metadata": {
    "collapsed": false
   },
   "outputs": [],
   "source": [
    "E = linear.fcn(myoutput.beta, dataK['Tтерм(K)'])"
   ]
  },
  {
   "cell_type": "code",
   "execution_count": 14,
   "metadata": {
    "collapsed": false
   },
   "outputs": [
    {
     "data": {
      "text/html": [
       "<div>\n",
       "<table border=\"1\" class=\"dataframe\">\n",
       "  <thead>\n",
       "    <tr style=\"text-align: right;\">\n",
       "      <th></th>\n",
       "      <th>lnW-ln(EB)</th>\n",
       "      <th>lnT</th>\n",
       "    </tr>\n",
       "  </thead>\n",
       "  <tbody>\n",
       "    <tr>\n",
       "      <th>0</th>\n",
       "      <td>29.786813</td>\n",
       "      <td>7.130899</td>\n",
       "    </tr>\n",
       "    <tr>\n",
       "      <th>1</th>\n",
       "      <td>30.086436</td>\n",
       "      <td>7.170120</td>\n",
       "    </tr>\n",
       "    <tr>\n",
       "      <th>2</th>\n",
       "      <td>30.355004</td>\n",
       "      <td>7.237059</td>\n",
       "    </tr>\n",
       "    <tr>\n",
       "      <th>3</th>\n",
       "      <td>30.659365</td>\n",
       "      <td>7.313220</td>\n",
       "    </tr>\n",
       "    <tr>\n",
       "      <th>4</th>\n",
       "      <td>30.781421</td>\n",
       "      <td>7.365180</td>\n",
       "    </tr>\n",
       "    <tr>\n",
       "      <th>5</th>\n",
       "      <td>30.643573</td>\n",
       "      <td>7.473069</td>\n",
       "    </tr>\n",
       "  </tbody>\n",
       "</table>\n",
       "</div>"
      ],
      "text/plain": [
       "   lnW-ln(EB)       lnT\n",
       "0   29.786813  7.130899\n",
       "1   30.086436  7.170120\n",
       "2   30.355004  7.237059\n",
       "3   30.659365  7.313220\n",
       "4   30.781421  7.365180\n",
       "5   30.643573  7.473069"
      ]
     },
     "execution_count": 14,
     "metadata": {},
     "output_type": "execute_result"
    }
   ],
   "source": [
    "dataln = pd.DataFrame()\n",
    "dataln['lnW-ln(EB)'] = pd.Series(np.log(dataC['W, Вт']) - np.log(E*B))\n",
    "dataln['lnT'] = pd.Series(np.log(dataK['Tтерм(K)']))\n",
    "dataln"
   ]
  },
  {
   "cell_type": "code",
   "execution_count": 15,
   "metadata": {
    "collapsed": true
   },
   "outputs": [],
   "source": [
    "linearStefanBolcman = odr.Model(g)"
   ]
  },
  {
   "cell_type": "code",
   "execution_count": 22,
   "metadata": {
    "collapsed": false
   },
   "outputs": [
    {
     "data": {
      "image/png": "[encoded data removed]",
      "text/plain": [
       "<matplotlib.figure.Figure at 0x7fb663c82bd0>"
      ]
     },
     "metadata": {},
     "output_type": "display_data"
    }
   ],
   "source": [
    "plt.figure(num=None, figsize=(12, 6), dpi=80, facecolor='w', edgecolor='k')\n",
    "plt.subplot()\n",
    "\n",
    "Werr = dataC['W, Вт']*np.sqrt((0.005/dataC['U, В'])**2 + (0.0005/dataC['I, А'])**2)\n",
    "y = dataln['lnW-ln(EB)'].values \n",
    "yerr = 1/y * Werr\n",
    "x = dataln['lnT'].values\n",
    "Terr = np.sqrt([0.5**2 for i in range(len(x))])\n",
    "xerr = 1/x * Terr\n",
    "\n",
    "mydata = odr.RealData(x, y, sx=xerr, sy=yerr)\n",
    "myodr = odr.ODR(mydata, linearStefanBolcman, beta0=[1.,2.])\n",
    "myoutput = myodr.run()\n",
    "\n",
    "x_new = np.linspace(x[0]-0.1, x[-1], 50)\n",
    "y_new = linearStefanBolcman.fcn(myoutput.beta, x_new)\n",
    "\n",
    "plt.xlabel(\"$lnT$\")\n",
    "plt.ylabel(\"$lnW - ln(E_{T}B)$\")\n",
    "plt.title(\"$lnW - ln(E_{T}B) = nlnT$\")\n",
    "plt.grid(True)\n",
    "\n",
    "\n",
    "plt.errorbar(x, y, xerr=xerr, yerr=yerr, fmt='k.',  color='r')\n",
    "plt.plot(x_new, y_new, 'k',  color='b')\n",
    "plt.text(7.2,30.0, r'$n = %.2f \\pm %.2f$'%(round(myoutput.beta[0],2), round(myoutput.sd_beta[0],2)))\n",
    "plt.show()"
   ]
  },
  {
   "cell_type": "markdown",
   "metadata": {},
   "source": [
    "Найдём величину постоянной Стефана-Больцмана по формуле\n",
    "$$\\sigma = \\frac{W}{\\varepsilon_{T}ST^4}$$\n",
    "при температуре больше 1700К"
   ]
  },
  {
   "cell_type": "code",
   "execution_count": 25,
   "metadata": {
    "collapsed": false
   },
   "outputs": [
    {
     "data": {
      "text/html": [
       "<div>\n",
       "<table border=\"1\" class=\"dataframe\">\n",
       "  <thead>\n",
       "    <tr style=\"text-align: right;\">\n",
       "      <th></th>\n",
       "      <th>T, K</th>\n",
       "      <th>sigma</th>\n",
       "      <th>h</th>\n",
       "    </tr>\n",
       "  </thead>\n",
       "  <tbody>\n",
       "    <tr>\n",
       "      <th>5</th>\n",
       "      <td>1760</td>\n",
       "      <td>1.177638e-07</td>\n",
       "      <td>5.187795e-34</td>\n",
       "    </tr>\n",
       "  </tbody>\n",
       "</table>\n",
       "</div>"
      ],
      "text/plain": [
       "   T, K         sigma             h\n",
       "5  1760  1.177638e-07  5.187795e-34"
      ]
     },
     "execution_count": 25,
     "metadata": {},
     "output_type": "execute_result"
    }
   ],
   "source": [
    "stefBolcHighTemp = pd.DataFrame()\n",
    "stefBolcHighTemp['T, K'] = dataK['Tтерм(K)'][5:]\n",
    "stefBolcHighTemp['sigma'] = pd.Series(dataC['W, Вт'][5:] / (E[5:]*0.36e-04*dataK['Tтерм(K)'][5:]**4))\n",
    "stefBolcHighTemp['h'] = pd.Series((((2*(3.14159**5)*((1.38e-23)**4))/(15*((3e08)**2)*stefBolcHighTemp['sigma']))**(1.0/3)))\n",
    "stefBolcHighTemp"
   ]
  },
  {
   "cell_type": "code",
   "execution_count": 54,
   "metadata": {
    "collapsed": false
   },
   "outputs": [
    {
     "name": "stdout",
     "output_type": "stream",
     "text": [
      "sigma= 1.17763751131e-07\n",
      "h=5.18779520919e-34 ± 0.0 Дж*с\n"
     ]
    }
   ],
   "source": [
    "sigmaerr = stefBolcHighTemp['sigma'][5] * np.sqrt((Werr[5]/dataC['W, Вт'][5])**2 + ((dataK['Tтерм(K)'][5]**4)*4*(Terr[5]/dataK['Tтерм(K)'][5]))**2)\n",
    "print \"sigma= \" + str(stefBolcHighTemp['sigma'][5])\n",
    "print \"h=\" + str(np.average(stefBolcHighTemp['h'])) + \" ± \" + str(np.std(stefBolcHighTemp['h'])) + \" Дж*с\""
   ]
  },
  {
   "cell_type": "markdown",
   "metadata": {},
   "source": [
    "### Измерение \"яркостной температуры\" неоновой лампочки\n",
    "Направить пирометр на неоновую лампочку. Измерить пирометром \"яркостную температуру\" неоновой лампы."
   ]
  },
  {
   "cell_type": "code",
   "execution_count": 23,
   "metadata": {
    "collapsed": false
   },
   "outputs": [
    {
     "name": "stdout",
     "output_type": "stream",
     "text": [
      "841.5\n",
      "3.2\n"
     ]
    }
   ],
   "source": [
    "neon = pd.DataFrame()\n",
    "# в градусах Цельсия\n",
    "neon['Tярк'] = pd.Series([\n",
    "        843,\n",
    "        839,\n",
    "        846,\n",
    "        838\n",
    "    ])\n",
    "print np.average(neon['Tярк'])\n",
    "print round(np.std(neon['Tярк']),1)"
   ]
  },
  {
   "cell_type": "markdown",
   "metadata": {},
   "source": [
    "**Вывод(как можно объяснить, что на ощупь температура оказалась малой):**\n",
    "\n"
   ]
  },
  {
   "cell_type": "markdown",
   "metadata": {},
   "source": [
    "### Вывод\n",
    "Используя модели абсолютно чёрного тела (АЧТ) были произведены измерения температуры оптическим пирометром с исчезающей нитью и термопарой, исследовалось излучение накаленных тел с различной испускательной способностью (керамической трубки и двух металлических колец). На основе этого наблюдения был сделан вывод почему $T_{ярк}$ этих тел различны ($T_{ярк}$ зависит от материала, $T_{ярк}$ $ < $ $T_{терм}$ для не АЧТ). На полученных данных Таблицы 1 проверен закон Стефана-Больцмана (коэффициент при T n= , что соответствует зависимости $W = \\varepsilon S \\sigma T^4$). Определены постоянная Планка $h=$  и Стефана-Больцмана $\\sigma=$ ."
   ]
  }
 ],
 "metadata": {
  "kernelspec": {
   "display_name": "Python 2",
   "language": "python",
   "name": "python2"
  },
  "language_info": {
   "codemirror_mode": {
    "name": "ipython",
    "version": 2
   },
   "file_extension": ".py",
   "mimetype": "text/x-python",
   "name": "python",
   "nbconvert_exporter": "python",
   "pygments_lexer": "ipython2",
   "version": "2.7.12"
  }
 },
 "nbformat": 4,
 "nbformat_minor": 1
}
