{
 "cells": [
  {
   "cell_type": "markdown",
   "metadata": {},
   "source": [
    "# Лабораторная работа № 1.2\n",
    "## Исследование эффекта Комптона\n",
    "С помощью сцинтилляционного спектрометра исследуется энергитический спектр $\\gamma$-квантов, рассеянных на графите. Определяется энергия рассеянных $\\gamma$-квантов в зависимости от угла рассеяния, а также энергия покоя частиц, на которых проходит комптоновское рассеяние."
   ]
  },
  {
   "cell_type": "code",
   "execution_count": 4,
   "metadata": {
    "collapsed": true
   },
   "outputs": [],
   "source": [
    "# -*- coding: utf-8 -*-\n",
    "import matplotlib.pyplot as plt\n",
    "%matplotlib inline\n",
    "import numpy as np\n",
    "import pandas as pd\n",
    "import scipy.interpolate as scpint"
   ]
  },
  {
   "cell_type": "markdown",
   "metadata": {},
   "source": [
    "Подгрузим данные"
   ]
  },
  {
   "cell_type": "code",
   "execution_count": 5,
   "metadata": {
    "collapsed": false
   },
   "outputs": [
    {
     "data": {
      "text/html": [
       "<div>\n",
       "<table border=\"1\" class=\"dataframe\">\n",
       "  <thead>\n",
       "    <tr style=\"text-align: right;\">\n",
       "      <th></th>\n",
       "      <th>$\\theta$, °</th>\n",
       "      <th>Channel</th>\n",
       "      <th>Time, s</th>\n",
       "      <th>Particles</th>\n",
       "      <th>I, 1/s</th>\n",
       "    </tr>\n",
       "  </thead>\n",
       "  <tbody>\n",
       "    <tr>\n",
       "      <th>0</th>\n",
       "      <td>0</td>\n",
       "      <td>874</td>\n",
       "      <td>123</td>\n",
       "      <td>1022286</td>\n",
       "      <td>8311.3</td>\n",
       "    </tr>\n",
       "    <tr>\n",
       "      <th>1</th>\n",
       "      <td>10</td>\n",
       "      <td>870</td>\n",
       "      <td>83</td>\n",
       "      <td>637287</td>\n",
       "      <td>7678.2</td>\n",
       "    </tr>\n",
       "    <tr>\n",
       "      <th>2</th>\n",
       "      <td>20</td>\n",
       "      <td>793</td>\n",
       "      <td>144</td>\n",
       "      <td>109962</td>\n",
       "      <td>722.0</td>\n",
       "    </tr>\n",
       "    <tr>\n",
       "      <th>3</th>\n",
       "      <td>30</td>\n",
       "      <td>749</td>\n",
       "      <td>102</td>\n",
       "      <td>55650</td>\n",
       "      <td>483.9</td>\n",
       "    </tr>\n",
       "    <tr>\n",
       "      <th>4</th>\n",
       "      <td>40</td>\n",
       "      <td>694</td>\n",
       "      <td>144</td>\n",
       "      <td>58260</td>\n",
       "      <td>404.6</td>\n",
       "    </tr>\n",
       "    <tr>\n",
       "      <th>5</th>\n",
       "      <td>50</td>\n",
       "      <td>589</td>\n",
       "      <td>160</td>\n",
       "      <td>50154</td>\n",
       "      <td>313.5</td>\n",
       "    </tr>\n",
       "    <tr>\n",
       "      <th>6</th>\n",
       "      <td>60</td>\n",
       "      <td>520</td>\n",
       "      <td>215</td>\n",
       "      <td>60058</td>\n",
       "      <td>279.3</td>\n",
       "    </tr>\n",
       "    <tr>\n",
       "      <th>7</th>\n",
       "      <td>70</td>\n",
       "      <td>466</td>\n",
       "      <td>223</td>\n",
       "      <td>57381</td>\n",
       "      <td>257.3</td>\n",
       "    </tr>\n",
       "    <tr>\n",
       "      <th>8</th>\n",
       "      <td>80</td>\n",
       "      <td>415</td>\n",
       "      <td>204</td>\n",
       "      <td>50305</td>\n",
       "      <td>246.6</td>\n",
       "    </tr>\n",
       "    <tr>\n",
       "      <th>9</th>\n",
       "      <td>90</td>\n",
       "      <td>380</td>\n",
       "      <td>200</td>\n",
       "      <td>47392</td>\n",
       "      <td>237.0</td>\n",
       "    </tr>\n",
       "    <tr>\n",
       "      <th>10</th>\n",
       "      <td>100</td>\n",
       "      <td>334</td>\n",
       "      <td>219</td>\n",
       "      <td>50399</td>\n",
       "      <td>230.1</td>\n",
       "    </tr>\n",
       "    <tr>\n",
       "      <th>11</th>\n",
       "      <td>110</td>\n",
       "      <td>311</td>\n",
       "      <td>266</td>\n",
       "      <td>60676</td>\n",
       "      <td>228.1</td>\n",
       "    </tr>\n",
       "    <tr>\n",
       "      <th>12</th>\n",
       "      <td>120</td>\n",
       "      <td>290</td>\n",
       "      <td>274</td>\n",
       "      <td>60984</td>\n",
       "      <td>222.6</td>\n",
       "    </tr>\n",
       "  </tbody>\n",
       "</table>\n",
       "</div>"
      ],
      "text/plain": [
       "    $\\theta$, °  Channel  Time, s  Particles  I, 1/s\n",
       "0             0      874      123    1022286  8311.3\n",
       "1            10      870       83     637287  7678.2\n",
       "2            20      793      144     109962   722.0\n",
       "3            30      749      102      55650   483.9\n",
       "4            40      694      144      58260   404.6\n",
       "5            50      589      160      50154   313.5\n",
       "6            60      520      215      60058   279.3\n",
       "7            70      466      223      57381   257.3\n",
       "8            80      415      204      50305   246.6\n",
       "9            90      380      200      47392   237.0\n",
       "10          100      334      219      50399   230.1\n",
       "11          110      311      266      60676   228.1\n",
       "12          120      290      274      60984   222.6"
      ]
     },
     "execution_count": 5,
     "metadata": {},
     "output_type": "execute_result"
    }
   ],
   "source": [
    "data = pd.read_csv(\"data.csv\")\n",
    "data"
   ]
  },
  {
   "cell_type": "markdown",
   "metadata": {},
   "source": [
    "Построим зависимость $\\frac{1}{N(\\theta)} = A(1-cos(\\theta))+\\frac{1}{N(0)}$ (*)"
   ]
  },
  {
   "cell_type": "markdown",
   "metadata": {},
   "source": [
    "Построим столбец $x = 1-cos(\\theta)$\n",
    "Не будем забывать также, что точность определения положения фотопика составляет примерно 1%"
   ]
  },
  {
   "cell_type": "code",
   "execution_count": 6,
   "metadata": {
    "collapsed": false
   },
   "outputs": [
    {
     "data": {
      "text/plain": [
       "array([ 1.  ,  0.98,  0.94,  0.87,  0.77,  0.64,  0.5 ,  0.34,  0.17,\n",
       "        0.  , -0.17, -0.34, -0.5 ])"
      ]
     },
     "execution_count": 6,
     "metadata": {},
     "output_type": "execute_result"
    }
   ],
   "source": [
    "varx = np.round(np.cos(np.array(data.values.T[0] * ((2*np.pi)/(360)))),2)\n",
    "varx"
   ]
  },
  {
   "cell_type": "code",
   "execution_count": 7,
   "metadata": {
    "collapsed": false
   },
   "outputs": [
    {
     "data": {
      "image/png": "[encoded data removed]",
      "text/plain": [
       "<matplotlib.figure.Figure at 0x7f54ec72a5d0>"
      ]
     },
     "metadata": {},
     "output_type": "display_data"
    }
   ],
   "source": [
    "plt.figure(num=None, figsize=(12, 6), dpi=80, facecolor='w', edgecolor='k')\n",
    "plt.subplot()\n",
    "\n",
    "x = varx\n",
    "y = 1/data.values.T[1]\n",
    "yerr = y*0.01\n",
    "coef,cov = np.polyfit(x, y, 1, cov=True)\n",
    "func = np.poly1d(coef)\n",
    "kerr, berr = np.sqrt(np.diag(cov))[0], np.sqrt(np.diag(cov))[1]\n",
    "k,b = coef[0], coef[1]\n",
    "\n",
    "# calculate new x's and y's\n",
    "x_new = np.linspace(x[0], x[-1], 50)\n",
    "y_new = func(x_new)\n",
    "\n",
    "plt.xlabel('1-cos(theta)')\n",
    "plt.ylabel('1/N(theta)')\n",
    "plt.title(\"Graph of equation (*)\")\n",
    "plt.grid(True)\n",
    "\n",
    "\n",
    "plt.errorbar(x, y, yerr=yerr, fmt='k.',  color='r')\n",
    "plt.plot(x_new, y_new, 'k',  color='b')\n",
    "plt.text(0.7,0.0030,r'$k=$%f$\\pm$%f'%(k,kerr)+'\\n'+r'$b=$%f$\\pm$%f'%(b,berr))\n",
    "plt.show()"
   ]
  },
  {
   "cell_type": "markdown",
   "metadata": {},
   "source": [
    "Получаем, что "
   ]
  },
  {
   "cell_type": "code",
   "execution_count": 8,
   "metadata": {
    "collapsed": false
   },
   "outputs": [
    {
     "name": "stdout",
     "output_type": "stream",
     "text": [
      "N(0)= 883.4451 ± 4.40661\n",
      "N(90)= 373.02112 ± 1.58954\n"
     ]
    }
   ],
   "source": [
    "N90 = 1/b\n",
    "N90err = N90 * (berr/b)\n",
    "N0 = 1/func(1.0)\n",
    "N0err = N0 * np.sqrt(kerr**2 + berr**2)/(b-k)\n",
    "print \"N(0)= \" + str(round(N0,5)) + \" ± \" + str(round(N0err,5))\n",
    "print \"N(90)= \" + str(round(N90,5)) + \" ± \" + str(round(N90err, 5))"
   ]
  },
  {
   "cell_type": "markdown",
   "metadata": {},
   "source": [
    "Для начала, предположим, что рассеяние происходит на покоящихся электронаъ, т.е. $mc^2=511.8$кэВ. Тогда получим энергию $\\gamma$-лучей, испускаемых источником."
   ]
  },
  {
   "cell_type": "code",
   "execution_count": 9,
   "metadata": {
    "collapsed": false
   },
   "outputs": [
    {
     "name": "stdout",
     "output_type": "stream",
     "text": [
      "Egamma = 700327.65 ± 30256.97 эВ\n",
      "Относительная погрешность = 4.32 %\n"
     ]
    }
   ],
   "source": [
    "Ee = 8.2e-14 / (1.602176e-19) #электронвольт\n",
    "Egamma = Ee * ((N0-N90)/N90)\n",
    "Egammaerr = Egamma*(np.sqrt(((N0err**2 + N90err**2)/(N0-N90))**2 + (N90err/N90)**2))\n",
    "print \"Egamma = \" + str(round(Egamma,2)) + \" ± \" + str(round(Egammaerr,2)) + \" эВ\"\n",
    "print \"Относительная погрешность = \" + str(round(Egammaerr/Egamma,5)*100) + \" %\""
   ]
  },
  {
   "cell_type": "markdown",
   "metadata": {},
   "source": [
    "Ожидаемый результат был 662 кэВ, а мы получили 700 кэВ, это может быть связанно с неточностью выбора угла, недостаточной чувствительности оборудования (на каждое преобразование затрачивается около 20 мкс, в течение этого времени система \"не чувствует\" приходящие от ФЭУ импульсы), ..."
   ]
  },
  {
   "cell_type": "markdown",
   "metadata": {
    "collapsed": true
   },
   "source": [
    "Теперь, будем считать, что $E_{\\gamma}= 662$кэВ, тогда определим энергию покоя частицы на которой происходит комптоновское рассеяние."
   ]
  },
  {
   "cell_type": "code",
   "execution_count": 14,
   "metadata": {
    "collapsed": false
   },
   "outputs": [
    {
     "name": "stdout",
     "output_type": "stream",
     "text": [
      "Eпокоя= 483793.86 ± 20901.84\n",
      "Относительная погрешность = 4.32 %\n"
     ]
    }
   ],
   "source": [
    "Ex = 662e03 * (N90/(N0-N90))\n",
    "Exerr = Ex * (np.sqrt(((N0err**2 + N90err**2)/(N0-N90))**2 + (N90err/N90)**2))\n",
    "print \"Eпокоя= \" + str(round(Ex,2)) + \" ± \" +  str(round(Exerr,2)) \n",
    "print \"Относительная погрешность = \" + str(round(Exerr/Ex,5)*100) + \" %\""
   ]
  },
  {
   "cell_type": "code",
   "execution_count": null,
   "metadata": {
    "collapsed": true
   },
   "outputs": [],
   "source": []
  }
 ],
 "metadata": {
  "kernelspec": {
   "display_name": "Python 2",
   "language": "python",
   "name": "python2"
  },
  "language_info": {
   "codemirror_mode": {
    "name": "ipython",
    "version": 2
   },
   "file_extension": ".py",
   "mimetype": "text/x-python",
   "name": "python",
   "nbconvert_exporter": "python",
   "pygments_lexer": "ipython2",
   "version": "2.7.12"
  }
 },
 "nbformat": 4,
 "nbformat_minor": 1
}
